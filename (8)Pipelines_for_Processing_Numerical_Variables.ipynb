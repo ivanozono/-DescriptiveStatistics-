{
  "cells": [
    {
      "cell_type": "markdown",
      "source": [
        "# Pipelines for Processing Numerical Variables\n",
        "\n",
        "In this notebook, we will explore the concept of pipelines for processing numerical variables in the context of data science. This is a crucial aspect of data preprocessing, especially when preparing data for machine learning algorithms.\n",
        "\n",
        "A pipeline in data science is a sequence of data processing elements where the output of one element is the input of the next one. These elements can be data transformations, data imputations, model training steps, etc. The main goal of a pipeline is to ensure the correct execution order of the processing elements and to encapsulate the whole process into a single unit.\n",
        "\n",
        "We will focus on the following key steps:\n",
        "\n",
        "1. Importing necessary libraries\n",
        "2. Creating the pipeline\n",
        "3. Applying the pipeline to the data\n",
        "\n",
        "Let's get started!"
      ],
      "metadata": {
        "noteable": {
          "cell_type": "markdown"
        }
      },
      "id": "c09b413b-1da2-4953-a6ad-064aa67dc706"
    },
    {
      "cell_type": "code",
      "source": [
        "# Step 1: Importing necessary libraries\n",
        "\n",
        "from sklearn.pipeline import Pipeline\n",
        "from sklearn.preprocessing import StandardScaler\n",
        "from sklearn.impute import SimpleImputer\n",
        "\n",
        "# We import the necessary libraries for our pipeline.\n",
        "# 'Pipeline' from sklearn.pipeline is used to assemble several steps that can be cross-validated together.\n",
        "# 'StandardScaler' from sklearn.preprocessing is used to standardize features by removing the mean and scaling to unit variance.\n",
        "# 'SimpleImputer' from sklearn.impute is used to impute missing values."
      ],
      "outputs": [],
      "execution_count": null,
      "metadata": {
        "noteable": {
          "cell_type": "code"
        }
      },
      "id": "94a4c834-8d58-407c-b4be-974a31402ea7"
    },
    {
      "cell_type": "markdown",
      "source": [
        "## Step 2: Creating the Pipeline\n",
        "\n",
        "Now that we have imported the necessary libraries, we can proceed to create our pipeline. In this case, we will create a pipeline for numerical data. This pipeline will first impute any missing values with the median of the column, and then standardize the values to have a mean of 0 and a standard deviation of 1.\n",
        "\n",
        "This is a common preprocessing step in many machine learning workflows as it ensures that all numerical features are on the same scale and allows algorithms that are sensitive to the scale of the data, such as linear regression or support vector machines, to work correctly."
      ],
      "metadata": {
        "noteable": {
          "cell_type": "markdown"
        }
      },
      "id": "9ca29c41-816e-40f1-b6b3-0988f905cc09"
    },
    {
      "cell_type": "code",
      "source": [
        "# Step 2: Creating the pipeline\n",
        "\n",
        "num_pipeline = Pipeline([\n",
        "        ('imputer', SimpleImputer(strategy=\"median\")),\n",
        "        ('std_scaler', StandardScaler()),\n",
        "    ])\n",
        "\n",
        "# We create a pipeline that first replaces missing values with the median value of the column,\n",
        "# and then scales the values to have a mean of 0 and a standard deviation of 1."
      ],
      "outputs": [],
      "execution_count": null,
      "metadata": {
        "noteable": {
          "cell_type": "code"
        }
      },
      "id": "e27bc4d3-7c71-471e-a476-fd0457819917"
    },
    {
      "cell_type": "markdown",
      "source": [
        "## Step 3: Applying the Pipeline to the Data\n",
        "\n",
        "Once we have defined our pipeline, we can apply it to our data. For the purpose of this notebook, we will assume that `num_data` is a pandas DataFrame containing our numerical data. After applying the pipeline, the data will be ready for further processing or model training.\n",
        "\n",
        "Please note that in a real-world scenario, you would replace `num_data` with your actual DataFrame."
      ],
      "metadata": {
        "noteable": {
          "cell_type": "markdown"
        }
      },
      "id": "5f532401-0f07-4e52-92cc-37198530302e"
    },
    {
      "cell_type": "code",
      "source": [
        "# Step 3: Applying the pipeline to the data\n",
        "\n",
        "# num_data_prepared = num_pipeline.fit_transform(num_data)\n",
        "\n",
        "# We apply the pipeline to our data. This will replace missing values with the median and scale the values.\n",
        "# Please note that 'num_data' should be replaced with your actual DataFrame."
      ],
      "outputs": [],
      "execution_count": null,
      "metadata": {
        "noteable": {
          "cell_type": "code"
        }
      },
      "id": "0cf69c2e-5140-4a5f-af47-e5ef9d102d19"
    },
    {
      "cell_type": "markdown",
      "source": [
        "## Conclusion\n",
        "\n",
        "In this notebook, we have explored the concept of pipelines in data science, specifically for processing numerical variables. We have seen how to create a pipeline that imputes missing values with the median and standardizes the values to have a mean of 0 and a standard deviation of 1. This pipeline can be a powerful tool in your data science toolkit, as it allows for clean, reproducible preprocessing steps that can be easily integrated into your machine learning workflows.\n",
        "\n",
        "Remember, the key to a successful machine learning project is not only the model you choose, but also how you preprocess your data. A well-defined pipeline can help ensure that your data is in the best possible format for your machine learning algorithms."
      ],
      "metadata": {
        "noteable": {
          "cell_type": "markdown"
        }
      },
      "id": "d4fe9da7-c67e-4423-91a2-d3023cf44841"
    },
    {
      "cell_type": "markdown",
      "source": [
        "## Additional Preprocessing Techniques\n",
        "\n",
        "In addition to the median imputation and standard scaling we performed in our pipeline, there are several other preprocessing techniques that can be useful when working with numerical data. In this section, we will explore four of these techniques: Z-score normalization, Winsorizing, Min-Max scaling, and Clipping.\n",
        "\n",
        "To demonstrate these techniques, we will use the Boston Housing dataset from the sklearn.datasets module. This dataset contains information about various houses in Boston. There are 506 samples and 13 feature variables in this dataset. The objective is to predict the value of prices of the house using the given features."
      ],
      "metadata": {
        "noteable": {
          "cell_type": "markdown"
        }
      },
      "id": "6c579a85-c406-464e-ab8c-310cad850dba"
    },
    {
      "cell_type": "code",
      "source": [
        "# Importing necessary libraries and loading the data\n",
        "\n",
        "from sklearn.datasets import load_boston\n",
        "import pandas as pd\n",
        "import numpy as np\n",
        "from scipy.stats import zscore, mstats\n",
        "\n",
        "boston = load_boston()\n",
        "data = pd.DataFrame(boston.data, columns=boston.feature_names)\n",
        "data.head()"
      ],
      "outputs": [
        {
          "output_type": "display_data",
          "data": {
            "application/vnd.dataresource+json": {
              "schema": {
                "fields": [
                  {
                    "name": "index",
                    "type": "integer"
                  },
                  {
                    "name": "CRIM",
                    "type": "number"
                  },
                  {
                    "name": "ZN",
                    "type": "number"
                  },
                  {
                    "name": "INDUS",
                    "type": "number"
                  },
                  {
                    "name": "CHAS",
                    "type": "number"
                  },
                  {
                    "name": "NOX",
                    "type": "number"
                  },
                  {
                    "name": "RM",
                    "type": "number"
                  },
                  {
                    "name": "AGE",
                    "type": "number"
                  },
                  {
                    "name": "DIS",
                    "type": "number"
                  },
                  {
                    "name": "RAD",
                    "type": "number"
                  },
                  {
                    "name": "TAX",
                    "type": "number"
                  },
                  {
                    "name": "PTRATIO",
                    "type": "number"
                  },
                  {
                    "name": "B",
                    "type": "number"
                  },
                  {
                    "name": "LSTAT",
                    "type": "number"
                  }
                ],
                "primaryKey": [
                  "index"
                ],
                "pandas_version": "1.4.0"
              },
              "data": [
                {
                  "index": 0,
                  "CRIM": 0.00632,
                  "ZN": 18,
                  "INDUS": 2.31,
                  "CHAS": 0,
                  "NOX": 0.538,
                  "RM": 6.575,
                  "AGE": 65.2,
                  "DIS": 4.09,
                  "RAD": 1,
                  "TAX": 296,
                  "PTRATIO": 15.3,
                  "B": 396.9,
                  "LSTAT": 4.98
                },
                {
                  "index": 1,
                  "CRIM": 0.02731,
                  "ZN": 0,
                  "INDUS": 7.07,
                  "CHAS": 0,
                  "NOX": 0.469,
                  "RM": 6.421,
                  "AGE": 78.9,
                  "DIS": 4.9671,
                  "RAD": 2,
                  "TAX": 242,
                  "PTRATIO": 17.8,
                  "B": 396.9,
                  "LSTAT": 9.14
                },
                {
                  "index": 2,
                  "CRIM": 0.02729,
                  "ZN": 0,
                  "INDUS": 7.07,
                  "CHAS": 0,
                  "NOX": 0.469,
                  "RM": 7.185,
                  "AGE": 61.1,
                  "DIS": 4.9671,
                  "RAD": 2,
                  "TAX": 242,
                  "PTRATIO": 17.8,
                  "B": 392.83,
                  "LSTAT": 4.03
                },
                {
                  "index": 3,
                  "CRIM": 0.03237,
                  "ZN": 0,
                  "INDUS": 2.18,
                  "CHAS": 0,
                  "NOX": 0.458,
                  "RM": 6.998,
                  "AGE": 45.8,
                  "DIS": 6.0622,
                  "RAD": 3,
                  "TAX": 222,
                  "PTRATIO": 18.7,
                  "B": 394.63,
                  "LSTAT": 2.94
                },
                {
                  "index": 4,
                  "CRIM": 0.06905,
                  "ZN": 0,
                  "INDUS": 2.18,
                  "CHAS": 0,
                  "NOX": 0.458,
                  "RM": 7.147,
                  "AGE": 54.2,
                  "DIS": 6.0622,
                  "RAD": 3,
                  "TAX": 222,
                  "PTRATIO": 18.7,
                  "B": 396.9,
                  "LSTAT": 5.33
                }
              ],
              "datalink": {
                "display_id": "f02a60cb-2cd4-457c-a31a-702891371d8f"
              }
            }
          },
          "metadata": {
            "application/vnd.dataresource+json": {
              "datalink": {
                "dataframe_info": {
                  "default_index_used": true,
                  "orig_size_bytes": 560,
                  "orig_num_rows": 5,
                  "orig_num_cols": 13,
                  "truncated_string_columns": [],
                  "truncated_size_bytes": 560,
                  "truncated_num_rows": 5,
                  "truncated_num_cols": 13
                },
                "dx_settings": {
                  "NUM_PAST_SAMPLES_TRACKED": 3,
                  "ENABLE_DATALINK": true,
                  "DISPLAY_MODE": "simple",
                  "GENERATE_DEX_METADATA": false,
                  "STRINGIFY_INDEX_VALUES": false,
                  "ALLOW_NOTEABLE_ATTRS": true,
                  "DISPLAY_MAX_COLUMNS": 100,
                  "HTML_TABLE_SCHEMA": false,
                  "SAMPLING_FACTOR": 0.1,
                  "LOG_LEVEL": 30,
                  "ENABLE_ASSIGNMENT": true,
                  "FLATTEN_INDEX_VALUES": false,
                  "DEV_MODE": false,
                  "COLUMN_SAMPLING_METHOD": "outer",
                  "FLATTEN_COLUMN_VALUES": true,
                  "DISPLAY_MAX_ROWS": 50000,
                  "ROW_SAMPLING_METHOD": "random",
                  "RANDOM_STATE": 12648430,
                  "DB_LOCATION": ":memory:",
                  "STRINGIFY_COLUMN_VALUES": true,
                  "SAMPLING_METHOD": "random",
                  "MAX_STRING_LENGTH": 250,
                  "MAX_RENDER_SIZE_BYTES": 104857600,
                  "RESET_INDEX_VALUES": false
                },
                "display_id": "f02a60cb-2cd4-457c-a31a-702891371d8f",
                "applied_filters": [],
                "sample_history": [],
                "sampling_time": "2023-07-06T18:26:25.947498",
                "variable_name": "unk_dataframe_c92c78b6a1e94dfeab1176eae02ff09d",
                "user_variable_name": null
              },
              "display_id": "f02a60cb-2cd4-457c-a31a-702891371d8f"
            }
          }
        }
      ],
      "execution_count": null,
      "metadata": {
        "noteable": {
          "cell_type": "code"
        },
        "ExecuteTime": {
          "end_time": "2023-07-06T18:26:26.105536+00:00",
          "start_time": "2023-07-06T18:26:25.525611+00:00"
        },
        "datalink": {
          "f02a60cb-2cd4-457c-a31a-702891371d8f": {
            "applied_filters": [],
            "dataframe_info": {
              "default_index_used": true,
              "orig_num_cols": 13,
              "orig_num_rows": 5,
              "orig_size_bytes": 560,
              "truncated_num_cols": 13,
              "truncated_num_rows": 5,
              "truncated_size_bytes": 560,
              "truncated_string_columns": []
            },
            "display_id": "f02a60cb-2cd4-457c-a31a-702891371d8f",
            "dx_settings": {
              "ALLOW_NOTEABLE_ATTRS": true,
              "COLUMN_SAMPLING_METHOD": "outer",
              "DB_LOCATION": ":memory:",
              "DEV_MODE": false,
              "DISPLAY_MAX_COLUMNS": 100,
              "DISPLAY_MAX_ROWS": 50000,
              "DISPLAY_MODE": "simple",
              "ENABLE_ASSIGNMENT": true,
              "ENABLE_DATALINK": true,
              "FLATTEN_COLUMN_VALUES": true,
              "FLATTEN_INDEX_VALUES": false,
              "GENERATE_DEX_METADATA": false,
              "HTML_TABLE_SCHEMA": false,
              "LOG_LEVEL": 30,
              "MAX_RENDER_SIZE_BYTES": 104857600,
              "MAX_STRING_LENGTH": 250,
              "NUM_PAST_SAMPLES_TRACKED": 3,
              "RANDOM_STATE": 12648430,
              "RESET_INDEX_VALUES": false,
              "ROW_SAMPLING_METHOD": "random",
              "SAMPLING_FACTOR": 0.1,
              "SAMPLING_METHOD": "random",
              "STRINGIFY_COLUMN_VALUES": true,
              "STRINGIFY_INDEX_VALUES": false
            },
            "sample_history": [],
            "sampling_time": "2023-07-06T18:26:25.947498",
            "user_variable_name": null,
            "variable_name": "unk_dataframe_c92c78b6a1e94dfeab1176eae02ff09d"
          }
        }
      },
      "id": "e4bba443-c4e3-41c1-96ba-8d9d79ad9af1"
    },
    {
      "cell_type": "markdown",
      "source": [
        "### Z-score Normalization\n",
        "\n",
        "Z-score normalization is a method of normalizing data that avoids some of the issues of simple min-max scaling. This method transforms the data into a distribution with a mean of 0 and a standard deviation of 1. Each transformed value is a 'Z-score', representing how many standard deviations away from the mean the original value was."
      ],
      "metadata": {
        "noteable": {
          "cell_type": "markdown"
        }
      },
      "id": "f7b5ae0d-5f1c-45ae-a41f-b119e05ab096"
    },
    {
      "cell_type": "code",
      "source": [
        "# Z-score Normalization\n",
        "\n",
        "data_zscore = data.apply(zscore)\n",
        "data_zscore.head()"
      ],
      "outputs": [
        {
          "output_type": "display_data",
          "data": {
            "application/vnd.dataresource+json": {
              "schema": {
                "fields": [
                  {
                    "name": "index",
                    "type": "integer"
                  },
                  {
                    "name": "CRIM",
                    "type": "number"
                  },
                  {
                    "name": "ZN",
                    "type": "number"
                  },
                  {
                    "name": "INDUS",
                    "type": "number"
                  },
                  {
                    "name": "CHAS",
                    "type": "number"
                  },
                  {
                    "name": "NOX",
                    "type": "number"
                  },
                  {
                    "name": "RM",
                    "type": "number"
                  },
                  {
                    "name": "AGE",
                    "type": "number"
                  },
                  {
                    "name": "DIS",
                    "type": "number"
                  },
                  {
                    "name": "RAD",
                    "type": "number"
                  },
                  {
                    "name": "TAX",
                    "type": "number"
                  },
                  {
                    "name": "PTRATIO",
                    "type": "number"
                  },
                  {
                    "name": "B",
                    "type": "number"
                  },
                  {
                    "name": "LSTAT",
                    "type": "number"
                  }
                ],
                "primaryKey": [
                  "index"
                ],
                "pandas_version": "1.4.0"
              },
              "data": [
                {
                  "index": 0,
                  "CRIM": -0.4197819386460083,
                  "ZN": 0.28482986096735546,
                  "INDUS": -1.287909498957745,
                  "CHAS": -0.27259856706992697,
                  "NOX": -0.14421743255530314,
                  "RM": 0.4136718893017581,
                  "AGE": -0.12001341619804987,
                  "DIS": 0.14021360349292905,
                  "RAD": -0.9828428567665056,
                  "TAX": -0.6666082090210984,
                  "PTRATIO": -1.4590003802772022,
                  "B": 0.4410519326070325,
                  "LSTAT": -1.0755623045678657
                },
                {
                  "index": 1,
                  "CRIM": -0.4173392644935286,
                  "ZN": -0.48772236467012914,
                  "INDUS": -0.5933810131002402,
                  "CHAS": -0.27259856706992697,
                  "NOX": -0.7402622069004932,
                  "RM": 0.19427445318162764,
                  "AGE": 0.36716641853177445,
                  "DIS": 0.5571598750882428,
                  "RAD": -0.8678825041257632,
                  "TAX": -0.9873294849630003,
                  "PTRATIO": -0.30309414801650153,
                  "B": 0.4410519326070325,
                  "LSTAT": -0.492439365735295
                },
                {
                  "index": 2,
                  "CRIM": -0.4173415919581808,
                  "ZN": -0.48772236467012914,
                  "INDUS": -0.5933810131002402,
                  "CHAS": -0.27259856706992697,
                  "NOX": -0.7402622069004932,
                  "RM": 1.282713681725651,
                  "AGE": -0.2658117608982163,
                  "DIS": 0.5571598750882428,
                  "RAD": -0.8678825041257632,
                  "TAX": -0.9873294849630003,
                  "PTRATIO": -0.30309414801650153,
                  "B": 0.39642699409025545,
                  "LSTAT": -1.208727398772419
                },
                {
                  "index": 3,
                  "CRIM": -0.416750415936523,
                  "ZN": -0.48772236467012914,
                  "INDUS": -1.3068777139076349,
                  "CHAS": -0.27259856706992697,
                  "NOX": -0.8352838375932041,
                  "RM": 1.0163025092940647,
                  "AGE": -0.8098885106329836,
                  "DIS": 1.0777366189304816,
                  "RAD": -0.7529221514850207,
                  "TAX": -1.1061151427192604,
                  "PTRATIO": 0.11303209559735014,
                  "B": 0.41616283913453045,
                  "LSTAT": -1.3615168226492227
                },
                {
                  "index": 4,
                  "CRIM": -0.41248184576439545,
                  "ZN": -0.48772236467012914,
                  "INDUS": -1.3068777139076349,
                  "CHAS": -0.27259856706992697,
                  "NOX": -0.8352838375932041,
                  "RM": 1.2285766520336716,
                  "AGE": -0.5111797068570327,
                  "DIS": 1.0777366189304816,
                  "RAD": -0.7529221514850207,
                  "TAX": -1.1061151427192604,
                  "PTRATIO": 0.11303209559735014,
                  "B": 0.4410519326070325,
                  "LSTAT": -1.0265014803872408
                }
              ],
              "datalink": {
                "display_id": "842bf5c2-aa54-479a-9784-594dcef91f71"
              }
            }
          },
          "metadata": {
            "application/vnd.dataresource+json": {
              "datalink": {
                "dataframe_info": {
                  "default_index_used": true,
                  "orig_size_bytes": 560,
                  "orig_num_rows": 5,
                  "orig_num_cols": 13,
                  "truncated_string_columns": [],
                  "truncated_size_bytes": 560,
                  "truncated_num_rows": 5,
                  "truncated_num_cols": 13
                },
                "dx_settings": {
                  "NUM_PAST_SAMPLES_TRACKED": 3,
                  "ENABLE_DATALINK": true,
                  "DISPLAY_MODE": "simple",
                  "GENERATE_DEX_METADATA": false,
                  "STRINGIFY_INDEX_VALUES": false,
                  "ALLOW_NOTEABLE_ATTRS": true,
                  "DISPLAY_MAX_COLUMNS": 100,
                  "HTML_TABLE_SCHEMA": false,
                  "SAMPLING_FACTOR": 0.1,
                  "LOG_LEVEL": 30,
                  "ENABLE_ASSIGNMENT": true,
                  "FLATTEN_INDEX_VALUES": false,
                  "DEV_MODE": false,
                  "COLUMN_SAMPLING_METHOD": "outer",
                  "FLATTEN_COLUMN_VALUES": true,
                  "DISPLAY_MAX_ROWS": 50000,
                  "ROW_SAMPLING_METHOD": "random",
                  "RANDOM_STATE": 12648430,
                  "DB_LOCATION": ":memory:",
                  "STRINGIFY_COLUMN_VALUES": true,
                  "SAMPLING_METHOD": "random",
                  "MAX_STRING_LENGTH": 250,
                  "MAX_RENDER_SIZE_BYTES": 104857600,
                  "RESET_INDEX_VALUES": false
                },
                "display_id": "842bf5c2-aa54-479a-9784-594dcef91f71",
                "applied_filters": [],
                "sample_history": [],
                "sampling_time": "2023-07-06T18:26:35.798055",
                "variable_name": "unk_dataframe_a22cafa7f14d4410a44dda39ff5fe592",
                "user_variable_name": null
              },
              "display_id": "842bf5c2-aa54-479a-9784-594dcef91f71"
            }
          }
        }
      ],
      "execution_count": null,
      "metadata": {
        "noteable": {
          "cell_type": "code"
        },
        "ExecuteTime": {
          "end_time": "2023-07-06T18:26:35.957243+00:00",
          "start_time": "2023-07-06T18:26:35.722307+00:00"
        },
        "datalink": {
          "842bf5c2-aa54-479a-9784-594dcef91f71": {
            "applied_filters": [],
            "dataframe_info": {
              "default_index_used": true,
              "orig_num_cols": 13,
              "orig_num_rows": 5,
              "orig_size_bytes": 560,
              "truncated_num_cols": 13,
              "truncated_num_rows": 5,
              "truncated_size_bytes": 560,
              "truncated_string_columns": []
            },
            "display_id": "842bf5c2-aa54-479a-9784-594dcef91f71",
            "dx_settings": {
              "ALLOW_NOTEABLE_ATTRS": true,
              "COLUMN_SAMPLING_METHOD": "outer",
              "DB_LOCATION": ":memory:",
              "DEV_MODE": false,
              "DISPLAY_MAX_COLUMNS": 100,
              "DISPLAY_MAX_ROWS": 50000,
              "DISPLAY_MODE": "simple",
              "ENABLE_ASSIGNMENT": true,
              "ENABLE_DATALINK": true,
              "FLATTEN_COLUMN_VALUES": true,
              "FLATTEN_INDEX_VALUES": false,
              "GENERATE_DEX_METADATA": false,
              "HTML_TABLE_SCHEMA": false,
              "LOG_LEVEL": 30,
              "MAX_RENDER_SIZE_BYTES": 104857600,
              "MAX_STRING_LENGTH": 250,
              "NUM_PAST_SAMPLES_TRACKED": 3,
              "RANDOM_STATE": 12648430,
              "RESET_INDEX_VALUES": false,
              "ROW_SAMPLING_METHOD": "random",
              "SAMPLING_FACTOR": 0.1,
              "SAMPLING_METHOD": "random",
              "STRINGIFY_COLUMN_VALUES": true,
              "STRINGIFY_INDEX_VALUES": false
            },
            "sample_history": [],
            "sampling_time": "2023-07-06T18:26:35.798055",
            "user_variable_name": null,
            "variable_name": "unk_dataframe_a22cafa7f14d4410a44dda39ff5fe592"
          }
        }
      },
      "id": "25f012d6-77e6-4280-acb5-9e4927d24604"
    },
    {
      "cell_type": "markdown",
      "source": [
        "### Winsorizing\n",
        "\n",
        "Winsorizing is a way to minimize the influence of outliers in your data. It involves setting all outliers to a specified percentile of the data; for example, a 90% Winsorization would see all data below the 5th percentile set to the 5th percentile, and all data above the 95th percentile set to the 95th percentile. This can be particularly useful when you have data that is subject to measurement errors or when outliers can skew your analysis."
      ],
      "metadata": {
        "noteable": {
          "cell_type": "markdown"
        }
      },
      "id": "8ba8d2a0-ad9a-43f6-800b-54cc41ed2084"
    },
    {
      "cell_type": "code",
      "source": [
        "# Winsorizing\n",
        "\n",
        "data_winsorized = data.apply(lambda x: mstats.winsorize(x, limits=[0.05, 0.05]))\n",
        "data_winsorized = pd.DataFrame(data_winsorized, columns=data.columns)\n",
        "data_winsorized.head()"
      ],
      "outputs": [
        {
          "output_type": "display_data",
          "data": {
            "application/vnd.dataresource+json": {
              "schema": {
                "fields": [
                  {
                    "name": "index",
                    "type": "integer"
                  },
                  {
                    "name": "CRIM",
                    "type": "number"
                  },
                  {
                    "name": "ZN",
                    "type": "number"
                  },
                  {
                    "name": "INDUS",
                    "type": "number"
                  },
                  {
                    "name": "CHAS",
                    "type": "number"
                  },
                  {
                    "name": "NOX",
                    "type": "number"
                  },
                  {
                    "name": "RM",
                    "type": "number"
                  },
                  {
                    "name": "AGE",
                    "type": "number"
                  },
                  {
                    "name": "DIS",
                    "type": "number"
                  },
                  {
                    "name": "RAD",
                    "type": "number"
                  },
                  {
                    "name": "TAX",
                    "type": "number"
                  },
                  {
                    "name": "PTRATIO",
                    "type": "number"
                  },
                  {
                    "name": "B",
                    "type": "number"
                  },
                  {
                    "name": "LSTAT",
                    "type": "number"
                  }
                ],
                "primaryKey": [
                  "index"
                ],
                "pandas_version": "1.4.0"
              },
              "data": [
                {
                  "index": 0,
                  "CRIM": 0.02763,
                  "ZN": 18,
                  "INDUS": 2.31,
                  "CHAS": 0,
                  "NOX": 0.538,
                  "RM": 6.575,
                  "AGE": 65.2,
                  "DIS": 4.09,
                  "RAD": 2,
                  "TAX": 296,
                  "PTRATIO": 15.3,
                  "B": 396.9,
                  "LSTAT": 4.98
                },
                {
                  "index": 1,
                  "CRIM": 0.02763,
                  "ZN": 0,
                  "INDUS": 7.07,
                  "CHAS": 0,
                  "NOX": 0.469,
                  "RM": 6.421,
                  "AGE": 78.9,
                  "DIS": 4.9671,
                  "RAD": 2,
                  "TAX": 242,
                  "PTRATIO": 17.8,
                  "B": 396.9,
                  "LSTAT": 9.14
                },
                {
                  "index": 2,
                  "CRIM": 0.02763,
                  "ZN": 0,
                  "INDUS": 7.07,
                  "CHAS": 0,
                  "NOX": 0.469,
                  "RM": 7.185,
                  "AGE": 61.1,
                  "DIS": 4.9671,
                  "RAD": 2,
                  "TAX": 242,
                  "PTRATIO": 17.8,
                  "B": 392.83,
                  "LSTAT": 4.03
                },
                {
                  "index": 3,
                  "CRIM": 0.03237,
                  "ZN": 0,
                  "INDUS": 2.18,
                  "CHAS": 0,
                  "NOX": 0.458,
                  "RM": 6.998,
                  "AGE": 45.8,
                  "DIS": 6.0622,
                  "RAD": 3,
                  "TAX": 222,
                  "PTRATIO": 18.7,
                  "B": 394.63,
                  "LSTAT": 3.7
                },
                {
                  "index": 4,
                  "CRIM": 0.06905,
                  "ZN": 0,
                  "INDUS": 2.18,
                  "CHAS": 0,
                  "NOX": 0.458,
                  "RM": 7.147,
                  "AGE": 54.2,
                  "DIS": 6.0622,
                  "RAD": 3,
                  "TAX": 222,
                  "PTRATIO": 18.7,
                  "B": 396.9,
                  "LSTAT": 5.33
                }
              ],
              "datalink": {
                "display_id": "28eb06c5-14ee-431c-ab41-cde8d87277e9"
              }
            }
          },
          "metadata": {
            "application/vnd.dataresource+json": {
              "datalink": {
                "dataframe_info": {
                  "default_index_used": true,
                  "orig_size_bytes": 560,
                  "orig_num_rows": 5,
                  "orig_num_cols": 13,
                  "truncated_string_columns": [],
                  "truncated_size_bytes": 560,
                  "truncated_num_rows": 5,
                  "truncated_num_cols": 13
                },
                "dx_settings": {
                  "NUM_PAST_SAMPLES_TRACKED": 3,
                  "ENABLE_DATALINK": true,
                  "DISPLAY_MODE": "simple",
                  "GENERATE_DEX_METADATA": false,
                  "STRINGIFY_INDEX_VALUES": false,
                  "ALLOW_NOTEABLE_ATTRS": true,
                  "DISPLAY_MAX_COLUMNS": 100,
                  "HTML_TABLE_SCHEMA": false,
                  "SAMPLING_FACTOR": 0.1,
                  "LOG_LEVEL": 30,
                  "ENABLE_ASSIGNMENT": true,
                  "FLATTEN_INDEX_VALUES": false,
                  "DEV_MODE": false,
                  "COLUMN_SAMPLING_METHOD": "outer",
                  "FLATTEN_COLUMN_VALUES": true,
                  "DISPLAY_MAX_ROWS": 50000,
                  "ROW_SAMPLING_METHOD": "random",
                  "RANDOM_STATE": 12648430,
                  "DB_LOCATION": ":memory:",
                  "STRINGIFY_COLUMN_VALUES": true,
                  "SAMPLING_METHOD": "random",
                  "MAX_STRING_LENGTH": 250,
                  "MAX_RENDER_SIZE_BYTES": 104857600,
                  "RESET_INDEX_VALUES": false
                },
                "display_id": "28eb06c5-14ee-431c-ab41-cde8d87277e9",
                "applied_filters": [],
                "sample_history": [],
                "sampling_time": "2023-07-06T18:27:06.577737",
                "variable_name": "unk_dataframe_2b1608295259465da4254acfb4ac3411",
                "user_variable_name": null
              },
              "display_id": "28eb06c5-14ee-431c-ab41-cde8d87277e9"
            }
          }
        }
      ],
      "execution_count": null,
      "metadata": {
        "noteable": {
          "cell_type": "code"
        },
        "ExecuteTime": {
          "end_time": "2023-07-06T18:27:06.735068+00:00",
          "start_time": "2023-07-06T18:27:06.506597+00:00"
        },
        "datalink": {
          "28eb06c5-14ee-431c-ab41-cde8d87277e9": {
            "applied_filters": [],
            "dataframe_info": {
              "default_index_used": true,
              "orig_num_cols": 13,
              "orig_num_rows": 5,
              "orig_size_bytes": 560,
              "truncated_num_cols": 13,
              "truncated_num_rows": 5,
              "truncated_size_bytes": 560,
              "truncated_string_columns": []
            },
            "display_id": "28eb06c5-14ee-431c-ab41-cde8d87277e9",
            "dx_settings": {
              "ALLOW_NOTEABLE_ATTRS": true,
              "COLUMN_SAMPLING_METHOD": "outer",
              "DB_LOCATION": ":memory:",
              "DEV_MODE": false,
              "DISPLAY_MAX_COLUMNS": 100,
              "DISPLAY_MAX_ROWS": 50000,
              "DISPLAY_MODE": "simple",
              "ENABLE_ASSIGNMENT": true,
              "ENABLE_DATALINK": true,
              "FLATTEN_COLUMN_VALUES": true,
              "FLATTEN_INDEX_VALUES": false,
              "GENERATE_DEX_METADATA": false,
              "HTML_TABLE_SCHEMA": false,
              "LOG_LEVEL": 30,
              "MAX_RENDER_SIZE_BYTES": 104857600,
              "MAX_STRING_LENGTH": 250,
              "NUM_PAST_SAMPLES_TRACKED": 3,
              "RANDOM_STATE": 12648430,
              "RESET_INDEX_VALUES": false,
              "ROW_SAMPLING_METHOD": "random",
              "SAMPLING_FACTOR": 0.1,
              "SAMPLING_METHOD": "random",
              "STRINGIFY_COLUMN_VALUES": true,
              "STRINGIFY_INDEX_VALUES": false
            },
            "sample_history": [],
            "sampling_time": "2023-07-06T18:27:06.577737",
            "user_variable_name": null,
            "variable_name": "unk_dataframe_2b1608295259465da4254acfb4ac3411"
          }
        }
      },
      "id": "a44156dd-e583-465e-b6b3-6119924cf405"
    },
    {
      "cell_type": "markdown",
      "source": [
        "### Min-Max Scaling\n",
        "\n",
        "Min-Max scaling is one of the simplest methods to scale numerical data. The idea behind Min-Max scaling is to transform the data to fit within a specified range (usually 0 to 1), while still preserving the original distribution of the data. This can be particularly useful when you need to scale features for algorithms that are sensitive to the range of the input data, such as neural networks."
      ],
      "metadata": {
        "noteable": {
          "cell_type": "markdown"
        }
      },
      "id": "9a25eb5d-c8ea-4fe5-8460-d041d685dee9"
    },
    {
      "cell_type": "code",
      "source": [
        "# Min-Max Scaling\n",
        "\n",
        "from sklearn.preprocessing import MinMaxScaler\n",
        "\n",
        "scaler = MinMaxScaler()\n",
        "data_minmax = scaler.fit_transform(data)\n",
        "data_minmax = pd.DataFrame(data_minmax, columns=data.columns)\n",
        "data_minmax.head()"
      ],
      "outputs": [
        {
          "output_type": "display_data",
          "data": {
            "application/vnd.dataresource+json": {
              "schema": {
                "fields": [
                  {
                    "name": "index",
                    "type": "integer"
                  },
                  {
                    "name": "CRIM",
                    "type": "number"
                  },
                  {
                    "name": "ZN",
                    "type": "number"
                  },
                  {
                    "name": "INDUS",
                    "type": "number"
                  },
                  {
                    "name": "CHAS",
                    "type": "number"
                  },
                  {
                    "name": "NOX",
                    "type": "number"
                  },
                  {
                    "name": "RM",
                    "type": "number"
                  },
                  {
                    "name": "AGE",
                    "type": "number"
                  },
                  {
                    "name": "DIS",
                    "type": "number"
                  },
                  {
                    "name": "RAD",
                    "type": "number"
                  },
                  {
                    "name": "TAX",
                    "type": "number"
                  },
                  {
                    "name": "PTRATIO",
                    "type": "number"
                  },
                  {
                    "name": "B",
                    "type": "number"
                  },
                  {
                    "name": "LSTAT",
                    "type": "number"
                  }
                ],
                "primaryKey": [
                  "index"
                ],
                "pandas_version": "1.4.0"
              },
              "data": [
                {
                  "index": 0,
                  "CRIM": 0,
                  "ZN": 0.18,
                  "INDUS": 0.06781524926686218,
                  "CHAS": 0,
                  "NOX": 0.31481481481481477,
                  "RM": 0.5775052692086607,
                  "AGE": 0.6416065911431514,
                  "DIS": 0.26920313906646415,
                  "RAD": 0,
                  "TAX": 0.20801526717557245,
                  "PTRATIO": 0.2872340425531916,
                  "B": 0.9999999999999999,
                  "LSTAT": 0.08967991169977926
                },
                {
                  "index": 1,
                  "CRIM": 0.0002359225391784276,
                  "ZN": 0,
                  "INDUS": 0.2423020527859238,
                  "CHAS": 0,
                  "NOX": 0.17283950617283939,
                  "RM": 0.5479977007089482,
                  "AGE": 0.7826982492276005,
                  "DIS": 0.3489619801944185,
                  "RAD": 0.043478260869565216,
                  "TAX": 0.10496183206106868,
                  "PTRATIO": 0.5531914893617023,
                  "B": 0.9999999999999999,
                  "LSTAT": 0.2044701986754967
                },
                {
                  "index": 2,
                  "CRIM": 0.00023569774400055392,
                  "ZN": 0,
                  "INDUS": 0.2423020527859238,
                  "CHAS": 0,
                  "NOX": 0.17283950617283939,
                  "RM": 0.6943858976815481,
                  "AGE": 0.5993820803295572,
                  "DIS": 0.3489619801944185,
                  "RAD": 0.043478260869565216,
                  "TAX": 0.10496183206106868,
                  "PTRATIO": 0.5531914893617023,
                  "B": 0.9897372535175752,
                  "LSTAT": 0.06346578366445917
                },
                {
                  "index": 3,
                  "CRIM": 0.00029279571918046875,
                  "ZN": 0,
                  "INDUS": 0.06304985337243403,
                  "CHAS": 0,
                  "NOX": 0.15020576131687247,
                  "RM": 0.6585552787890402,
                  "AGE": 0.44181256436663235,
                  "DIS": 0.44854458983895457,
                  "RAD": 0.08695652173913043,
                  "TAX": 0.06679389312977096,
                  "PTRATIO": 0.6489361702127658,
                  "B": 0.9942760603156993,
                  "LSTAT": 0.03338852097130243
                },
                {
                  "index": 4,
                  "CRIM": 0.0007050700754007986,
                  "ZN": 0,
                  "INDUS": 0.06304985337243403,
                  "CHAS": 0,
                  "NOX": 0.15020576131687247,
                  "RM": 0.6871048093504503,
                  "AGE": 0.5283213182286303,
                  "DIS": 0.44854458983895457,
                  "RAD": 0.08695652173913043,
                  "TAX": 0.06679389312977096,
                  "PTRATIO": 0.6489361702127658,
                  "B": 0.9999999999999999,
                  "LSTAT": 0.09933774834437087
                }
              ],
              "datalink": {
                "display_id": "3d5be2fc-9e32-46a7-b5bd-5ee68f9d6631"
              }
            }
          },
          "metadata": {
            "application/vnd.dataresource+json": {
              "datalink": {
                "dataframe_info": {
                  "default_index_used": true,
                  "orig_size_bytes": 560,
                  "orig_num_rows": 5,
                  "orig_num_cols": 13,
                  "truncated_string_columns": [],
                  "truncated_size_bytes": 560,
                  "truncated_num_rows": 5,
                  "truncated_num_cols": 13
                },
                "dx_settings": {
                  "NUM_PAST_SAMPLES_TRACKED": 3,
                  "ENABLE_DATALINK": true,
                  "DISPLAY_MODE": "simple",
                  "GENERATE_DEX_METADATA": false,
                  "STRINGIFY_INDEX_VALUES": false,
                  "ALLOW_NOTEABLE_ATTRS": true,
                  "DISPLAY_MAX_COLUMNS": 100,
                  "HTML_TABLE_SCHEMA": false,
                  "SAMPLING_FACTOR": 0.1,
                  "LOG_LEVEL": 30,
                  "ENABLE_ASSIGNMENT": true,
                  "FLATTEN_INDEX_VALUES": false,
                  "DEV_MODE": false,
                  "COLUMN_SAMPLING_METHOD": "outer",
                  "FLATTEN_COLUMN_VALUES": true,
                  "DISPLAY_MAX_ROWS": 50000,
                  "ROW_SAMPLING_METHOD": "random",
                  "RANDOM_STATE": 12648430,
                  "DB_LOCATION": ":memory:",
                  "STRINGIFY_COLUMN_VALUES": true,
                  "SAMPLING_METHOD": "random",
                  "MAX_STRING_LENGTH": 250,
                  "MAX_RENDER_SIZE_BYTES": 104857600,
                  "RESET_INDEX_VALUES": false
                },
                "display_id": "3d5be2fc-9e32-46a7-b5bd-5ee68f9d6631",
                "applied_filters": [],
                "sample_history": [],
                "sampling_time": "2023-07-06T18:27:16.121035",
                "variable_name": "unk_dataframe_2616c002343d4c798f01c675eef23f15",
                "user_variable_name": null
              },
              "display_id": "3d5be2fc-9e32-46a7-b5bd-5ee68f9d6631"
            }
          }
        }
      ],
      "execution_count": null,
      "metadata": {
        "noteable": {
          "cell_type": "code"
        },
        "ExecuteTime": {
          "end_time": "2023-07-06T18:27:16.279687+00:00",
          "start_time": "2023-07-06T18:27:16.038726+00:00"
        },
        "datalink": {
          "3d5be2fc-9e32-46a7-b5bd-5ee68f9d6631": {
            "applied_filters": [],
            "dataframe_info": {
              "default_index_used": true,
              "orig_num_cols": 13,
              "orig_num_rows": 5,
              "orig_size_bytes": 560,
              "truncated_num_cols": 13,
              "truncated_num_rows": 5,
              "truncated_size_bytes": 560,
              "truncated_string_columns": []
            },
            "display_id": "3d5be2fc-9e32-46a7-b5bd-5ee68f9d6631",
            "dx_settings": {
              "ALLOW_NOTEABLE_ATTRS": true,
              "COLUMN_SAMPLING_METHOD": "outer",
              "DB_LOCATION": ":memory:",
              "DEV_MODE": false,
              "DISPLAY_MAX_COLUMNS": 100,
              "DISPLAY_MAX_ROWS": 50000,
              "DISPLAY_MODE": "simple",
              "ENABLE_ASSIGNMENT": true,
              "ENABLE_DATALINK": true,
              "FLATTEN_COLUMN_VALUES": true,
              "FLATTEN_INDEX_VALUES": false,
              "GENERATE_DEX_METADATA": false,
              "HTML_TABLE_SCHEMA": false,
              "LOG_LEVEL": 30,
              "MAX_RENDER_SIZE_BYTES": 104857600,
              "MAX_STRING_LENGTH": 250,
              "NUM_PAST_SAMPLES_TRACKED": 3,
              "RANDOM_STATE": 12648430,
              "RESET_INDEX_VALUES": false,
              "ROW_SAMPLING_METHOD": "random",
              "SAMPLING_FACTOR": 0.1,
              "SAMPLING_METHOD": "random",
              "STRINGIFY_COLUMN_VALUES": true,
              "STRINGIFY_INDEX_VALUES": false
            },
            "sample_history": [],
            "sampling_time": "2023-07-06T18:27:16.121035",
            "user_variable_name": null,
            "variable_name": "unk_dataframe_2616c002343d4c798f01c675eef23f15"
          }
        }
      },
      "id": "d8ccdecd-89da-4f35-bf80-9db99f76b08c"
    },
    {
      "cell_type": "markdown",
      "source": [
        "### Clipping\n",
        "\n",
        "Clipping is another method to handle outliers in the data. This method involves setting a threshold value, and all the outliers beyond this threshold are set to the threshold. This can be particularly useful when you have data that is subject to measurement errors or when outliers can skew your analysis."
      ],
      "metadata": {
        "noteable": {
          "cell_type": "markdown"
        }
      },
      "id": "79dcd9cc-6c90-4453-b85d-02cdf3b9d71b"
    },
    {
      "cell_type": "code",
      "source": [
        "# Clipping\n",
        "\n",
        "data_clipped = data.clip(lower=data.quantile(0.05), upper=data.quantile(0.95))\n",
        "data_clipped.head()"
      ],
      "outputs": [
        {
          "output_type": "error",
          "ename": "ValueError",
          "evalue": "Must specify axis=0 or 1",
          "traceback": [
            "\u001b[0;31m---------------------------------------------------------------------------\u001b[0m",
            "\u001b[0;31mValueError\u001b[0m                                Traceback (most recent call last)",
            "\u001b[0;32m/tmp/ipykernel_7/3575090748.py\u001b[0m in \u001b[0;36m?\u001b[0;34m()\u001b[0m\n\u001b[0;32m----> 3\u001b[0;31m \u001b[0;31m# Clipping\u001b[0m\u001b[0;34m\u001b[0m\u001b[0;34m\u001b[0m\u001b[0m\n\u001b[0m\u001b[1;32m      4\u001b[0m \u001b[0;34m\u001b[0m\u001b[0m\n\u001b[1;32m      5\u001b[0m \u001b[0mdata_clipped\u001b[0m \u001b[0;34m=\u001b[0m \u001b[0mdata\u001b[0m\u001b[0;34m.\u001b[0m\u001b[0mclip\u001b[0m\u001b[0;34m(\u001b[0m\u001b[0mlower\u001b[0m\u001b[0;34m=\u001b[0m\u001b[0mdata\u001b[0m\u001b[0;34m.\u001b[0m\u001b[0mquantile\u001b[0m\u001b[0;34m(\u001b[0m\u001b[0;36m0.05\u001b[0m\u001b[0;34m)\u001b[0m\u001b[0;34m,\u001b[0m \u001b[0mupper\u001b[0m\u001b[0;34m=\u001b[0m\u001b[0mdata\u001b[0m\u001b[0;34m.\u001b[0m\u001b[0mquantile\u001b[0m\u001b[0;34m(\u001b[0m\u001b[0;36m0.95\u001b[0m\u001b[0;34m)\u001b[0m\u001b[0;34m)\u001b[0m\u001b[0;34m\u001b[0m\u001b[0;34m\u001b[0m\u001b[0m\n\u001b[1;32m      6\u001b[0m \u001b[0mdata_clipped\u001b[0m\u001b[0;34m.\u001b[0m\u001b[0mhead\u001b[0m\u001b[0;34m(\u001b[0m\u001b[0;34m)\u001b[0m\u001b[0;34m\u001b[0m\u001b[0;34m\u001b[0m\u001b[0m\n",
            "\u001b[0;32m/opt/conda/lib/python3.9/site-packages/pandas/util/_decorators.py\u001b[0m in \u001b[0;36m?\u001b[0;34m(*args, **kwargs)\u001b[0m\n\u001b[1;32m    327\u001b[0m                     \u001b[0mmsg\u001b[0m\u001b[0;34m.\u001b[0m\u001b[0mformat\u001b[0m\u001b[0;34m(\u001b[0m\u001b[0marguments\u001b[0m\u001b[0;34m=\u001b[0m\u001b[0m_format_argument_list\u001b[0m\u001b[0;34m(\u001b[0m\u001b[0mallow_args\u001b[0m\u001b[0;34m)\u001b[0m\u001b[0;34m)\u001b[0m\u001b[0;34m,\u001b[0m\u001b[0;34m\u001b[0m\u001b[0;34m\u001b[0m\u001b[0m\n\u001b[1;32m    328\u001b[0m                     \u001b[0mFutureWarning\u001b[0m\u001b[0;34m,\u001b[0m\u001b[0;34m\u001b[0m\u001b[0;34m\u001b[0m\u001b[0m\n\u001b[1;32m    329\u001b[0m                     \u001b[0mstacklevel\u001b[0m\u001b[0;34m=\u001b[0m\u001b[0mfind_stack_level\u001b[0m\u001b[0;34m(\u001b[0m\u001b[0;34m)\u001b[0m\u001b[0;34m,\u001b[0m\u001b[0;34m\u001b[0m\u001b[0;34m\u001b[0m\u001b[0m\n\u001b[1;32m    330\u001b[0m                 )\n\u001b[0;32m--> 331\u001b[0;31m             \u001b[0;32mreturn\u001b[0m \u001b[0mfunc\u001b[0m\u001b[0;34m(\u001b[0m\u001b[0;34m*\u001b[0m\u001b[0margs\u001b[0m\u001b[0;34m,\u001b[0m \u001b[0;34m**\u001b[0m\u001b[0mkwargs\u001b[0m\u001b[0;34m)\u001b[0m\u001b[0;34m\u001b[0m\u001b[0;34m\u001b[0m\u001b[0m\n\u001b[0m",
            "\u001b[0;32m/opt/conda/lib/python3.9/site-packages/pandas/core/frame.py\u001b[0m in \u001b[0;36m?\u001b[0;34m(self, lower, upper, axis, inplace, *args, **kwargs)\u001b[0m\n\u001b[1;32m  11837\u001b[0m         \u001b[0minplace\u001b[0m\u001b[0;34m:\u001b[0m \u001b[0mbool\u001b[0m \u001b[0;34m=\u001b[0m \u001b[0;32mFalse\u001b[0m\u001b[0;34m,\u001b[0m\u001b[0;34m\u001b[0m\u001b[0;34m\u001b[0m\u001b[0m\n\u001b[1;32m  11838\u001b[0m         \u001b[0;34m*\u001b[0m\u001b[0margs\u001b[0m\u001b[0;34m,\u001b[0m\u001b[0;34m\u001b[0m\u001b[0;34m\u001b[0m\u001b[0m\n\u001b[1;32m  11839\u001b[0m         \u001b[0;34m**\u001b[0m\u001b[0mkwargs\u001b[0m\u001b[0;34m,\u001b[0m\u001b[0;34m\u001b[0m\u001b[0;34m\u001b[0m\u001b[0m\n\u001b[1;32m  11840\u001b[0m     ) -> DataFrame | None:\n\u001b[0;32m> 11841\u001b[0;31m         \u001b[0;32mreturn\u001b[0m \u001b[0msuper\u001b[0m\u001b[0;34m(\u001b[0m\u001b[0;34m)\u001b[0m\u001b[0;34m.\u001b[0m\u001b[0mclip\u001b[0m\u001b[0;34m(\u001b[0m\u001b[0mlower\u001b[0m\u001b[0;34m,\u001b[0m \u001b[0mupper\u001b[0m\u001b[0;34m,\u001b[0m \u001b[0maxis\u001b[0m\u001b[0;34m,\u001b[0m \u001b[0minplace\u001b[0m\u001b[0;34m,\u001b[0m \u001b[0;34m*\u001b[0m\u001b[0margs\u001b[0m\u001b[0;34m,\u001b[0m \u001b[0;34m**\u001b[0m\u001b[0mkwargs\u001b[0m\u001b[0;34m)\u001b[0m\u001b[0;34m\u001b[0m\u001b[0;34m\u001b[0m\u001b[0m\n\u001b[0m",
            "\u001b[0;32m/opt/conda/lib/python3.9/site-packages/pandas/core/generic.py\u001b[0m in \u001b[0;36m?\u001b[0;34m(self, lower, upper, axis, inplace, *args, **kwargs)\u001b[0m\n\u001b[1;32m   8103\u001b[0m             \u001b[0;32mreturn\u001b[0m \u001b[0mself\u001b[0m\u001b[0;34m.\u001b[0m\u001b[0m_clip_with_scalar\u001b[0m\u001b[0;34m(\u001b[0m\u001b[0mlower\u001b[0m\u001b[0;34m,\u001b[0m \u001b[0mupper\u001b[0m\u001b[0;34m,\u001b[0m \u001b[0minplace\u001b[0m\u001b[0;34m=\u001b[0m\u001b[0minplace\u001b[0m\u001b[0;34m)\u001b[0m\u001b[0;34m\u001b[0m\u001b[0;34m\u001b[0m\u001b[0m\n\u001b[1;32m   8104\u001b[0m \u001b[0;34m\u001b[0m\u001b[0m\n\u001b[1;32m   8105\u001b[0m         \u001b[0mresult\u001b[0m \u001b[0;34m=\u001b[0m \u001b[0mself\u001b[0m\u001b[0;34m\u001b[0m\u001b[0;34m\u001b[0m\u001b[0m\n\u001b[1;32m   8106\u001b[0m         \u001b[0;32mif\u001b[0m \u001b[0mlower\u001b[0m \u001b[0;32mis\u001b[0m \u001b[0;32mnot\u001b[0m \u001b[0;32mNone\u001b[0m\u001b[0;34m:\u001b[0m\u001b[0;34m\u001b[0m\u001b[0;34m\u001b[0m\u001b[0m\n\u001b[0;32m-> 8107\u001b[0;31m             result = result._clip_with_one_bound(\n\u001b[0m\u001b[1;32m   8108\u001b[0m                 \u001b[0mlower\u001b[0m\u001b[0;34m,\u001b[0m \u001b[0mmethod\u001b[0m\u001b[0;34m=\u001b[0m\u001b[0mself\u001b[0m\u001b[0;34m.\u001b[0m\u001b[0mge\u001b[0m\u001b[0;34m,\u001b[0m \u001b[0maxis\u001b[0m\u001b[0;34m=\u001b[0m\u001b[0maxis\u001b[0m\u001b[0;34m,\u001b[0m \u001b[0minplace\u001b[0m\u001b[0;34m=\u001b[0m\u001b[0minplace\u001b[0m\u001b[0;34m\u001b[0m\u001b[0;34m\u001b[0m\u001b[0m\n\u001b[1;32m   8109\u001b[0m             )\n\u001b[1;32m   8110\u001b[0m         \u001b[0;32mif\u001b[0m \u001b[0mupper\u001b[0m \u001b[0;32mis\u001b[0m \u001b[0;32mnot\u001b[0m \u001b[0;32mNone\u001b[0m\u001b[0;34m:\u001b[0m\u001b[0;34m\u001b[0m\u001b[0;34m\u001b[0m\u001b[0m\n",
            "\u001b[0;32m/opt/conda/lib/python3.9/site-packages/pandas/core/generic.py\u001b[0m in \u001b[0;36m?\u001b[0;34m(self, threshold, method, axis, inplace)\u001b[0m\n\u001b[1;32m   7953\u001b[0m \u001b[0;34m\u001b[0m\u001b[0m\n\u001b[1;32m   7954\u001b[0m         \u001b[0msubset\u001b[0m \u001b[0;34m=\u001b[0m \u001b[0mmethod\u001b[0m\u001b[0;34m(\u001b[0m\u001b[0mthreshold_inf\u001b[0m\u001b[0;34m,\u001b[0m \u001b[0maxis\u001b[0m\u001b[0;34m=\u001b[0m\u001b[0maxis\u001b[0m\u001b[0;34m)\u001b[0m \u001b[0;34m|\u001b[0m \u001b[0misna\u001b[0m\u001b[0;34m(\u001b[0m\u001b[0mself\u001b[0m\u001b[0;34m)\u001b[0m\u001b[0;34m\u001b[0m\u001b[0;34m\u001b[0m\u001b[0m\n\u001b[1;32m   7955\u001b[0m \u001b[0;34m\u001b[0m\u001b[0m\n\u001b[1;32m   7956\u001b[0m         \u001b[0;31m# GH 40420\u001b[0m\u001b[0;34m\u001b[0m\u001b[0;34m\u001b[0m\u001b[0m\n\u001b[0;32m-> 7957\u001b[0;31m         \u001b[0;32mreturn\u001b[0m \u001b[0mself\u001b[0m\u001b[0;34m.\u001b[0m\u001b[0mwhere\u001b[0m\u001b[0;34m(\u001b[0m\u001b[0msubset\u001b[0m\u001b[0;34m,\u001b[0m \u001b[0mthreshold\u001b[0m\u001b[0;34m,\u001b[0m \u001b[0maxis\u001b[0m\u001b[0;34m=\u001b[0m\u001b[0maxis\u001b[0m\u001b[0;34m,\u001b[0m \u001b[0minplace\u001b[0m\u001b[0;34m=\u001b[0m\u001b[0minplace\u001b[0m\u001b[0;34m)\u001b[0m\u001b[0;34m\u001b[0m\u001b[0;34m\u001b[0m\u001b[0m\n\u001b[0m",
            "\u001b[0;32m/opt/conda/lib/python3.9/site-packages/pandas/util/_decorators.py\u001b[0m in \u001b[0;36m?\u001b[0;34m(*args, **kwargs)\u001b[0m\n\u001b[1;32m    207\u001b[0m                     )\n\u001b[1;32m    208\u001b[0m                     \u001b[0;32mraise\u001b[0m \u001b[0mTypeError\u001b[0m\u001b[0;34m(\u001b[0m\u001b[0mmsg\u001b[0m\u001b[0;34m)\u001b[0m\u001b[0;34m\u001b[0m\u001b[0;34m\u001b[0m\u001b[0m\n\u001b[1;32m    209\u001b[0m                 \u001b[0;32melse\u001b[0m\u001b[0;34m:\u001b[0m\u001b[0;34m\u001b[0m\u001b[0;34m\u001b[0m\u001b[0m\n\u001b[1;32m    210\u001b[0m                     \u001b[0mkwargs\u001b[0m\u001b[0;34m[\u001b[0m\u001b[0mnew_arg_name\u001b[0m\u001b[0;34m]\u001b[0m \u001b[0;34m=\u001b[0m \u001b[0mnew_arg_value\u001b[0m\u001b[0;34m\u001b[0m\u001b[0;34m\u001b[0m\u001b[0m\n\u001b[0;32m--> 211\u001b[0;31m             \u001b[0;32mreturn\u001b[0m \u001b[0mfunc\u001b[0m\u001b[0;34m(\u001b[0m\u001b[0;34m*\u001b[0m\u001b[0margs\u001b[0m\u001b[0;34m,\u001b[0m \u001b[0;34m**\u001b[0m\u001b[0mkwargs\u001b[0m\u001b[0;34m)\u001b[0m\u001b[0;34m\u001b[0m\u001b[0;34m\u001b[0m\u001b[0m\n\u001b[0m",
            "\u001b[0;32m/opt/conda/lib/python3.9/site-packages/pandas/util/_decorators.py\u001b[0m in \u001b[0;36m?\u001b[0;34m(*args, **kwargs)\u001b[0m\n\u001b[1;32m    327\u001b[0m                     \u001b[0mmsg\u001b[0m\u001b[0;34m.\u001b[0m\u001b[0mformat\u001b[0m\u001b[0;34m(\u001b[0m\u001b[0marguments\u001b[0m\u001b[0;34m=\u001b[0m\u001b[0m_format_argument_list\u001b[0m\u001b[0;34m(\u001b[0m\u001b[0mallow_args\u001b[0m\u001b[0;34m)\u001b[0m\u001b[0;34m)\u001b[0m\u001b[0;34m,\u001b[0m\u001b[0;34m\u001b[0m\u001b[0;34m\u001b[0m\u001b[0m\n\u001b[1;32m    328\u001b[0m                     \u001b[0mFutureWarning\u001b[0m\u001b[0;34m,\u001b[0m\u001b[0;34m\u001b[0m\u001b[0;34m\u001b[0m\u001b[0m\n\u001b[1;32m    329\u001b[0m                     \u001b[0mstacklevel\u001b[0m\u001b[0;34m=\u001b[0m\u001b[0mfind_stack_level\u001b[0m\u001b[0;34m(\u001b[0m\u001b[0;34m)\u001b[0m\u001b[0;34m,\u001b[0m\u001b[0;34m\u001b[0m\u001b[0;34m\u001b[0m\u001b[0m\n\u001b[1;32m    330\u001b[0m                 )\n\u001b[0;32m--> 331\u001b[0;31m             \u001b[0;32mreturn\u001b[0m \u001b[0mfunc\u001b[0m\u001b[0;34m(\u001b[0m\u001b[0;34m*\u001b[0m\u001b[0margs\u001b[0m\u001b[0;34m,\u001b[0m \u001b[0;34m**\u001b[0m\u001b[0mkwargs\u001b[0m\u001b[0;34m)\u001b[0m\u001b[0;34m\u001b[0m\u001b[0;34m\u001b[0m\u001b[0m\n\u001b[0m",
            "\u001b[0;32m/opt/conda/lib/python3.9/site-packages/pandas/core/frame.py\u001b[0m in \u001b[0;36m?\u001b[0;34m(self, cond, other, inplace, axis, level, errors, try_cast)\u001b[0m\n\u001b[1;32m  11919\u001b[0m         \u001b[0mlevel\u001b[0m\u001b[0;34m:\u001b[0m \u001b[0mLevel\u001b[0m \u001b[0;34m=\u001b[0m \u001b[0;32mNone\u001b[0m\u001b[0;34m,\u001b[0m\u001b[0;34m\u001b[0m\u001b[0;34m\u001b[0m\u001b[0m\n\u001b[1;32m  11920\u001b[0m         \u001b[0merrors\u001b[0m\u001b[0;34m:\u001b[0m \u001b[0mIgnoreRaise\u001b[0m \u001b[0;34m|\u001b[0m \u001b[0mlib\u001b[0m\u001b[0;34m.\u001b[0m\u001b[0mNoDefault\u001b[0m \u001b[0;34m=\u001b[0m \u001b[0;34m\"raise\"\u001b[0m\u001b[0;34m,\u001b[0m\u001b[0;34m\u001b[0m\u001b[0;34m\u001b[0m\u001b[0m\n\u001b[1;32m  11921\u001b[0m         \u001b[0mtry_cast\u001b[0m\u001b[0;34m:\u001b[0m \u001b[0mbool\u001b[0m \u001b[0;34m|\u001b[0m \u001b[0mlib\u001b[0m\u001b[0;34m.\u001b[0m\u001b[0mNoDefault\u001b[0m \u001b[0;34m=\u001b[0m \u001b[0mlib\u001b[0m\u001b[0;34m.\u001b[0m\u001b[0mno_default\u001b[0m\u001b[0;34m,\u001b[0m\u001b[0;34m\u001b[0m\u001b[0;34m\u001b[0m\u001b[0m\n\u001b[1;32m  11922\u001b[0m     ) -> DataFrame | None:\n\u001b[0;32m> 11923\u001b[0;31m         return super().where(\n\u001b[0m\u001b[1;32m  11924\u001b[0m             \u001b[0mcond\u001b[0m\u001b[0;34m,\u001b[0m\u001b[0;34m\u001b[0m\u001b[0;34m\u001b[0m\u001b[0m\n\u001b[1;32m  11925\u001b[0m             \u001b[0mother\u001b[0m\u001b[0;34m,\u001b[0m\u001b[0;34m\u001b[0m\u001b[0;34m\u001b[0m\u001b[0m\n\u001b[1;32m  11926\u001b[0m             \u001b[0minplace\u001b[0m\u001b[0;34m=\u001b[0m\u001b[0minplace\u001b[0m\u001b[0;34m,\u001b[0m\u001b[0;34m\u001b[0m\u001b[0;34m\u001b[0m\u001b[0m\n",
            "\u001b[0;32m/opt/conda/lib/python3.9/site-packages/pandas/util/_decorators.py\u001b[0m in \u001b[0;36m?\u001b[0;34m(*args, **kwargs)\u001b[0m\n\u001b[1;32m    207\u001b[0m                     )\n\u001b[1;32m    208\u001b[0m                     \u001b[0;32mraise\u001b[0m \u001b[0mTypeError\u001b[0m\u001b[0;34m(\u001b[0m\u001b[0mmsg\u001b[0m\u001b[0;34m)\u001b[0m\u001b[0;34m\u001b[0m\u001b[0;34m\u001b[0m\u001b[0m\n\u001b[1;32m    209\u001b[0m                 \u001b[0;32melse\u001b[0m\u001b[0;34m:\u001b[0m\u001b[0;34m\u001b[0m\u001b[0;34m\u001b[0m\u001b[0m\n\u001b[1;32m    210\u001b[0m                     \u001b[0mkwargs\u001b[0m\u001b[0;34m[\u001b[0m\u001b[0mnew_arg_name\u001b[0m\u001b[0;34m]\u001b[0m \u001b[0;34m=\u001b[0m \u001b[0mnew_arg_value\u001b[0m\u001b[0;34m\u001b[0m\u001b[0;34m\u001b[0m\u001b[0m\n\u001b[0;32m--> 211\u001b[0;31m             \u001b[0;32mreturn\u001b[0m \u001b[0mfunc\u001b[0m\u001b[0;34m(\u001b[0m\u001b[0;34m*\u001b[0m\u001b[0margs\u001b[0m\u001b[0;34m,\u001b[0m \u001b[0;34m**\u001b[0m\u001b[0mkwargs\u001b[0m\u001b[0;34m)\u001b[0m\u001b[0;34m\u001b[0m\u001b[0;34m\u001b[0m\u001b[0m\n\u001b[0m",
            "\u001b[0;32m/opt/conda/lib/python3.9/site-packages/pandas/util/_decorators.py\u001b[0m in \u001b[0;36m?\u001b[0;34m(*args, **kwargs)\u001b[0m\n\u001b[1;32m    327\u001b[0m                     \u001b[0mmsg\u001b[0m\u001b[0;34m.\u001b[0m\u001b[0mformat\u001b[0m\u001b[0;34m(\u001b[0m\u001b[0marguments\u001b[0m\u001b[0;34m=\u001b[0m\u001b[0m_format_argument_list\u001b[0m\u001b[0;34m(\u001b[0m\u001b[0mallow_args\u001b[0m\u001b[0;34m)\u001b[0m\u001b[0;34m)\u001b[0m\u001b[0;34m,\u001b[0m\u001b[0;34m\u001b[0m\u001b[0;34m\u001b[0m\u001b[0m\n\u001b[1;32m    328\u001b[0m                     \u001b[0mFutureWarning\u001b[0m\u001b[0;34m,\u001b[0m\u001b[0;34m\u001b[0m\u001b[0;34m\u001b[0m\u001b[0m\n\u001b[1;32m    329\u001b[0m                     \u001b[0mstacklevel\u001b[0m\u001b[0;34m=\u001b[0m\u001b[0mfind_stack_level\u001b[0m\u001b[0;34m(\u001b[0m\u001b[0;34m)\u001b[0m\u001b[0;34m,\u001b[0m\u001b[0;34m\u001b[0m\u001b[0;34m\u001b[0m\u001b[0m\n\u001b[1;32m    330\u001b[0m                 )\n\u001b[0;32m--> 331\u001b[0;31m             \u001b[0;32mreturn\u001b[0m \u001b[0mfunc\u001b[0m\u001b[0;34m(\u001b[0m\u001b[0;34m*\u001b[0m\u001b[0margs\u001b[0m\u001b[0;34m,\u001b[0m \u001b[0;34m**\u001b[0m\u001b[0mkwargs\u001b[0m\u001b[0;34m)\u001b[0m\u001b[0;34m\u001b[0m\u001b[0;34m\u001b[0m\u001b[0m\n\u001b[0m",
            "\u001b[0;32m/opt/conda/lib/python3.9/site-packages/pandas/core/generic.py\u001b[0m in \u001b[0;36m?\u001b[0;34m(self, cond, other, inplace, axis, level, errors, try_cast)\u001b[0m\n\u001b[1;32m   9964\u001b[0m                 \u001b[0mFutureWarning\u001b[0m\u001b[0;34m,\u001b[0m\u001b[0;34m\u001b[0m\u001b[0;34m\u001b[0m\u001b[0m\n\u001b[1;32m   9965\u001b[0m                 \u001b[0mstacklevel\u001b[0m\u001b[0;34m=\u001b[0m\u001b[0mfind_stack_level\u001b[0m\u001b[0;34m(\u001b[0m\u001b[0;34m)\u001b[0m\u001b[0;34m,\u001b[0m\u001b[0;34m\u001b[0m\u001b[0;34m\u001b[0m\u001b[0m\n\u001b[1;32m   9966\u001b[0m             )\n\u001b[1;32m   9967\u001b[0m \u001b[0;34m\u001b[0m\u001b[0m\n\u001b[0;32m-> 9968\u001b[0;31m         \u001b[0;32mreturn\u001b[0m \u001b[0mself\u001b[0m\u001b[0;34m.\u001b[0m\u001b[0m_where\u001b[0m\u001b[0;34m(\u001b[0m\u001b[0mcond\u001b[0m\u001b[0;34m,\u001b[0m \u001b[0mother\u001b[0m\u001b[0;34m,\u001b[0m \u001b[0minplace\u001b[0m\u001b[0;34m,\u001b[0m \u001b[0maxis\u001b[0m\u001b[0;34m,\u001b[0m \u001b[0mlevel\u001b[0m\u001b[0;34m)\u001b[0m\u001b[0;34m\u001b[0m\u001b[0;34m\u001b[0m\u001b[0m\n\u001b[0m",
            "\u001b[0;32m/opt/conda/lib/python3.9/site-packages/pandas/core/generic.py\u001b[0m in \u001b[0;36m?\u001b[0;34m(self, cond, other, inplace, axis, level)\u001b[0m\n\u001b[1;32m   9667\u001b[0m \u001b[0;34m\u001b[0m\u001b[0m\n\u001b[1;32m   9668\u001b[0m             \u001b[0;31m# align with me\u001b[0m\u001b[0;34m\u001b[0m\u001b[0;34m\u001b[0m\u001b[0m\n\u001b[1;32m   9669\u001b[0m             \u001b[0;32mif\u001b[0m \u001b[0mother\u001b[0m\u001b[0;34m.\u001b[0m\u001b[0mndim\u001b[0m \u001b[0;34m<=\u001b[0m \u001b[0mself\u001b[0m\u001b[0;34m.\u001b[0m\u001b[0mndim\u001b[0m\u001b[0;34m:\u001b[0m\u001b[0;34m\u001b[0m\u001b[0;34m\u001b[0m\u001b[0m\n\u001b[1;32m   9670\u001b[0m \u001b[0;34m\u001b[0m\u001b[0m\n\u001b[0;32m-> 9671\u001b[0;31m                 _, other = self.align(\n\u001b[0m\u001b[1;32m   9672\u001b[0m                     \u001b[0mother\u001b[0m\u001b[0;34m,\u001b[0m\u001b[0;34m\u001b[0m\u001b[0;34m\u001b[0m\u001b[0m\n\u001b[1;32m   9673\u001b[0m                     \u001b[0mjoin\u001b[0m\u001b[0;34m=\u001b[0m\u001b[0;34m\"left\"\u001b[0m\u001b[0;34m,\u001b[0m\u001b[0;34m\u001b[0m\u001b[0;34m\u001b[0m\u001b[0m\n\u001b[1;32m   9674\u001b[0m                     \u001b[0maxis\u001b[0m\u001b[0;34m=\u001b[0m\u001b[0maxis\u001b[0m\u001b[0;34m,\u001b[0m\u001b[0;34m\u001b[0m\u001b[0;34m\u001b[0m\u001b[0m\n",
            "\u001b[0;32m/opt/conda/lib/python3.9/site-packages/pandas/core/frame.py\u001b[0m in \u001b[0;36m?\u001b[0;34m(self, other, join, axis, level, copy, fill_value, method, limit, fill_axis, broadcast_axis)\u001b[0m\n\u001b[1;32m   5086\u001b[0m         \u001b[0mlimit\u001b[0m\u001b[0;34m:\u001b[0m \u001b[0mint\u001b[0m \u001b[0;34m|\u001b[0m \u001b[0;32mNone\u001b[0m \u001b[0;34m=\u001b[0m \u001b[0;32mNone\u001b[0m\u001b[0;34m,\u001b[0m\u001b[0;34m\u001b[0m\u001b[0;34m\u001b[0m\u001b[0m\n\u001b[1;32m   5087\u001b[0m         \u001b[0mfill_axis\u001b[0m\u001b[0;34m:\u001b[0m \u001b[0mAxis\u001b[0m \u001b[0;34m=\u001b[0m \u001b[0;36m0\u001b[0m\u001b[0;34m,\u001b[0m\u001b[0;34m\u001b[0m\u001b[0;34m\u001b[0m\u001b[0m\n\u001b[1;32m   5088\u001b[0m         \u001b[0mbroadcast_axis\u001b[0m\u001b[0;34m:\u001b[0m \u001b[0mAxis\u001b[0m \u001b[0;34m|\u001b[0m \u001b[0;32mNone\u001b[0m \u001b[0;34m=\u001b[0m \u001b[0;32mNone\u001b[0m\u001b[0;34m,\u001b[0m\u001b[0;34m\u001b[0m\u001b[0;34m\u001b[0m\u001b[0m\n\u001b[1;32m   5089\u001b[0m     ) -> DataFrame:\n\u001b[0;32m-> 5090\u001b[0;31m         return super().align(\n\u001b[0m\u001b[1;32m   5091\u001b[0m             \u001b[0mother\u001b[0m\u001b[0;34m,\u001b[0m\u001b[0;34m\u001b[0m\u001b[0;34m\u001b[0m\u001b[0m\n\u001b[1;32m   5092\u001b[0m             \u001b[0mjoin\u001b[0m\u001b[0;34m=\u001b[0m\u001b[0mjoin\u001b[0m\u001b[0;34m,\u001b[0m\u001b[0;34m\u001b[0m\u001b[0;34m\u001b[0m\u001b[0m\n\u001b[1;32m   5093\u001b[0m             \u001b[0maxis\u001b[0m\u001b[0;34m=\u001b[0m\u001b[0maxis\u001b[0m\u001b[0;34m,\u001b[0m\u001b[0;34m\u001b[0m\u001b[0;34m\u001b[0m\u001b[0m\n",
            "\u001b[0;32m/opt/conda/lib/python3.9/site-packages/pandas/core/generic.py\u001b[0m in \u001b[0;36m?\u001b[0;34m(self, other, join, axis, level, copy, fill_value, method, limit, fill_axis, broadcast_axis)\u001b[0m\n\u001b[1;32m   9448\u001b[0m                 \u001b[0mlimit\u001b[0m\u001b[0;34m=\u001b[0m\u001b[0mlimit\u001b[0m\u001b[0;34m,\u001b[0m\u001b[0;34m\u001b[0m\u001b[0;34m\u001b[0m\u001b[0m\n\u001b[1;32m   9449\u001b[0m                 \u001b[0mfill_axis\u001b[0m\u001b[0;34m=\u001b[0m\u001b[0mfill_axis\u001b[0m\u001b[0;34m,\u001b[0m\u001b[0;34m\u001b[0m\u001b[0;34m\u001b[0m\u001b[0m\n\u001b[1;32m   9450\u001b[0m             )\n\u001b[1;32m   9451\u001b[0m         \u001b[0;32melif\u001b[0m \u001b[0misinstance\u001b[0m\u001b[0;34m(\u001b[0m\u001b[0mother\u001b[0m\u001b[0;34m,\u001b[0m \u001b[0mABCSeries\u001b[0m\u001b[0;34m)\u001b[0m\u001b[0;34m:\u001b[0m\u001b[0;34m\u001b[0m\u001b[0;34m\u001b[0m\u001b[0m\n\u001b[0;32m-> 9452\u001b[0;31m             return self._align_series(\n\u001b[0m\u001b[1;32m   9453\u001b[0m                 \u001b[0mother\u001b[0m\u001b[0;34m,\u001b[0m\u001b[0;34m\u001b[0m\u001b[0;34m\u001b[0m\u001b[0m\n\u001b[1;32m   9454\u001b[0m                 \u001b[0mjoin\u001b[0m\u001b[0;34m=\u001b[0m\u001b[0mjoin\u001b[0m\u001b[0;34m,\u001b[0m\u001b[0;34m\u001b[0m\u001b[0;34m\u001b[0m\u001b[0m\n\u001b[1;32m   9455\u001b[0m                 \u001b[0maxis\u001b[0m\u001b[0;34m=\u001b[0m\u001b[0maxis\u001b[0m\u001b[0;34m,\u001b[0m\u001b[0;34m\u001b[0m\u001b[0;34m\u001b[0m\u001b[0m\n",
            "\u001b[0;32m/opt/conda/lib/python3.9/site-packages/pandas/core/generic.py\u001b[0m in \u001b[0;36m?\u001b[0;34m(self, other, join, axis, level, copy, fill_value, method, limit, fill_axis)\u001b[0m\n\u001b[1;32m   9543\u001b[0m \u001b[0;34m\u001b[0m\u001b[0m\n\u001b[1;32m   9544\u001b[0m         \u001b[0mis_series\u001b[0m \u001b[0;34m=\u001b[0m \u001b[0misinstance\u001b[0m\u001b[0;34m(\u001b[0m\u001b[0mself\u001b[0m\u001b[0;34m,\u001b[0m \u001b[0mABCSeries\u001b[0m\u001b[0;34m)\u001b[0m\u001b[0;34m\u001b[0m\u001b[0;34m\u001b[0m\u001b[0m\n\u001b[1;32m   9545\u001b[0m \u001b[0;34m\u001b[0m\u001b[0m\n\u001b[1;32m   9546\u001b[0m         \u001b[0;32mif\u001b[0m \u001b[0;34m(\u001b[0m\u001b[0;32mnot\u001b[0m \u001b[0mis_series\u001b[0m \u001b[0;32mand\u001b[0m \u001b[0maxis\u001b[0m \u001b[0;32mis\u001b[0m \u001b[0;32mNone\u001b[0m\u001b[0;34m)\u001b[0m \u001b[0;32mor\u001b[0m \u001b[0maxis\u001b[0m \u001b[0;32mnot\u001b[0m \u001b[0;32min\u001b[0m \u001b[0;34m[\u001b[0m\u001b[0;32mNone\u001b[0m\u001b[0;34m,\u001b[0m \u001b[0;36m0\u001b[0m\u001b[0;34m,\u001b[0m \u001b[0;36m1\u001b[0m\u001b[0;34m]\u001b[0m\u001b[0;34m:\u001b[0m\u001b[0;34m\u001b[0m\u001b[0;34m\u001b[0m\u001b[0m\n\u001b[0;32m-> 9547\u001b[0;31m             \u001b[0;32mraise\u001b[0m \u001b[0mValueError\u001b[0m\u001b[0;34m(\u001b[0m\u001b[0;34m\"Must specify axis=0 or 1\"\u001b[0m\u001b[0;34m)\u001b[0m\u001b[0;34m\u001b[0m\u001b[0;34m\u001b[0m\u001b[0m\n\u001b[0m\u001b[1;32m   9548\u001b[0m \u001b[0;34m\u001b[0m\u001b[0m\n\u001b[1;32m   9549\u001b[0m         \u001b[0;32mif\u001b[0m \u001b[0mis_series\u001b[0m \u001b[0;32mand\u001b[0m \u001b[0maxis\u001b[0m \u001b[0;34m==\u001b[0m \u001b[0;36m1\u001b[0m\u001b[0;34m:\u001b[0m\u001b[0;34m\u001b[0m\u001b[0;34m\u001b[0m\u001b[0m\n\u001b[1;32m   9550\u001b[0m             \u001b[0;32mraise\u001b[0m \u001b[0mValueError\u001b[0m\u001b[0;34m(\u001b[0m\u001b[0;34m\"cannot align series to a series other than axis 0\"\u001b[0m\u001b[0;34m)\u001b[0m\u001b[0;34m\u001b[0m\u001b[0;34m\u001b[0m\u001b[0m\n",
            "\u001b[0;31mValueError\u001b[0m: Must specify axis=0 or 1"
          ]
        }
      ],
      "execution_count": null,
      "metadata": {
        "noteable": {
          "cell_type": "code"
        },
        "ExecuteTime": {
          "end_time": "2023-07-06T18:27:24.286380+00:00",
          "start_time": "2023-07-06T18:27:23.815349+00:00"
        }
      },
      "id": "153b9258-91d8-459f-93cd-c7bba8aea56a"
    },
    {
      "cell_type": "markdown",
      "source": [
        "## Conclusion\n",
        "\n",
        "In this notebook, we have explored several techniques for preprocessing numerical data, including Z-score normalization, Winsorizing, Min-Max scaling, and Clipping. Each of these techniques can be useful in different scenarios, and it's important to understand when to use each one.\n",
        "\n",
        "Remember, the key to a successful machine learning project is not only the model you choose, but also how you preprocess your data. A well-defined pipeline can help ensure that your data is in the best possible format for your machine learning algorithms."
      ],
      "metadata": {
        "noteable": {
          "cell_type": "markdown"
        }
      },
      "id": "d3e2dd94-d981-4fae-837e-285bc9827bff"
    }
  ],
  "metadata": {
    "noteable-chatgpt": {
      "create_notebook": {
        "openai_conversation_id": "6eb3c9e7-c17a-5f20-bbbc-2389b74c7a36",
        "openai_ephemeral_user_id": "23c90d79-1f54-5a14-82bf-88154ca0d53c"
      }
    },
    "noteable": {
      "last_transaction_id": "8cd7a258-9f76-4192-935c-5f908a5acb10",
      "last_delta_id": "8cd7a258-9f76-4192-935c-5f908a5acb10"
    },
    "selected_hardware_size": "small",
    "nteract": {
      "version": "noteable@2.9.0"
    }
  },
  "nbformat": 4,
  "nbformat_minor": 5
}