{
  "cells": [
    {
      "cell_type": "markdown",
      "metadata": {
        "id": "view-in-github",
        "colab_type": "text"
      },
      "source": [
        "<a href=\"https://colab.research.google.com/github/ivanozono/DescriptiveStatistics/blob/main/(2)Bill_Gates_Effect_on_a_Bar.ipynb\" target=\"_parent\"><img src=\"https://colab.research.google.com/assets/colab-badge.svg\" alt=\"Open In Colab\"/></a>"
      ]
    },
    {
      "cell_type": "markdown",
      "source": [
        "## Introduction to descriptive statistics.\n",
        "\n",
        "Descriptive statistics is a crucial part of any data analysis. It helps us understand the distribution of the data, identify patterns and trends, and summarize the data in a way that is easy to understand. The two key concepts we will discuss in this notebook are the mean and the median.\n",
        "\n",
        "---"
      ],
      "metadata": {
        "noteable": {
          "cell_type": "markdown"
        },
        "id": "de236872-fcf3-4aa8-b3d3-905a3345a335"
      },
      "id": "de236872-fcf3-4aa8-b3d3-905a3345a335"
    },
    {
      "cell_type": "markdown",
      "source": [
        "## Average and its interpretation\n",
        "\n",
        "The average, also known as the mean, is a statistical measure used to understand the center of a data distribution. It is calculated by adding all the numbers in the data set and then dividing by the number of numbers in the data set.\n",
        "Although the average is a useful tool for summarizing a data set, it can be misleading if the data set contains outliers. This is because the average is sensitive to outliers, which means it can be strongly influenced by values that are significantly higher or lower than the rest."
      ],
      "metadata": {
        "noteable": {
          "cell_type": "markdown"
        },
        "id": "17419d21-152b-47fd-936c-520158134e04"
      },
      "id": "17419d21-152b-47fd-936c-520158134e04"
    },
    {
      "cell_type": "markdown",
      "source": [
        "## Median and its interpretation\n",
        "\n",
        "The median is another statistical measure that is used to understand the center of a data distribution. Unlike the average, the median is the middle value in a set of data when the numbers are ordered in ascending or descending order.\n",
        "\n",
        "The median is a resistant measure, which means that it is not sensitive to outlier values. Therefore, in a data set with outlier values, the median may be a better representation of the center of the data distribution."
      ],
      "metadata": {
        "noteable": {
          "cell_type": "markdown"
        },
        "id": "d1c3e6e2-1295-4266-8375-c9c600d0fc57"
      },
      "id": "d1c3e6e2-1295-4266-8375-c9c600d0fc57"
    },
    {
      "cell_type": "markdown",
      "source": [
        "## Comparison between mean and median\n",
        "\n",
        "Both the mean and the median are measures of central tendency used to understand the center of a distribution of data. However, they have different properties:\n",
        "\n",
        "- **Mean:** It is useful when the data is uniformly distributed and there are no extreme values. However, it can be misleading if there are extreme values in the data.\n",
        "- **Median:** It is useful when the data has extreme values that could skew the mean. The median is resistant to extreme values and can provide a better representation of the center of the data distribution in such cases.\n",
        "\n",
        "In practice, it is useful to calculate both the mean and the median and compare them to understand the distribution of the data."
      ],
      "metadata": {
        "noteable": {
          "cell_type": "markdown"
        },
        "id": "90a6f265-2818-4b1a-8802-36f8d107987f"
      },
      "id": "90a6f265-2818-4b1a-8802-36f8d107987f"
    },
    {
      "cell_type": "markdown",
      "source": [
        "## Example: Bill Gates' Effect on a Bar\n",
        "\n",
        "To illustrate how the mean can be misleading and how the median can be a better representation in certain cases, consider the following example:\n",
        "\n",
        "Imagine that Bill Gates, one of the richest men in the world, walks into a bar. The average income of the people in the bar would increase dramatically. However, this does not mean that everyone in the bar suddenly became richer. This is an example of how the mean can be misleading.\n",
        "\n",
        "On the other hand, if we calculate the median income, we will see that it is not affected by Bill Gates' entrance. The median would remain the same, providing a better representation of the incomes of most people in the bar.\n",
        "\n",
        "Next, we will simulate this scenario using Python code."
      ],
      "metadata": {
        "noteable": {
          "cell_type": "markdown"
        },
        "id": "7bbd48d6-d6d5-45f7-9c4f-aeaa1253c359"
      },
      "id": "7bbd48d6-d6d5-45f7-9c4f-aeaa1253c359"
    },
    {
      "cell_type": "markdown",
      "source": [
        "---\n",
        "\n",
        "Influence of Outliers on Average and Median\n",
        "\n",
        "---"
      ],
      "metadata": {
        "id": "KxtWfJIanhQO"
      },
      "id": "KxtWfJIanhQO"
    },
    {
      "cell_type": "code",
      "source": [
        "# Import necessary libraries\n",
        "import numpy as np\n",
        "\n",
        "# Let's assume there are 10 people in the bar and each of them earns $100\n",
        "incomes = np.repeat(100, 10)\n",
        "\n",
        "# Calculate the average income\n",
        "average_income = np.mean(incomes)\n",
        "print(f'Average income before Bill Gates enters the bar: {average_income}')\n",
        "\n",
        "# Calculate the median income\n",
        "median_income = np.median(incomes)\n",
        "print(f'Median income before Bill Gates enters the bar: {median_income}')\n",
        "\n",
        "# Now, let's assume Bill Gates enters the bar. His net worth is around $100 billion\n",
        "incomes = np.append(incomes, 100_000_000_000)\n",
        "\n",
        "# Calculate the new average income\n",
        "average_income = np.mean(incomes)\n",
        "print(f'Average income after Bill Gates enters the bar: {average_income}')\n",
        "\n",
        "# Calculate the new median income\n",
        "median_income = np.median(incomes)\n",
        "print(f'Median income after Bill Gates enters the bar: {median_income}')"
      ],
      "outputs": [
        {
          "output_type": "stream",
          "name": "stdout",
          "text": [
            "Average income before Bill Gates enters the bar: 100.0\n",
            "Median income before Bill Gates enters the bar: 100.0\n",
            "Average income after Bill Gates enters the bar: 9090909181.818182\n",
            "Median income after Bill Gates enters the bar: 100.0\n"
          ]
        }
      ],
      "execution_count": 1,
      "metadata": {
        "noteable": {
          "cell_type": "code"
        },
        "ExecuteTime": {
          "end_time": "2023-07-04T16:21:58.797323+00:00",
          "start_time": "2023-07-04T16:21:58.637437+00:00"
        },
        "id": "a8f29e69-724f-4c28-be77-4304322aba31",
        "outputId": "2ffbb6f8-4f18-4fc1-cab4-73402607588b",
        "colab": {
          "base_uri": "https://localhost:8080/"
        }
      },
      "id": "a8f29e69-724f-4c28-be77-4304322aba31"
    },
    {
      "cell_type": "markdown",
      "source": [
        "\n",
        "\n",
        " The aim of this code segment is to demonstrate the effect of outliers (extreme values) on the calculation of average (mean) and median values.\n",
        "\n",
        "---\n",
        "\n",
        "**Code Explanation:**\n",
        "\n",
        "1. **Initial Setup:**\n",
        "  \n",
        "    We begin by simulating the incomes of 10 people in a bar, each earning $100.\n",
        "\n",
        "2. **Calculating Average and Median Before Outlier:**\n",
        "   \n",
        "    We compute and display the average and median incomes for the initial group.\n",
        "\n",
        "3. **Introducing an Outlier:**\n",
        "   \n",
        "    We simulate Bill Gates entering the bar with a net worth of $100 billion, which acts as a significant outlier compared to the previous incomes.\n",
        "\n",
        "4. **Calculating Average and Median After Outlier:**\n",
        "  \n",
        "    Again, we compute and display the average and median incomes, but this time including the outlier.\n",
        "\n",
        "\n",
        "\n",
        "The key takeaway from this simulation is that while the outlier significantly affects the average (mean) value, it barely has any effect on the median. This demonstrates that median is more robust to extreme values compared to mean.\n",
        "\n",
        "\n",
        "\n",
        "Such simulations provide valuable insights, especially in statistics and data science, by showcasing the susceptibility of certain statistical measures (like mean) to outliers and the relative robustness of others (like median). In real-world scenarios where data might have extreme values, understanding these differences helps in choosing the right measure of central tendency."
      ],
      "metadata": {
        "id": "w-jwh4UfnJfJ"
      },
      "id": "w-jwh4UfnJfJ"
    },
    {
      "cell_type": "markdown",
      "source": [
        "As we can see from the results, the average income increased dramatically from 100 to 9,090,909,181.82 when Bill Gates entered the bar. However, the median income remained at 100, indicating that the majority of individuals had low income despite the presence of a high earner. This illustrates how the average can be misleading in the presence of extreme values and how the median can be a better representation in such cases."
      ],
      "metadata": {
        "noteable": {
          "cell_type": "markdown"
        },
        "id": "54f97ab4-5da7-4627-93a8-77db7a57465e"
      },
      "id": "54f97ab4-5da7-4627-93a8-77db7a57465e"
    }
  ],
  "metadata": {
    "noteable-chatgpt": {
      "create_notebook": {
        "openai_conversation_id": "6eb3c9e7-c17a-5f20-bbbc-2389b74c7a36",
        "openai_ephemeral_user_id": "3af8edfd-ae3a-58ef-80b4-27e8917550be",
        "openai_subdivision1_iso_code": "MX-BCN"
      }
    },
    "noteable": {
      "last_transaction_id": "ff69d7aa-8b6d-4411-bd5e-c019b1fe1996",
      "last_delta_id": "ff69d7aa-8b6d-4411-bd5e-c019b1fe1996"
    },
    "selected_hardware_size": "small",
    "nteract": {
      "version": "noteable@2.9.0"
    },
    "colab": {
      "provenance": [],
      "include_colab_link": true
    },
    "language_info": {
      "name": "python"
    },
    "kernelspec": {
      "name": "python3",
      "display_name": "Python 3"
    }
  },
  "nbformat": 4,
  "nbformat_minor": 5
}