{
  "cells": [
    {
      "cell_type": "markdown",
      "source": [
        "# Correlations in Statistics\n",
        "\n",
        "In this notebook, we will explore the concept of correlation in statistics. Correlation is a measure that indicates the degree of relationship between two or more variables. It is a powerful tool in data science and artificial intelligence, as it allows us to understand how variables interact with each other.\n",
        "\n",
        "However, it is important to remember that correlation does not imply causation. Just because two variables are correlated, it does not mean that one variable causes the other to change.\n",
        "\n",
        "We will use Python and the pandas library to calculate and interpret correlations. Let's get started!"
      ],
      "metadata": {
        "noteable": {
          "cell_type": "markdown"
        }
      },
      "id": "811638bc-5df2-4287-ad6e-0b735ee8e222"
    },
    {
      "cell_type": "code",
      "source": [
        "# Importing necessary libraries\n",
        "import pandas as pd\n",
        "import seaborn as sns\n",
        "import matplotlib.pyplot as plt"
      ],
      "outputs": [],
      "execution_count": null,
      "metadata": {
        "noteable": {
          "cell_type": "code"
        },
        "ExecuteTime": {
          "end_time": "2023-07-07T23:06:11.361987+00:00",
          "start_time": "2023-07-07T23:06:10.498621+00:00"
        }
      },
      "id": "51273316-d4d2-4d94-b41b-5c220d01cf90"
    },
    {
      "cell_type": "markdown",
      "source": [
        "## Loading the Dataset\n",
        "\n",
        "We will use the `iris` dataset from the seaborn library. This dataset contains measurements for 150 iris flowers from three different species.\n",
        "\n",
        "The three classes in the Iris dataset are:\n",
        "\n",
        "1. Iris-setosa (n=50)\n",
        "2. Iris-versicolor (n=50)\n",
        "3. Iris-virginica (n=50)\n",
        "\n",
        "And the four features of in Iris dataset are:\n",
        "\n",
        "1. sepal length in cm\n",
        "2. sepal width in cm\n",
        "3. petal length in cm\n",
        "4. petal width in cm"
      ],
      "metadata": {
        "noteable": {
          "cell_type": "markdown"
        }
      },
      "id": "704dd9ad-f284-47f0-9cec-6fecce15f046"
    },
    {
      "cell_type": "code",
      "source": [
        "# Load the iris dataset\n",
        "iris = sns.load_dataset('iris')\n",
        "\n",
        "# Display the first 5 rows of the dataset\n",
        "iris.head()"
      ],
      "outputs": [
        {
          "output_type": "display_data",
          "data": {
            "application/vnd.dataresource+json": {
              "schema": {
                "fields": [
                  {
                    "name": "index",
                    "type": "integer"
                  },
                  {
                    "name": "sepal_length",
                    "type": "number"
                  },
                  {
                    "name": "sepal_width",
                    "type": "number"
                  },
                  {
                    "name": "petal_length",
                    "type": "number"
                  },
                  {
                    "name": "petal_width",
                    "type": "number"
                  },
                  {
                    "name": "species",
                    "type": "string"
                  }
                ],
                "primaryKey": [
                  "index"
                ],
                "pandas_version": "1.4.0"
              },
              "data": [
                {
                  "index": 0,
                  "sepal_length": 5.1,
                  "sepal_width": 3.5,
                  "petal_length": 1.4,
                  "petal_width": 0.2,
                  "species": "setosa"
                },
                {
                  "index": 1,
                  "sepal_length": 4.9,
                  "sepal_width": 3,
                  "petal_length": 1.4,
                  "petal_width": 0.2,
                  "species": "setosa"
                },
                {
                  "index": 2,
                  "sepal_length": 4.7,
                  "sepal_width": 3.2,
                  "petal_length": 1.3,
                  "petal_width": 0.2,
                  "species": "setosa"
                },
                {
                  "index": 3,
                  "sepal_length": 4.6,
                  "sepal_width": 3.1,
                  "petal_length": 1.5,
                  "petal_width": 0.2,
                  "species": "setosa"
                },
                {
                  "index": 4,
                  "sepal_length": 5,
                  "sepal_width": 3.6,
                  "petal_length": 1.4,
                  "petal_width": 0.2,
                  "species": "setosa"
                }
              ],
              "datalink": {
                "display_id": "6908aee1-c925-40f5-8232-156825ce61c1"
              }
            }
          },
          "metadata": {
            "application/vnd.dataresource+json": {
              "datalink": {
                "dataframe_info": {
                  "default_index_used": true,
                  "orig_size_bytes": 240,
                  "orig_num_rows": 5,
                  "orig_num_cols": 5,
                  "truncated_string_columns": [],
                  "truncated_size_bytes": 240,
                  "truncated_num_rows": 5,
                  "truncated_num_cols": 5
                },
                "dx_settings": {
                  "NUM_PAST_SAMPLES_TRACKED": 3,
                  "ENABLE_DATALINK": true,
                  "DISPLAY_MODE": "simple",
                  "GENERATE_DEX_METADATA": false,
                  "STRINGIFY_INDEX_VALUES": false,
                  "ALLOW_NOTEABLE_ATTRS": true,
                  "DISPLAY_MAX_COLUMNS": 100,
                  "HTML_TABLE_SCHEMA": false,
                  "SAMPLING_FACTOR": 0.1,
                  "LOG_LEVEL": 30,
                  "ENABLE_ASSIGNMENT": true,
                  "FLATTEN_INDEX_VALUES": false,
                  "DEV_MODE": false,
                  "COLUMN_SAMPLING_METHOD": "outer",
                  "FLATTEN_COLUMN_VALUES": true,
                  "DISPLAY_MAX_ROWS": 50000,
                  "ROW_SAMPLING_METHOD": "random",
                  "RANDOM_STATE": 12648430,
                  "DB_LOCATION": ":memory:",
                  "STRINGIFY_COLUMN_VALUES": true,
                  "SAMPLING_METHOD": "random",
                  "MAX_STRING_LENGTH": 250,
                  "MAX_RENDER_SIZE_BYTES": 104857600,
                  "RESET_INDEX_VALUES": false
                },
                "display_id": "6908aee1-c925-40f5-8232-156825ce61c1",
                "applied_filters": [],
                "sample_history": [],
                "sampling_time": "2023-07-07T23:06:39.465356",
                "variable_name": "unk_dataframe_d97bcf5cf00d4f5f8f865f8d7b14c7b9",
                "user_variable_name": null
              },
              "display_id": "6908aee1-c925-40f5-8232-156825ce61c1"
            }
          }
        }
      ],
      "execution_count": null,
      "metadata": {
        "noteable": {
          "cell_type": "code"
        },
        "ExecuteTime": {
          "end_time": "2023-07-07T23:06:39.624048+00:00",
          "start_time": "2023-07-07T23:06:38.991926+00:00"
        },
        "datalink": {
          "6908aee1-c925-40f5-8232-156825ce61c1": {
            "applied_filters": [],
            "dataframe_info": {
              "default_index_used": true,
              "orig_num_cols": 5,
              "orig_num_rows": 5,
              "orig_size_bytes": 240,
              "truncated_num_cols": 5,
              "truncated_num_rows": 5,
              "truncated_size_bytes": 240,
              "truncated_string_columns": []
            },
            "display_id": "6908aee1-c925-40f5-8232-156825ce61c1",
            "dx_settings": {
              "ALLOW_NOTEABLE_ATTRS": true,
              "COLUMN_SAMPLING_METHOD": "outer",
              "DB_LOCATION": ":memory:",
              "DEV_MODE": false,
              "DISPLAY_MAX_COLUMNS": 100,
              "DISPLAY_MAX_ROWS": 50000,
              "DISPLAY_MODE": "simple",
              "ENABLE_ASSIGNMENT": true,
              "ENABLE_DATALINK": true,
              "FLATTEN_COLUMN_VALUES": true,
              "FLATTEN_INDEX_VALUES": false,
              "GENERATE_DEX_METADATA": false,
              "HTML_TABLE_SCHEMA": false,
              "LOG_LEVEL": 30,
              "MAX_RENDER_SIZE_BYTES": 104857600,
              "MAX_STRING_LENGTH": 250,
              "NUM_PAST_SAMPLES_TRACKED": 3,
              "RANDOM_STATE": 12648430,
              "RESET_INDEX_VALUES": false,
              "ROW_SAMPLING_METHOD": "random",
              "SAMPLING_FACTOR": 0.1,
              "SAMPLING_METHOD": "random",
              "STRINGIFY_COLUMN_VALUES": true,
              "STRINGIFY_INDEX_VALUES": false
            },
            "sample_history": [],
            "sampling_time": "2023-07-07T23:06:39.465356",
            "user_variable_name": null,
            "variable_name": "unk_dataframe_d97bcf5cf00d4f5f8f865f8d7b14c7b9"
          }
        }
      },
      "id": "4df07597-b816-4088-9e7d-e39d644f1174"
    },
    {
      "cell_type": "markdown",
      "source": [
        "## Calculating Correlations\n",
        "\n",
        "Now that we have loaded the dataset, we can calculate the correlations between the features. We will use the `corr()` function from the pandas library to do this.\n",
        "\n",
        "The `corr()` function calculates the pairwise correlation of columns, excluding NA/null values. It returns a correlation matrix, which is a table showing correlation coefficients between variables. Each cell in the table shows the correlation between two variables."
      ],
      "metadata": {
        "noteable": {
          "cell_type": "markdown"
        }
      },
      "id": "3a831a13-8134-4e2a-ad97-4800e670c6dd"
    },
    {
      "cell_type": "code",
      "source": [
        "# Calculate the correlation matrix\n",
        "correlation_matrix = iris.corr()\n",
        "\n",
        "# Display the correlation matrix\n",
        "correlation_matrix"
      ],
      "outputs": [
        {
          "output_type": "display_data",
          "data": {
            "application/vnd.dataresource+json": {
              "schema": {
                "fields": [
                  {
                    "name": "index",
                    "type": "string"
                  },
                  {
                    "name": "sepal_length",
                    "type": "number"
                  },
                  {
                    "name": "sepal_width",
                    "type": "number"
                  },
                  {
                    "name": "petal_length",
                    "type": "number"
                  },
                  {
                    "name": "petal_width",
                    "type": "number"
                  }
                ],
                "primaryKey": [
                  "index"
                ],
                "pandas_version": "1.4.0"
              },
              "data": [
                {
                  "index": "sepal_length",
                  "sepal_length": 1,
                  "sepal_width": -0.11756978413300088,
                  "petal_length": 0.8717537758865838,
                  "petal_width": 0.8179411262715758
                },
                {
                  "index": "sepal_width",
                  "sepal_length": -0.11756978413300088,
                  "sepal_width": 1,
                  "petal_length": -0.42844010433053864,
                  "petal_width": -0.3661259325364377
                },
                {
                  "index": "petal_length",
                  "sepal_length": 0.8717537758865838,
                  "sepal_width": -0.42844010433053864,
                  "petal_length": 1,
                  "petal_width": 0.962865431402796
                },
                {
                  "index": "petal_width",
                  "sepal_length": 0.8179411262715758,
                  "sepal_width": -0.3661259325364377,
                  "petal_length": 0.962865431402796,
                  "petal_width": 1
                }
              ],
              "datalink": {
                "display_id": "3dc49499-03c0-49fa-87d9-25efae35f22f"
              }
            }
          },
          "metadata": {
            "application/vnd.dataresource+json": {
              "datalink": {
                "dataframe_info": {
                  "default_index_used": false,
                  "orig_size_bytes": 160,
                  "orig_num_rows": 4,
                  "orig_num_cols": 4,
                  "truncated_string_columns": [],
                  "truncated_size_bytes": 160,
                  "truncated_num_rows": 4,
                  "truncated_num_cols": 4
                },
                "dx_settings": {
                  "NUM_PAST_SAMPLES_TRACKED": 3,
                  "ENABLE_DATALINK": true,
                  "DISPLAY_MODE": "simple",
                  "GENERATE_DEX_METADATA": false,
                  "STRINGIFY_INDEX_VALUES": false,
                  "ALLOW_NOTEABLE_ATTRS": true,
                  "DISPLAY_MAX_COLUMNS": 100,
                  "HTML_TABLE_SCHEMA": false,
                  "SAMPLING_FACTOR": 0.1,
                  "LOG_LEVEL": 30,
                  "ENABLE_ASSIGNMENT": true,
                  "FLATTEN_INDEX_VALUES": false,
                  "DEV_MODE": false,
                  "COLUMN_SAMPLING_METHOD": "outer",
                  "FLATTEN_COLUMN_VALUES": true,
                  "DISPLAY_MAX_ROWS": 50000,
                  "ROW_SAMPLING_METHOD": "random",
                  "RANDOM_STATE": 12648430,
                  "DB_LOCATION": ":memory:",
                  "STRINGIFY_COLUMN_VALUES": true,
                  "SAMPLING_METHOD": "random",
                  "MAX_STRING_LENGTH": 250,
                  "MAX_RENDER_SIZE_BYTES": 104857600,
                  "RESET_INDEX_VALUES": false
                },
                "display_id": "3dc49499-03c0-49fa-87d9-25efae35f22f",
                "applied_filters": [],
                "sample_history": [],
                "sampling_time": "2023-07-07T23:07:02.133415",
                "variable_name": "correlation_matrix",
                "user_variable_name": "correlation_matrix"
              },
              "display_id": "3dc49499-03c0-49fa-87d9-25efae35f22f"
            }
          }
        }
      ],
      "execution_count": null,
      "metadata": {
        "noteable": {
          "cell_type": "code"
        },
        "ExecuteTime": {
          "end_time": "2023-07-07T23:07:02.291358+00:00",
          "start_time": "2023-07-07T23:07:02.095981+00:00"
        },
        "datalink": {
          "3dc49499-03c0-49fa-87d9-25efae35f22f": {
            "applied_filters": [],
            "dataframe_info": {
              "default_index_used": false,
              "orig_num_cols": 4,
              "orig_num_rows": 4,
              "orig_size_bytes": 160,
              "truncated_num_cols": 4,
              "truncated_num_rows": 4,
              "truncated_size_bytes": 160,
              "truncated_string_columns": []
            },
            "display_id": "3dc49499-03c0-49fa-87d9-25efae35f22f",
            "dx_settings": {
              "ALLOW_NOTEABLE_ATTRS": true,
              "COLUMN_SAMPLING_METHOD": "outer",
              "DB_LOCATION": ":memory:",
              "DEV_MODE": false,
              "DISPLAY_MAX_COLUMNS": 100,
              "DISPLAY_MAX_ROWS": 50000,
              "DISPLAY_MODE": "simple",
              "ENABLE_ASSIGNMENT": true,
              "ENABLE_DATALINK": true,
              "FLATTEN_COLUMN_VALUES": true,
              "FLATTEN_INDEX_VALUES": false,
              "GENERATE_DEX_METADATA": false,
              "HTML_TABLE_SCHEMA": false,
              "LOG_LEVEL": 30,
              "MAX_RENDER_SIZE_BYTES": 104857600,
              "MAX_STRING_LENGTH": 250,
              "NUM_PAST_SAMPLES_TRACKED": 3,
              "RANDOM_STATE": 12648430,
              "RESET_INDEX_VALUES": false,
              "ROW_SAMPLING_METHOD": "random",
              "SAMPLING_FACTOR": 0.1,
              "SAMPLING_METHOD": "random",
              "STRINGIFY_COLUMN_VALUES": true,
              "STRINGIFY_INDEX_VALUES": false
            },
            "sample_history": [],
            "sampling_time": "2023-07-07T23:07:02.133415",
            "user_variable_name": "correlation_matrix",
            "variable_name": "correlation_matrix"
          }
        }
      },
      "id": "64887842-4e46-4f2b-a0d9-349c35c57b33"
    },
    {
      "cell_type": "markdown",
      "source": [
        "## Interpreting the Correlation Matrix\n",
        "\n",
        "The correlation matrix shows the correlation coefficients between pairs of features. The correlation coefficient is a value between -1 and 1 that represents how closely values for two separate features move in unison.\n",
        "\n",
        "- A correlation of -1 indicates that the two features move in opposite directions (i.e., when one feature's value increases, the other feature's value decreases), and vice versa.\n",
        "- A correlation of 1 indicates that the two features move in the same direction (i.e., when one feature's value increases, the other feature's value also increases), and vice versa.\n",
        "- A correlation of 0 indicates that there is no association between the two features.\n",
        "\n",
        "In our case, we can see that petal length and petal width have a high positive correlation (0.96), which means they tend to increase and decrease together. On the other hand, sepal width and petal length have a negative correlation (-0.43), which means they tend to move in opposite directions."
      ],
      "metadata": {
        "noteable": {
          "cell_type": "markdown"
        }
      },
      "id": "3d7ceaea-c684-4e63-a8b6-0460310afe78"
    },
    {
      "cell_type": "markdown",
      "source": [
        "## Visualizing the Correlation Matrix\n",
        "\n",
        "To make it easier to understand the correlations between features, we can visualize the correlation matrix using a heatmap. A heatmap is a two-dimensional graphical representation of data where the individual values that are contained in a matrix are represented as colors."
      ],
      "metadata": {
        "noteable": {
          "cell_type": "markdown"
        }
      },
      "id": "255c25b8-4cea-4462-990a-107e54bd3f04"
    },
    {
      "cell_type": "code",
      "source": [
        "# Set the dimensions of the plot\n",
        "fig, ax = plt.subplots(figsize=(10, 8))\n",
        "\n",
        "# Create a heatmap\n",
        "sns.heatmap(correlation_matrix, annot=True, cmap='coolwarm', ax=ax)\n",
        "\n",
        "# Show the plot\n",
        "plt.show()"
      ],
      "outputs": [
        {
          "output_type": "display_data",
          "data": {
            "image/png": "[encoded data removed]"
          },
          "metadata": {}
        }
      ],
      "execution_count": null,
      "metadata": {
        "noteable": {
          "cell_type": "code"
        },
        "ExecuteTime": {
          "end_time": "2023-07-07T23:07:49.640080+00:00",
          "start_time": "2023-07-07T23:07:49.049578+00:00"
        }
      },
      "id": "d7e9417f-a772-44c1-bcac-9257146e0df6"
    },
    {
      "cell_type": "markdown",
      "source": [
        "## Conclusion\n",
        "\n",
        "In this notebook, we explored the concept of correlation and how it can be used in data science and artificial intelligence. We learned how to calculate and interpret correlations, and we visualized the correlation matrix using a heatmap.\n",
        "\n",
        "Remember, correlation is a powerful tool, but it must be used with caution. Correlation does not imply causation, and it is always important to use domain knowledge and critical thinking when interpreting correlations."
      ],
      "metadata": {
        "noteable": {
          "cell_type": "markdown"
        }
      },
      "id": "b2a40f4a-dcde-4cf3-b895-68b2a9f77e95"
    }
  ],
  "metadata": {
    "noteable-chatgpt": {
      "create_notebook": {
        "openai_conversation_id": "21c8f698-4919-5a06-86ea-f05302c33b2d",
        "openai_ephemeral_user_id": "cee38adb-9301-598b-8ee8-61d323f36f78"
      }
    },
    "noteable": {
      "last_transaction_id": "3b8480d6-d4b2-4442-bd11-ac57be2e1655",
      "last_delta_id": "3b8480d6-d4b2-4442-bd11-ac57be2e1655"
    },
    "selected_hardware_size": "small",
    "nteract": {
      "version": "noteable@2.9.0"
    }
  },
  "nbformat": 4,
  "nbformat_minor": 5
}