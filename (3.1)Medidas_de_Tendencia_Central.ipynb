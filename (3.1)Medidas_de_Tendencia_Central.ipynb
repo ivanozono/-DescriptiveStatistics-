{
  "nbformat": 4,
  "nbformat_minor": 5,
  "metadata": {
    "noteable-chatgpt": {
      "create_notebook": {
        "openai_conversation_id": "6eb3c9e7-c17a-5f20-bbbc-2389b74c7a36",
        "openai_ephemeral_user_id": "3af8edfd-ae3a-58ef-80b4-27e8917550be",
        "openai_subdivision1_iso_code": "MX-BCN"
      }
    },
    "noteable": {
      "last_transaction_id": "d150e394-b6fe-48e2-a4ec-e37fd29841f6"
    },
    "selected_hardware_size": "small"
  },
  "cells": [
    {
      "id": "53249c20-4de1-4a44-9123-5dfe12f71209",
      "cell_type": "code",
      "metadata": {
        "noteable": {
          "cell_type": "code",
          "output_collection_id": "2642722e-8081-4d68-9248-307e8f97c84f"
        },
        "ExecuteTime": {
          "end_time": "2023-07-04T15:17:37.914609+00:00",
          "start_time": "2023-07-04T15:17:36.604658+00:00"
        },
        "datalink": {
          "7983af49-2ffe-4b2e-96ab-38aa07e9f1a8": {
            "applied_filters": [],
            "dataframe_info": {
              "default_index_used": true,
              "orig_num_cols": 5,
              "orig_num_rows": 5,
              "orig_size_bytes": 240,
              "truncated_num_cols": 5,
              "truncated_num_rows": 5,
              "truncated_size_bytes": 240,
              "truncated_string_columns": []
            },
            "display_id": "7983af49-2ffe-4b2e-96ab-38aa07e9f1a8",
            "dx_settings": {
              "ALLOW_NOTEABLE_ATTRS": true,
              "COLUMN_SAMPLING_METHOD": "outer",
              "DB_LOCATION": ":memory:",
              "DEV_MODE": false,
              "DISPLAY_MAX_COLUMNS": 100,
              "DISPLAY_MAX_ROWS": 50000,
              "DISPLAY_MODE": "simple",
              "ENABLE_ASSIGNMENT": true,
              "ENABLE_DATALINK": true,
              "FLATTEN_COLUMN_VALUES": true,
              "FLATTEN_INDEX_VALUES": false,
              "GENERATE_DEX_METADATA": false,
              "HTML_TABLE_SCHEMA": false,
              "LOG_LEVEL": 30,
              "MAX_RENDER_SIZE_BYTES": 104857600,
              "MAX_STRING_LENGTH": 250,
              "NUM_PAST_SAMPLES_TRACKED": 3,
              "RANDOM_STATE": 12648430,
              "RESET_INDEX_VALUES": false,
              "ROW_SAMPLING_METHOD": "random",
              "SAMPLING_FACTOR": 0.1,
              "SAMPLING_METHOD": "random",
              "STRINGIFY_COLUMN_VALUES": true,
              "STRINGIFY_INDEX_VALUES": false
            },
            "sample_history": [],
            "sampling_time": "2023-07-04T15:17:37.756537",
            "user_variable_name": null,
            "variable_name": "unk_dataframe_86b7755a82fa4cefb65355a1a39b8962"
          }
        }
      },
      "execution_count": null,
      "source": "# Importing necessary libraries\nimport pandas as pd\nimport seaborn as sns\n\n# Load the Iris dataset\ndf = sns.load_dataset('iris')\n\n# Display the first few rows of the dataset\ndf.head()",
      "outputs": []
    },
    {
      "id": "fe2eecd5-d810-4464-9f67-5ef85cd80d3d",
      "cell_type": "code",
      "metadata": {
        "noteable": {
          "cell_type": "code",
          "output_collection_id": "22477046-55d1-46aa-b5fb-4d5d2b28b060"
        },
        "ExecuteTime": {
          "end_time": "2023-07-04T15:18:20.659446+00:00",
          "start_time": "2023-07-04T15:18:20.472751+00:00"
        },
        "datalink": {
          "58286dc0-8b1e-4158-8361-bbe9c93d9f2b": {
            "applied_filters": [],
            "dataframe_info": {
              "default_index_used": false,
              "orig_num_cols": 1,
              "orig_num_rows": 4,
              "orig_size_bytes": 64,
              "truncated_num_cols": 1,
              "truncated_num_rows": 4,
              "truncated_size_bytes": 64,
              "truncated_string_columns": []
            },
            "display_id": "58286dc0-8b1e-4158-8361-bbe9c93d9f2b",
            "dx_settings": {
              "ALLOW_NOTEABLE_ATTRS": true,
              "COLUMN_SAMPLING_METHOD": "outer",
              "DB_LOCATION": ":memory:",
              "DEV_MODE": false,
              "DISPLAY_MAX_COLUMNS": 100,
              "DISPLAY_MAX_ROWS": 50000,
              "DISPLAY_MODE": "simple",
              "ENABLE_ASSIGNMENT": true,
              "ENABLE_DATALINK": true,
              "FLATTEN_COLUMN_VALUES": true,
              "FLATTEN_INDEX_VALUES": false,
              "GENERATE_DEX_METADATA": false,
              "HTML_TABLE_SCHEMA": false,
              "LOG_LEVEL": 30,
              "MAX_RENDER_SIZE_BYTES": 104857600,
              "MAX_STRING_LENGTH": 250,
              "NUM_PAST_SAMPLES_TRACKED": 3,
              "RANDOM_STATE": 12648430,
              "RESET_INDEX_VALUES": false,
              "ROW_SAMPLING_METHOD": "random",
              "SAMPLING_FACTOR": 0.1,
              "SAMPLING_METHOD": "random",
              "STRINGIFY_COLUMN_VALUES": true,
              "STRINGIFY_INDEX_VALUES": false
            },
            "sample_history": [],
            "sampling_time": "2023-07-04T15:18:20.502534",
            "user_variable_name": null,
            "variable_name": "unk_dataframe_7d777941c8ff4b7fb2ba904c0ecd73fd"
          }
        }
      },
      "execution_count": null,
      "source": "# Calculate the mean of each numeric feature\nmean_values = df.mean()\nmean_values",
      "outputs": []
    },
    {
      "id": "0fe78088-015f-4e56-9384-7cfb9a5d0791",
      "cell_type": "code",
      "metadata": {
        "noteable": {
          "cell_type": "code",
          "output_collection_id": "58c1f5e1-0700-4b40-ad9c-1934aef4a830"
        },
        "ExecuteTime": {
          "end_time": "2023-07-04T15:19:36.049521+00:00",
          "start_time": "2023-07-04T15:19:35.856897+00:00"
        },
        "datalink": {
          "c772a44f-e148-4ebd-b77a-c8a7e639c42c": {
            "applied_filters": [],
            "dataframe_info": {
              "default_index_used": false,
              "orig_num_cols": 1,
              "orig_num_rows": 4,
              "orig_size_bytes": 64,
              "truncated_num_cols": 1,
              "truncated_num_rows": 4,
              "truncated_size_bytes": 64,
              "truncated_string_columns": []
            },
            "display_id": "c772a44f-e148-4ebd-b77a-c8a7e639c42c",
            "dx_settings": {
              "ALLOW_NOTEABLE_ATTRS": true,
              "COLUMN_SAMPLING_METHOD": "outer",
              "DB_LOCATION": ":memory:",
              "DEV_MODE": false,
              "DISPLAY_MAX_COLUMNS": 100,
              "DISPLAY_MAX_ROWS": 50000,
              "DISPLAY_MODE": "simple",
              "ENABLE_ASSIGNMENT": true,
              "ENABLE_DATALINK": true,
              "FLATTEN_COLUMN_VALUES": true,
              "FLATTEN_INDEX_VALUES": false,
              "GENERATE_DEX_METADATA": false,
              "HTML_TABLE_SCHEMA": false,
              "LOG_LEVEL": 30,
              "MAX_RENDER_SIZE_BYTES": 104857600,
              "MAX_STRING_LENGTH": 250,
              "NUM_PAST_SAMPLES_TRACKED": 3,
              "RANDOM_STATE": 12648430,
              "RESET_INDEX_VALUES": false,
              "ROW_SAMPLING_METHOD": "random",
              "SAMPLING_FACTOR": 0.1,
              "SAMPLING_METHOD": "random",
              "STRINGIFY_COLUMN_VALUES": true,
              "STRINGIFY_INDEX_VALUES": false
            },
            "sample_history": [],
            "sampling_time": "2023-07-04T15:19:35.893344",
            "user_variable_name": null,
            "variable_name": "unk_dataframe_0b636087214c467ab348c66f29e55667"
          }
        }
      },
      "execution_count": null,
      "source": "# Calculate the median of each numeric feature\nmedian_values = df.median()\nmedian_values",
      "outputs": []
    },
    {
      "id": "7422cfa0-a819-4a9c-88e2-5ed4b99fc4c8",
      "cell_type": "code",
      "metadata": {
        "noteable": {
          "cell_type": "code",
          "output_collection_id": "adba4c27-49b6-4b7b-8bd2-c3a2abd5d991"
        },
        "ExecuteTime": {
          "end_time": "2023-07-04T15:20:12.417147+00:00",
          "start_time": "2023-07-04T15:20:12.211362+00:00"
        },
        "datalink": {
          "41dd7258-06f0-4a2b-8492-c3bfa9bee1cf": {
            "applied_filters": [],
            "dataframe_info": {
              "default_index_used": false,
              "orig_num_cols": 1,
              "orig_num_rows": 5,
              "orig_size_bytes": 80,
              "truncated_num_cols": 1,
              "truncated_num_rows": 5,
              "truncated_size_bytes": 80,
              "truncated_string_columns": []
            },
            "display_id": "41dd7258-06f0-4a2b-8492-c3bfa9bee1cf",
            "dx_settings": {
              "ALLOW_NOTEABLE_ATTRS": true,
              "COLUMN_SAMPLING_METHOD": "outer",
              "DB_LOCATION": ":memory:",
              "DEV_MODE": false,
              "DISPLAY_MAX_COLUMNS": 100,
              "DISPLAY_MAX_ROWS": 50000,
              "DISPLAY_MODE": "simple",
              "ENABLE_ASSIGNMENT": true,
              "ENABLE_DATALINK": true,
              "FLATTEN_COLUMN_VALUES": true,
              "FLATTEN_INDEX_VALUES": false,
              "GENERATE_DEX_METADATA": false,
              "HTML_TABLE_SCHEMA": false,
              "LOG_LEVEL": 30,
              "MAX_RENDER_SIZE_BYTES": 104857600,
              "MAX_STRING_LENGTH": 250,
              "NUM_PAST_SAMPLES_TRACKED": 3,
              "RANDOM_STATE": 12648430,
              "RESET_INDEX_VALUES": false,
              "ROW_SAMPLING_METHOD": "random",
              "SAMPLING_FACTOR": 0.1,
              "SAMPLING_METHOD": "random",
              "STRINGIFY_COLUMN_VALUES": true,
              "STRINGIFY_INDEX_VALUES": false
            },
            "sample_history": [],
            "sampling_time": "2023-07-04T15:20:12.259298",
            "user_variable_name": null,
            "variable_name": "unk_dataframe_f231f19c302e47bb9ae3cb738c8f8b31"
          }
        }
      },
      "execution_count": null,
      "source": "# Calculate the mode of each feature\nmode_values = df.mode().iloc[0]\nmode_values",
      "outputs": []
    },
    {
      "id": "6f6c7ac5-a676-49b8-bf97-ee7511cfce59",
      "cell_type": "code",
      "metadata": {
        "noteable": {
          "cell_type": "code",
          "output_collection_id": "ec14bfa9-be8e-43a3-a432-4c7cb7e6c377"
        },
        "ExecuteTime": {
          "end_time": "2023-07-04T15:26:41.437347+00:00",
          "start_time": "2023-07-04T15:26:40.618664+00:00"
        }
      },
      "execution_count": null,
      "source": "# Importing necessary libraries for visualization\nimport matplotlib.pyplot as plt\n\n# Calculate mean, median and mode of 'sepal_length'\nmean = df['sepal_length'].mean()\nmedian = df['sepal_length'].median()\nmode = df['sepal_length'].mode().get(0)\n\n# Create a histogram of 'sepal_length'\nplt.figure(figsize=(10, 6))\nsns.histplot(df['sepal_length'], kde=True, bins=30)\n\n# Add lines for the mean, median, and mode\nplt.axvline(mean, color='r', linestyle='-', linewidth=2)\nplt.axvline(median, color='g', linestyle='-', linewidth=2)\nplt.axvline(mode, color='b', linestyle='-', linewidth=2)\n\n# Add legends for the mean, median, and mode\nplt.legend({'Mean':mean,'Median':median,'Mode':mode})\n\n# Display the plot with title\nplt.title('Histogram of Sepal Length')\nplt.show()",
      "outputs": []
    },
    {
      "id": "26d70dc6-5c59-4a46-a9ca-4b8b8d9327ee",
      "cell_type": "code",
      "metadata": {
        "noteable": {
          "cell_type": "code",
          "output_collection_id": "23a1066a-0c42-49f0-b98e-c0263537e49f"
        },
        "ExecuteTime": {
          "end_time": "2023-07-04T15:27:41.268013+00:00",
          "start_time": "2023-07-04T15:27:39.668326+00:00"
        }
      },
      "execution_count": null,
      "source": "# List of numeric features\nfeatures = ['sepal_width', 'petal_length', 'petal_width']\n\n# Create a histogram for each numeric feature\nfor feature in features:\n    # Calculate mean, median and mode\n    mean = df[feature].mean()\n    median = df[feature].median()\n    mode = df[feature].mode().get(0)\n\n    # Create a histogram\n    plt.figure(figsize=(10, 6))\n    sns.histplot(df[feature], kde=True, bins=30)\n\n    # Add lines for the mean, median, and mode\n    plt.axvline(mean, color='r', linestyle='-', linewidth=2)\n    plt.axvline(median, color='g', linestyle='-', linewidth=2)\n    plt.axvline(mode, color='b', linestyle='-', linewidth=2)\n\n    # Add legends for the mean, median, and mode\n    plt.legend({'Mean':mean,'Median':median,'Mode':mode})\n\n    # Display the plot with title\n    plt.title(f'Histogram of {feature.capitalize()}')\n    plt.show()",
      "outputs": []
    },
    {
      "id": "79a619c5-b6a3-40bf-950f-a9a238071be6",
      "cell_type": "markdown",
      "source": "## Results and Insights\n\nFrom the above analysis, we can draw several key insights about the Iris dataset:\n\n1. **Sepal Length**: The distribution of sepal length is approximately normal, with a mean and median around 5.8 cm. This suggests that the sepal lengths of iris flowers in this dataset are symmetrically distributed around this central value.\n\n2. **Sepal Width**: The distribution of sepal width is also approximately normal, with a mean and median around 3.0 cm. This indicates a similar symmetrical distribution around the central value.\n\n3. **Petal Length and Width**: The distributions of petal length and width are bimodal, indicating the presence of two distinct groups within the data. This is likely due to the fact that the dataset contains three different species of iris flowers. The bimodal distribution suggests that these species differ significantly in their petal lengths and widths.\n\n4. **Outliers**: The mean and median of each feature are relatively close together, suggesting that there are no significant outliers in the dataset. This is important as outliers can significantly affect the mean and can lead to misleading results.\n\n5. **Central Tendency**: The mean, median, and mode provide a summary of the central tendency of the data. They give us a sense of the 'typical' value we might expect to see. In this dataset, the mean and median are quite close for each feature, suggesting a symmetric distribution. The mode, however, can be quite different, especially for the petal measurements, due to the bimodal distribution.\n\nIn conclusion, the measures of central tendency and the histograms provide a useful summary of the data and can help us understand the key characteristics of each feature. They form the basis for further statistical analysis and data exploration.",
      "metadata": {
        "noteable": {
          "cell_type": "markdown"
        }
      }
    }
  ]
}