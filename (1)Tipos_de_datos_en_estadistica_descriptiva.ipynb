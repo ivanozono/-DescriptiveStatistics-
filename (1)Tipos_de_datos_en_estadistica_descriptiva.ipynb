{
  "cells": [
    {
      "cell_type": "markdown",
      "source": [
        "# Tipos de datos en estadística descriptiva\n",
        "\n",
        "En estadística, es crucial entender los diferentes tipos de datos que puedes encontrar. Los datos pueden ser cualitativos o cuantitativos, y cada uno tiene sus propios métodos de análisis.\n",
        "\n",
        "## Datos cualitativos\n",
        "Son datos que describen características o cualidades que no pueden ser medidas con números. Ejemplos: color de ojos, tipo de vivienda, marca de coche.\n",
        "\n",
        "## Datos cuantitativos\n",
        "Son datos que pueden ser medidos con números. Estos pueden ser de dos tipos: discretos y continuos. Los datos discretos son contables (ejemplo: número de hijos), mientras que los datos continuos pueden tomar cualquier valor dentro de un rango específico (ejemplo: peso, altura).\n",
        "\n",
        "En este notebook, vamos a explorar estos conceptos utilizando la biblioteca Pandas en Python y un conjunto de datos integrado."
      ],
      "metadata": {
        "noteable": {
          "cell_type": "markdown"
        }
      },
      "id": "9f9ee5c3-e043-45d7-aa17-07ac8ce7f2d8"
    },
    {
      "cell_type": "code",
      "source": [
        "# Importing necessary libraries\n",
        "import pandas as pd\n",
        "\n",
        "# Loading the built-in iris dataset from seaborn\n",
        "iris = pd.read_csv('https://raw.githubusercontent.com/mwaskom/seaborn-data/master/iris.csv')\n",
        "\n",
        "# Displaying the first few rows of the dataset\n",
        "iris.head()"
      ],
      "outputs": [
        {
          "output_type": "display_data",
          "data": {
            "application/vnd.dataresource+json": {
              "schema": {
                "fields": [
                  {
                    "name": "index",
                    "type": "integer"
                  },
                  {
                    "name": "sepal_length",
                    "type": "number"
                  },
                  {
                    "name": "sepal_width",
                    "type": "number"
                  },
                  {
                    "name": "petal_length",
                    "type": "number"
                  },
                  {
                    "name": "petal_width",
                    "type": "number"
                  },
                  {
                    "name": "species",
                    "type": "string"
                  }
                ],
                "primaryKey": [
                  "index"
                ],
                "pandas_version": "1.4.0"
              },
              "data": [
                {
                  "index": 0,
                  "sepal_length": 5.1,
                  "sepal_width": 3.5,
                  "petal_length": 1.4,
                  "petal_width": 0.2,
                  "species": "setosa"
                },
                {
                  "index": 1,
                  "sepal_length": 4.9,
                  "sepal_width": 3,
                  "petal_length": 1.4,
                  "petal_width": 0.2,
                  "species": "setosa"
                },
                {
                  "index": 2,
                  "sepal_length": 4.7,
                  "sepal_width": 3.2,
                  "petal_length": 1.3,
                  "petal_width": 0.2,
                  "species": "setosa"
                },
                {
                  "index": 3,
                  "sepal_length": 4.6,
                  "sepal_width": 3.1,
                  "petal_length": 1.5,
                  "petal_width": 0.2,
                  "species": "setosa"
                },
                {
                  "index": 4,
                  "sepal_length": 5,
                  "sepal_width": 3.6,
                  "petal_length": 1.4,
                  "petal_width": 0.2,
                  "species": "setosa"
                }
              ],
              "datalink": {
                "display_id": "19d124df-0962-49fc-8094-c885a3a105fd"
              }
            }
          },
          "metadata": {
            "application/vnd.dataresource+json": {
              "datalink": {
                "dataframe_info": {
                  "default_index_used": true,
                  "orig_size_bytes": 240,
                  "orig_num_rows": 5,
                  "orig_num_cols": 5,
                  "truncated_string_columns": [],
                  "truncated_size_bytes": 240,
                  "truncated_num_rows": 5,
                  "truncated_num_cols": 5
                },
                "dx_settings": {
                  "NUM_PAST_SAMPLES_TRACKED": 3,
                  "ENABLE_DATALINK": true,
                  "DISPLAY_MODE": "simple",
                  "GENERATE_DEX_METADATA": false,
                  "STRINGIFY_INDEX_VALUES": false,
                  "ALLOW_NOTEABLE_ATTRS": true,
                  "DISPLAY_MAX_COLUMNS": 100,
                  "HTML_TABLE_SCHEMA": false,
                  "SAMPLING_FACTOR": 0.1,
                  "LOG_LEVEL": 30,
                  "ENABLE_ASSIGNMENT": true,
                  "FLATTEN_INDEX_VALUES": false,
                  "DEV_MODE": false,
                  "COLUMN_SAMPLING_METHOD": "outer",
                  "FLATTEN_COLUMN_VALUES": true,
                  "DISPLAY_MAX_ROWS": 50000,
                  "ROW_SAMPLING_METHOD": "random",
                  "RANDOM_STATE": 12648430,
                  "DB_LOCATION": ":memory:",
                  "STRINGIFY_COLUMN_VALUES": true,
                  "SAMPLING_METHOD": "random",
                  "MAX_STRING_LENGTH": 250,
                  "MAX_RENDER_SIZE_BYTES": 104857600,
                  "RESET_INDEX_VALUES": false
                },
                "display_id": "19d124df-0962-49fc-8094-c885a3a105fd",
                "applied_filters": [],
                "sample_history": [],
                "sampling_time": "2023-07-04T14:47:46.970340",
                "variable_name": "unk_dataframe_344bcf2511c84a8db6f6a730a040009f",
                "user_variable_name": null
              },
              "display_id": "19d124df-0962-49fc-8094-c885a3a105fd"
            }
          }
        }
      ],
      "execution_count": null,
      "metadata": {
        "noteable": {
          "cell_type": "code"
        },
        "ExecuteTime": {
          "end_time": "2023-07-04T14:47:47.128516+00:00",
          "start_time": "2023-07-04T14:47:46.888203+00:00"
        },
        "datalink": {
          "19d124df-0962-49fc-8094-c885a3a105fd": {
            "applied_filters": [],
            "dataframe_info": {
              "default_index_used": true,
              "orig_num_cols": 5,
              "orig_num_rows": 5,
              "orig_size_bytes": 240,
              "truncated_num_cols": 5,
              "truncated_num_rows": 5,
              "truncated_size_bytes": 240,
              "truncated_string_columns": []
            },
            "display_id": "19d124df-0962-49fc-8094-c885a3a105fd",
            "dx_settings": {
              "ALLOW_NOTEABLE_ATTRS": true,
              "COLUMN_SAMPLING_METHOD": "outer",
              "DB_LOCATION": ":memory:",
              "DEV_MODE": false,
              "DISPLAY_MAX_COLUMNS": 100,
              "DISPLAY_MAX_ROWS": 50000,
              "DISPLAY_MODE": "simple",
              "ENABLE_ASSIGNMENT": true,
              "ENABLE_DATALINK": true,
              "FLATTEN_COLUMN_VALUES": true,
              "FLATTEN_INDEX_VALUES": false,
              "GENERATE_DEX_METADATA": false,
              "HTML_TABLE_SCHEMA": false,
              "LOG_LEVEL": 30,
              "MAX_RENDER_SIZE_BYTES": 104857600,
              "MAX_STRING_LENGTH": 250,
              "NUM_PAST_SAMPLES_TRACKED": 3,
              "RANDOM_STATE": 12648430,
              "RESET_INDEX_VALUES": false,
              "ROW_SAMPLING_METHOD": "random",
              "SAMPLING_FACTOR": 0.1,
              "SAMPLING_METHOD": "random",
              "STRINGIFY_COLUMN_VALUES": true,
              "STRINGIFY_INDEX_VALUES": false
            },
            "sample_history": [],
            "sampling_time": "2023-07-04T14:47:46.970340",
            "user_variable_name": null,
            "variable_name": "unk_dataframe_344bcf2511c84a8db6f6a730a040009f"
          }
        }
      },
      "id": "58762deb-9a19-49b8-af94-fbddf3b84744"
    },
    {
      "cell_type": "markdown",
      "source": [
        "The dataset we are using is the famous Iris dataset. It contains measurements for 150 iris flowers from three different species.\n",
        "\n",
        "The three classes in the Iris dataset are:\n",
        "\n",
        "1. Iris-setosa (n=50)\n",
        "2. Iris-versicolor (n=50)\n",
        "3. Iris-virginica (n=50)\n",
        "\n",
        "And the four features of in Iris dataset are:\n",
        "\n",
        "1. sepal length in cm\n",
        "2. sepal width in cm\n",
        "3. petal length in cm\n",
        "4. petal width in cm\n",
        "\n",
        "Let's explore the data a bit more."
      ],
      "metadata": {
        "noteable": {
          "cell_type": "markdown"
        }
      },
      "id": "e220d2e4-062d-45f0-920f-65e7d97b459a"
    },
    {
      "cell_type": "code",
      "source": [
        "# Checking the shape of the dataset\n",
        "iris.shape"
      ],
      "outputs": [
        {
          "output_type": "execute_result",
          "execution_count": null,
          "data": {
            "text/plain": "(150, 5)"
          },
          "metadata": {}
        }
      ],
      "execution_count": null,
      "metadata": {
        "noteable": {
          "cell_type": "code"
        },
        "ExecuteTime": {
          "end_time": "2023-07-04T14:48:31.285314+00:00",
          "start_time": "2023-07-04T14:48:31.124535+00:00"
        }
      },
      "id": "697e7285-81ae-4dba-b2f0-6cbfd58ec4c8"
    },
    {
      "cell_type": "markdown",
      "source": [
        "The dataset contains 150 rows and 5 columns. Each row corresponds to a single flower. The columns correspond to the features of the flower and its species.\n",
        "\n",
        "Let's check the data types of the columns."
      ],
      "metadata": {
        "noteable": {
          "cell_type": "markdown"
        }
      },
      "id": "303f3ea4-0fb6-4a4f-acf6-af21d54d6501"
    },
    {
      "cell_type": "code",
      "source": [
        "# Checking the data types of the columns\n",
        "iris.dtypes"
      ],
      "outputs": [
        {
          "output_type": "display_data",
          "data": {
            "application/vnd.dataresource+json": {
              "schema": {
                "fields": [
                  {
                    "name": "index",
                    "type": "string"
                  },
                  {
                    "name": "0",
                    "type": "string"
                  }
                ],
                "primaryKey": [
                  "index"
                ],
                "pandas_version": "1.4.0"
              },
              "data": [
                {
                  "0": "float64",
                  "index": "sepal_length"
                },
                {
                  "0": "float64",
                  "index": "sepal_width"
                },
                {
                  "0": "float64",
                  "index": "petal_length"
                },
                {
                  "0": "float64",
                  "index": "petal_width"
                },
                {
                  "0": "object",
                  "index": "species"
                }
              ],
              "datalink": {
                "display_id": "a61369fa-02c5-4e62-b660-66c96db0f453"
              }
            }
          },
          "metadata": {
            "application/vnd.dataresource+json": {
              "datalink": {
                "dataframe_info": {
                  "default_index_used": false,
                  "orig_size_bytes": 80,
                  "orig_num_rows": 5,
                  "orig_num_cols": 1,
                  "truncated_string_columns": [],
                  "truncated_size_bytes": 80,
                  "truncated_num_rows": 5,
                  "truncated_num_cols": 1
                },
                "dx_settings": {
                  "NUM_PAST_SAMPLES_TRACKED": 3,
                  "ENABLE_DATALINK": true,
                  "DISPLAY_MODE": "simple",
                  "GENERATE_DEX_METADATA": false,
                  "STRINGIFY_INDEX_VALUES": false,
                  "ALLOW_NOTEABLE_ATTRS": true,
                  "DISPLAY_MAX_COLUMNS": 100,
                  "HTML_TABLE_SCHEMA": false,
                  "SAMPLING_FACTOR": 0.1,
                  "LOG_LEVEL": 30,
                  "ENABLE_ASSIGNMENT": true,
                  "FLATTEN_INDEX_VALUES": false,
                  "DEV_MODE": false,
                  "COLUMN_SAMPLING_METHOD": "outer",
                  "FLATTEN_COLUMN_VALUES": true,
                  "DISPLAY_MAX_ROWS": 50000,
                  "ROW_SAMPLING_METHOD": "random",
                  "RANDOM_STATE": 12648430,
                  "DB_LOCATION": ":memory:",
                  "STRINGIFY_COLUMN_VALUES": true,
                  "SAMPLING_METHOD": "random",
                  "MAX_STRING_LENGTH": 250,
                  "MAX_RENDER_SIZE_BYTES": 104857600,
                  "RESET_INDEX_VALUES": false
                },
                "display_id": "a61369fa-02c5-4e62-b660-66c96db0f453",
                "applied_filters": [],
                "sample_history": [],
                "sampling_time": "2023-07-04T14:49:02.060114",
                "variable_name": "unk_dataframe_e0f0af837f6c4f66bdcb303a3e421744",
                "user_variable_name": null
              },
              "display_id": "a61369fa-02c5-4e62-b660-66c96db0f453"
            }
          }
        }
      ],
      "execution_count": null,
      "metadata": {
        "noteable": {
          "cell_type": "code"
        },
        "ExecuteTime": {
          "end_time": "2023-07-04T14:49:02.217241+00:00",
          "start_time": "2023-07-04T14:49:02.026316+00:00"
        },
        "datalink": {
          "a61369fa-02c5-4e62-b660-66c96db0f453": {
            "applied_filters": [],
            "dataframe_info": {
              "default_index_used": false,
              "orig_num_cols": 1,
              "orig_num_rows": 5,
              "orig_size_bytes": 80,
              "truncated_num_cols": 1,
              "truncated_num_rows": 5,
              "truncated_size_bytes": 80,
              "truncated_string_columns": []
            },
            "display_id": "a61369fa-02c5-4e62-b660-66c96db0f453",
            "dx_settings": {
              "ALLOW_NOTEABLE_ATTRS": true,
              "COLUMN_SAMPLING_METHOD": "outer",
              "DB_LOCATION": ":memory:",
              "DEV_MODE": false,
              "DISPLAY_MAX_COLUMNS": 100,
              "DISPLAY_MAX_ROWS": 50000,
              "DISPLAY_MODE": "simple",
              "ENABLE_ASSIGNMENT": true,
              "ENABLE_DATALINK": true,
              "FLATTEN_COLUMN_VALUES": true,
              "FLATTEN_INDEX_VALUES": false,
              "GENERATE_DEX_METADATA": false,
              "HTML_TABLE_SCHEMA": false,
              "LOG_LEVEL": 30,
              "MAX_RENDER_SIZE_BYTES": 104857600,
              "MAX_STRING_LENGTH": 250,
              "NUM_PAST_SAMPLES_TRACKED": 3,
              "RANDOM_STATE": 12648430,
              "RESET_INDEX_VALUES": false,
              "ROW_SAMPLING_METHOD": "random",
              "SAMPLING_FACTOR": 0.1,
              "SAMPLING_METHOD": "random",
              "STRINGIFY_COLUMN_VALUES": true,
              "STRINGIFY_INDEX_VALUES": false
            },
            "sample_history": [],
            "sampling_time": "2023-07-04T14:49:02.060114",
            "user_variable_name": null,
            "variable_name": "unk_dataframe_e0f0af837f6c4f66bdcb303a3e421744"
          }
        }
      },
      "id": "4818f0ca-0e38-4c9c-96f8-a7e8e0ea6a69"
    },
    {
      "cell_type": "markdown",
      "source": [
        "The features (sepal length, sepal width, petal length, petal width) are all of type float, and the species column is of type object, which is used for string or text data in pandas.\n",
        "\n",
        "This means that our dataset contains both quantitative (the features) and qualitative (the species) data.\n",
        "\n",
        "Let's do some basic data analysis."
      ],
      "metadata": {
        "noteable": {
          "cell_type": "markdown"
        }
      },
      "id": "6c2f00cc-7120-44b5-a5b9-a7a423db87be"
    },
    {
      "cell_type": "code",
      "source": [
        "# Checking the basic statistics of the quantitative data\n",
        "iris.describe()"
      ],
      "outputs": [
        {
          "output_type": "display_data",
          "data": {
            "application/vnd.dataresource+json": {
              "schema": {
                "fields": [
                  {
                    "name": "index",
                    "type": "string"
                  },
                  {
                    "name": "sepal_length",
                    "type": "number"
                  },
                  {
                    "name": "sepal_width",
                    "type": "number"
                  },
                  {
                    "name": "petal_length",
                    "type": "number"
                  },
                  {
                    "name": "petal_width",
                    "type": "number"
                  }
                ],
                "primaryKey": [
                  "index"
                ],
                "pandas_version": "1.4.0"
              },
              "data": [
                {
                  "index": "count",
                  "sepal_length": 150,
                  "sepal_width": 150,
                  "petal_length": 150,
                  "petal_width": 150
                },
                {
                  "index": "mean",
                  "sepal_length": 5.843333333333334,
                  "sepal_width": 3.0573333333333337,
                  "petal_length": 3.7580000000000005,
                  "petal_width": 1.1993333333333336
                },
                {
                  "index": "std",
                  "sepal_length": 0.8280661279778629,
                  "sepal_width": 0.435866284936698,
                  "petal_length": 1.7652982332594667,
                  "petal_width": 0.7622376689603465
                },
                {
                  "index": "min",
                  "sepal_length": 4.3,
                  "sepal_width": 2,
                  "petal_length": 1,
                  "petal_width": 0.1
                },
                {
                  "index": "25%",
                  "sepal_length": 5.1,
                  "sepal_width": 2.8,
                  "petal_length": 1.6,
                  "petal_width": 0.3
                },
                {
                  "index": "50%",
                  "sepal_length": 5.8,
                  "sepal_width": 3,
                  "petal_length": 4.35,
                  "petal_width": 1.3
                },
                {
                  "index": "75%",
                  "sepal_length": 6.4,
                  "sepal_width": 3.3,
                  "petal_length": 5.1,
                  "petal_width": 1.8
                },
                {
                  "index": "max",
                  "sepal_length": 7.9,
                  "sepal_width": 4.4,
                  "petal_length": 6.9,
                  "petal_width": 2.5
                }
              ],
              "datalink": {
                "display_id": "589533da-55f8-4c32-839b-44c6b205cb77"
              }
            }
          },
          "metadata": {
            "application/vnd.dataresource+json": {
              "datalink": {
                "dataframe_info": {
                  "default_index_used": false,
                  "orig_size_bytes": 320,
                  "orig_num_rows": 8,
                  "orig_num_cols": 4,
                  "truncated_string_columns": [],
                  "truncated_size_bytes": 320,
                  "truncated_num_rows": 8,
                  "truncated_num_cols": 4
                },
                "dx_settings": {
                  "NUM_PAST_SAMPLES_TRACKED": 3,
                  "ENABLE_DATALINK": true,
                  "DISPLAY_MODE": "simple",
                  "GENERATE_DEX_METADATA": false,
                  "STRINGIFY_INDEX_VALUES": false,
                  "ALLOW_NOTEABLE_ATTRS": true,
                  "DISPLAY_MAX_COLUMNS": 100,
                  "HTML_TABLE_SCHEMA": false,
                  "SAMPLING_FACTOR": 0.1,
                  "LOG_LEVEL": 30,
                  "ENABLE_ASSIGNMENT": true,
                  "FLATTEN_INDEX_VALUES": false,
                  "DEV_MODE": false,
                  "COLUMN_SAMPLING_METHOD": "outer",
                  "FLATTEN_COLUMN_VALUES": true,
                  "DISPLAY_MAX_ROWS": 50000,
                  "ROW_SAMPLING_METHOD": "random",
                  "RANDOM_STATE": 12648430,
                  "DB_LOCATION": ":memory:",
                  "STRINGIFY_COLUMN_VALUES": true,
                  "SAMPLING_METHOD": "random",
                  "MAX_STRING_LENGTH": 250,
                  "MAX_RENDER_SIZE_BYTES": 104857600,
                  "RESET_INDEX_VALUES": false
                },
                "display_id": "589533da-55f8-4c32-839b-44c6b205cb77",
                "applied_filters": [],
                "sample_history": [],
                "sampling_time": "2023-07-04T14:49:38.824547",
                "variable_name": "unk_dataframe_4da5bac269844b1eac6dee227328f0aa",
                "user_variable_name": null
              },
              "display_id": "589533da-55f8-4c32-839b-44c6b205cb77"
            }
          }
        }
      ],
      "execution_count": null,
      "metadata": {
        "noteable": {
          "cell_type": "code"
        },
        "ExecuteTime": {
          "end_time": "2023-07-04T14:49:38.982147+00:00",
          "start_time": "2023-07-04T14:49:38.778752+00:00"
        },
        "datalink": {
          "589533da-55f8-4c32-839b-44c6b205cb77": {
            "applied_filters": [],
            "dataframe_info": {
              "default_index_used": false,
              "orig_num_cols": 4,
              "orig_num_rows": 8,
              "orig_size_bytes": 320,
              "truncated_num_cols": 4,
              "truncated_num_rows": 8,
              "truncated_size_bytes": 320,
              "truncated_string_columns": []
            },
            "display_id": "589533da-55f8-4c32-839b-44c6b205cb77",
            "dx_settings": {
              "ALLOW_NOTEABLE_ATTRS": true,
              "COLUMN_SAMPLING_METHOD": "outer",
              "DB_LOCATION": ":memory:",
              "DEV_MODE": false,
              "DISPLAY_MAX_COLUMNS": 100,
              "DISPLAY_MAX_ROWS": 50000,
              "DISPLAY_MODE": "simple",
              "ENABLE_ASSIGNMENT": true,
              "ENABLE_DATALINK": true,
              "FLATTEN_COLUMN_VALUES": true,
              "FLATTEN_INDEX_VALUES": false,
              "GENERATE_DEX_METADATA": false,
              "HTML_TABLE_SCHEMA": false,
              "LOG_LEVEL": 30,
              "MAX_RENDER_SIZE_BYTES": 104857600,
              "MAX_STRING_LENGTH": 250,
              "NUM_PAST_SAMPLES_TRACKED": 3,
              "RANDOM_STATE": 12648430,
              "RESET_INDEX_VALUES": false,
              "ROW_SAMPLING_METHOD": "random",
              "SAMPLING_FACTOR": 0.1,
              "SAMPLING_METHOD": "random",
              "STRINGIFY_COLUMN_VALUES": true,
              "STRINGIFY_INDEX_VALUES": false
            },
            "sample_history": [],
            "sampling_time": "2023-07-04T14:49:38.824547",
            "user_variable_name": null,
            "variable_name": "unk_dataframe_4da5bac269844b1eac6dee227328f0aa"
          }
        }
      },
      "id": "b494db93-73be-4038-8341-fdef863f63dc"
    },
    {
      "cell_type": "markdown",
      "source": [
        "The `describe()` function provides a statistical summary of the quantitative data in the dataset. This includes the count, mean, standard deviation, minimum, 25th percentile, median (50th percentile), 75th percentile, and maximum.\n",
        "\n",
        "Now, let's check the distribution of the qualitative data, i.e., the species."
      ],
      "metadata": {
        "noteable": {
          "cell_type": "markdown"
        }
      },
      "id": "2dfdcceb-d0f3-4cbb-af70-7774af67735d"
    },
    {
      "cell_type": "code",
      "source": [
        "# Checking the distribution of the species\n",
        "iris['species'].value_counts()"
      ],
      "outputs": [
        {
          "output_type": "display_data",
          "data": {
            "application/vnd.dataresource+json": {
              "schema": {
                "fields": [
                  {
                    "name": "index",
                    "type": "string"
                  },
                  {
                    "name": "species",
                    "type": "integer"
                  }
                ],
                "primaryKey": [
                  "index"
                ],
                "pandas_version": "1.4.0"
              },
              "data": [
                {
                  "index": "setosa",
                  "species": 50
                },
                {
                  "index": "versicolor",
                  "species": 50
                },
                {
                  "index": "virginica",
                  "species": 50
                }
              ],
              "datalink": {
                "display_id": "e7e3aeae-fc58-4401-85bd-72bd685cbac1"
              }
            }
          },
          "metadata": {
            "application/vnd.dataresource+json": {
              "datalink": {
                "dataframe_info": {
                  "default_index_used": false,
                  "orig_size_bytes": 48,
                  "orig_num_rows": 3,
                  "orig_num_cols": 1,
                  "truncated_string_columns": [],
                  "truncated_size_bytes": 48,
                  "truncated_num_rows": 3,
                  "truncated_num_cols": 1
                },
                "dx_settings": {
                  "NUM_PAST_SAMPLES_TRACKED": 3,
                  "ENABLE_DATALINK": true,
                  "DISPLAY_MODE": "simple",
                  "GENERATE_DEX_METADATA": false,
                  "STRINGIFY_INDEX_VALUES": false,
                  "ALLOW_NOTEABLE_ATTRS": true,
                  "DISPLAY_MAX_COLUMNS": 100,
                  "HTML_TABLE_SCHEMA": false,
                  "SAMPLING_FACTOR": 0.1,
                  "LOG_LEVEL": 30,
                  "ENABLE_ASSIGNMENT": true,
                  "FLATTEN_INDEX_VALUES": false,
                  "DEV_MODE": false,
                  "COLUMN_SAMPLING_METHOD": "outer",
                  "FLATTEN_COLUMN_VALUES": true,
                  "DISPLAY_MAX_ROWS": 50000,
                  "ROW_SAMPLING_METHOD": "random",
                  "RANDOM_STATE": 12648430,
                  "DB_LOCATION": ":memory:",
                  "STRINGIFY_COLUMN_VALUES": true,
                  "SAMPLING_METHOD": "random",
                  "MAX_STRING_LENGTH": 250,
                  "MAX_RENDER_SIZE_BYTES": 104857600,
                  "RESET_INDEX_VALUES": false
                },
                "display_id": "e7e3aeae-fc58-4401-85bd-72bd685cbac1",
                "applied_filters": [],
                "sample_history": [],
                "sampling_time": "2023-07-04T14:50:19.239515",
                "variable_name": "unk_dataframe_4d2d6b324d1d4c3e9ed14c6347c4a564",
                "user_variable_name": null
              },
              "display_id": "e7e3aeae-fc58-4401-85bd-72bd685cbac1"
            }
          }
        }
      ],
      "execution_count": null,
      "metadata": {
        "noteable": {
          "cell_type": "code"
        },
        "ExecuteTime": {
          "end_time": "2023-07-04T14:50:19.396332+00:00",
          "start_time": "2023-07-04T14:50:19.198808+00:00"
        },
        "datalink": {
          "e7e3aeae-fc58-4401-85bd-72bd685cbac1": {
            "applied_filters": [],
            "dataframe_info": {
              "default_index_used": false,
              "orig_num_cols": 1,
              "orig_num_rows": 3,
              "orig_size_bytes": 48,
              "truncated_num_cols": 1,
              "truncated_num_rows": 3,
              "truncated_size_bytes": 48,
              "truncated_string_columns": []
            },
            "display_id": "e7e3aeae-fc58-4401-85bd-72bd685cbac1",
            "dx_settings": {
              "ALLOW_NOTEABLE_ATTRS": true,
              "COLUMN_SAMPLING_METHOD": "outer",
              "DB_LOCATION": ":memory:",
              "DEV_MODE": false,
              "DISPLAY_MAX_COLUMNS": 100,
              "DISPLAY_MAX_ROWS": 50000,
              "DISPLAY_MODE": "simple",
              "ENABLE_ASSIGNMENT": true,
              "ENABLE_DATALINK": true,
              "FLATTEN_COLUMN_VALUES": true,
              "FLATTEN_INDEX_VALUES": false,
              "GENERATE_DEX_METADATA": false,
              "HTML_TABLE_SCHEMA": false,
              "LOG_LEVEL": 30,
              "MAX_RENDER_SIZE_BYTES": 104857600,
              "MAX_STRING_LENGTH": 250,
              "NUM_PAST_SAMPLES_TRACKED": 3,
              "RANDOM_STATE": 12648430,
              "RESET_INDEX_VALUES": false,
              "ROW_SAMPLING_METHOD": "random",
              "SAMPLING_FACTOR": 0.1,
              "SAMPLING_METHOD": "random",
              "STRINGIFY_COLUMN_VALUES": true,
              "STRINGIFY_INDEX_VALUES": false
            },
            "sample_history": [],
            "sampling_time": "2023-07-04T14:50:19.239515",
            "user_variable_name": null,
            "variable_name": "unk_dataframe_4d2d6b324d1d4c3e9ed14c6347c4a564"
          }
        }
      },
      "id": "fe1ca149-4e53-46fe-9544-24a7b3bd46cd"
    },
    {
      "cell_type": "markdown",
      "source": [
        "The dataset is balanced, meaning there are equal numbers of samples from each species (50 each of setosa, versicolor, and virginica).\n",
        "\n",
        "This concludes our basic exploration of the dataset. We've seen that it contains both qualitative and quantitative data, and we've examined the basic statistics of these features."
      ],
      "metadata": {
        "noteable": {
          "cell_type": "markdown"
        }
      },
      "id": "a73f2ff4-5e28-4598-a24b-f83eb816cab0"
    }
  ],
  "metadata": {
    "noteable-chatgpt": {
      "create_notebook": {
        "openai_conversation_id": "6eb3c9e7-c17a-5f20-bbbc-2389b74c7a36",
        "openai_ephemeral_user_id": "3af8edfd-ae3a-58ef-80b4-27e8917550be",
        "openai_subdivision1_iso_code": "MX-BCN"
      }
    },
    "noteable": {
      "last_transaction_id": "3bd6ab73-8293-43b9-bfd4-427670669785",
      "last_delta_id": "3bd6ab73-8293-43b9-bfd4-427670669785"
    },
    "selected_hardware_size": "small",
    "nteract": {
      "version": "noteable@2.9.0"
    }
  },
  "nbformat": 4,
  "nbformat_minor": 5
}