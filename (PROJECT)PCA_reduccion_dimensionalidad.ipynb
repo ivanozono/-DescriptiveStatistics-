{
  "cells": [
    {
      "cell_type": "markdown",
      "source": [
        "# Estadistica Descriptiva: Reducción de Dimensionalidad con PCA\n",
        "\n",
        "In this notebook, we will explore the concept of Principal Component Analysis (PCA) and its application in dimensionality reduction. PCA is a statistical technique used to explain the variability among correlated data in terms of a smaller number of uncorrelated variables called principal components. It is one of the most used techniques for this purpose.\n",
        "\n",
        "We will use a public finance dataset for our demonstration. Let's get started!"
      ],
      "metadata": {
        "noteable": {
          "cell_type": "markdown"
        }
      },
      "id": "68fb3d16-cdca-41a8-b01e-7f6bc9263fef"
    },
    {
      "cell_type": "code",
      "source": [
        "# Importing necessary libraries\n",
        "import pandas as pd\n",
        "import numpy as np\n",
        "from sklearn.preprocessing import StandardScaler\n",
        "from sklearn.decomposition import PCA\n",
        "import seaborn as sns\n",
        "import matplotlib.pyplot as plt\n",
        "\n",
        "# Loading the dataset\n",
        "url = 'https://raw.githubusercontent.com/plotly/datasets/master/finance-charts-apple.csv'\n",
        "finance = pd.read_csv(url)\n",
        "finance.head()"
      ],
      "outputs": [
        {
          "output_type": "display_data",
          "data": {
            "application/vnd.dataresource+json": {
              "schema": {
                "fields": [
                  {
                    "name": "index",
                    "type": "integer"
                  },
                  {
                    "name": "Date",
                    "type": "string"
                  },
                  {
                    "name": "AAPL.Open",
                    "type": "number"
                  },
                  {
                    "name": "AAPL.High",
                    "type": "number"
                  },
                  {
                    "name": "AAPL.Low",
                    "type": "number"
                  },
                  {
                    "name": "AAPL.Close",
                    "type": "number"
                  },
                  {
                    "name": "AAPL.Volume",
                    "type": "integer"
                  },
                  {
                    "name": "AAPL.Adjusted",
                    "type": "number"
                  },
                  {
                    "name": "dn",
                    "type": "number"
                  },
                  {
                    "name": "mavg",
                    "type": "number"
                  },
                  {
                    "name": "up",
                    "type": "number"
                  },
                  {
                    "name": "direction",
                    "type": "string"
                  }
                ],
                "primaryKey": [
                  "index"
                ],
                "pandas_version": "1.4.0"
              },
              "data": [
                {
                  "index": 0,
                  "Date": "2015-02-17",
                  "AAPL.Open": 127.489998,
                  "AAPL.High": 128.880005,
                  "AAPL.Low": 126.919998,
                  "AAPL.Close": 127.830002,
                  "AAPL.Volume": 63152400,
                  "AAPL.Adjusted": 122.905254,
                  "dn": 106.7410523,
                  "mavg": 117.9276669,
                  "up": 129.1142814,
                  "direction": "Increasing"
                },
                {
                  "index": 1,
                  "Date": "2015-02-18",
                  "AAPL.Open": 127.629997,
                  "AAPL.High": 128.779999,
                  "AAPL.Low": 127.449997,
                  "AAPL.Close": 128.720001,
                  "AAPL.Volume": 44891700,
                  "AAPL.Adjusted": 123.760965,
                  "dn": 107.842423,
                  "mavg": 118.9403335,
                  "up": 130.0382439,
                  "direction": "Increasing"
                },
                {
                  "index": 2,
                  "Date": "2015-02-19",
                  "AAPL.Open": 128.479996,
                  "AAPL.High": 129.029999,
                  "AAPL.Low": 128.330002,
                  "AAPL.Close": 128.449997,
                  "AAPL.Volume": 37362400,
                  "AAPL.Adjusted": 123.501363,
                  "dn": 108.8942449,
                  "mavg": 119.8891668,
                  "up": 130.8840887,
                  "direction": "Decreasing"
                },
                {
                  "index": 3,
                  "Date": "2015-02-20",
                  "AAPL.Open": 128.619995,
                  "AAPL.High": 129.5,
                  "AAPL.Low": 128.050003,
                  "AAPL.Close": 129.5,
                  "AAPL.Volume": 48948400,
                  "AAPL.Adjusted": 124.510914,
                  "dn": 109.7854494,
                  "mavg": 120.7635001,
                  "up": 131.7415509,
                  "direction": "Increasing"
                },
                {
                  "index": 4,
                  "Date": "2015-02-23",
                  "AAPL.Open": 130.020004,
                  "AAPL.High": 133,
                  "AAPL.Low": 129.660004,
                  "AAPL.Close": 133,
                  "AAPL.Volume": 70974100,
                  "AAPL.Adjusted": 127.876074,
                  "dn": 110.3725162,
                  "mavg": 121.7201668,
                  "up": 133.0678174,
                  "direction": "Increasing"
                }
              ],
              "datalink": {
                "display_id": "dea8778a-f321-4d2b-9a4c-1143f7ffad06"
              }
            }
          },
          "metadata": {
            "application/vnd.dataresource+json": {
              "datalink": {
                "dataframe_info": {
                  "default_index_used": true,
                  "orig_size_bytes": 480,
                  "orig_num_rows": 5,
                  "orig_num_cols": 11,
                  "truncated_string_columns": [],
                  "truncated_size_bytes": 480,
                  "truncated_num_rows": 5,
                  "truncated_num_cols": 11
                },
                "dx_settings": {
                  "NUM_PAST_SAMPLES_TRACKED": 3,
                  "ENABLE_DATALINK": true,
                  "DISPLAY_MODE": "simple",
                  "GENERATE_DEX_METADATA": false,
                  "STRINGIFY_INDEX_VALUES": false,
                  "ALLOW_NOTEABLE_ATTRS": true,
                  "DISPLAY_MAX_COLUMNS": 100,
                  "HTML_TABLE_SCHEMA": false,
                  "SAMPLING_FACTOR": 0.1,
                  "LOG_LEVEL": 30,
                  "ENABLE_ASSIGNMENT": true,
                  "FLATTEN_INDEX_VALUES": false,
                  "DEV_MODE": false,
                  "COLUMN_SAMPLING_METHOD": "outer",
                  "FLATTEN_COLUMN_VALUES": true,
                  "DISPLAY_MAX_ROWS": 50000,
                  "ROW_SAMPLING_METHOD": "random",
                  "RANDOM_STATE": 12648430,
                  "DB_LOCATION": ":memory:",
                  "STRINGIFY_COLUMN_VALUES": true,
                  "SAMPLING_METHOD": "random",
                  "MAX_STRING_LENGTH": 250,
                  "MAX_RENDER_SIZE_BYTES": 104857600,
                  "RESET_INDEX_VALUES": false
                },
                "display_id": "dea8778a-f321-4d2b-9a4c-1143f7ffad06",
                "applied_filters": [],
                "sample_history": [],
                "sampling_time": "2023-07-08T18:11:04.935419",
                "variable_name": "unk_dataframe_68da39b129da41918a94c6606d52b394",
                "user_variable_name": null
              },
              "display_id": "dea8778a-f321-4d2b-9a4c-1143f7ffad06"
            }
          }
        }
      ],
      "execution_count": null,
      "metadata": {
        "noteable": {
          "cell_type": "code"
        },
        "ExecuteTime": {
          "end_time": "2023-07-08T18:11:05.093288+00:00",
          "start_time": "2023-07-08T18:11:04.069963+00:00"
        },
        "datalink": {
          "dea8778a-f321-4d2b-9a4c-1143f7ffad06": {
            "applied_filters": [],
            "dataframe_info": {
              "default_index_used": true,
              "orig_num_cols": 11,
              "orig_num_rows": 5,
              "orig_size_bytes": 480,
              "truncated_num_cols": 11,
              "truncated_num_rows": 5,
              "truncated_size_bytes": 480,
              "truncated_string_columns": []
            },
            "display_id": "dea8778a-f321-4d2b-9a4c-1143f7ffad06",
            "dx_settings": {
              "ALLOW_NOTEABLE_ATTRS": true,
              "COLUMN_SAMPLING_METHOD": "outer",
              "DB_LOCATION": ":memory:",
              "DEV_MODE": false,
              "DISPLAY_MAX_COLUMNS": 100,
              "DISPLAY_MAX_ROWS": 50000,
              "DISPLAY_MODE": "simple",
              "ENABLE_ASSIGNMENT": true,
              "ENABLE_DATALINK": true,
              "FLATTEN_COLUMN_VALUES": true,
              "FLATTEN_INDEX_VALUES": false,
              "GENERATE_DEX_METADATA": false,
              "HTML_TABLE_SCHEMA": false,
              "LOG_LEVEL": 30,
              "MAX_RENDER_SIZE_BYTES": 104857600,
              "MAX_STRING_LENGTH": 250,
              "NUM_PAST_SAMPLES_TRACKED": 3,
              "RANDOM_STATE": 12648430,
              "RESET_INDEX_VALUES": false,
              "ROW_SAMPLING_METHOD": "random",
              "SAMPLING_FACTOR": 0.1,
              "SAMPLING_METHOD": "random",
              "STRINGIFY_COLUMN_VALUES": true,
              "STRINGIFY_INDEX_VALUES": false
            },
            "sample_history": [],
            "sampling_time": "2023-07-08T18:11:04.935419",
            "user_variable_name": null,
            "variable_name": "unk_dataframe_68da39b129da41918a94c6606d52b394"
          }
        }
      },
      "id": "cbe14b8a-ca87-4ada-916a-955633f70c3a"
    },
    {
      "cell_type": "markdown",
      "source": [
        "The dataset contains daily stock prices for Apple Inc. (AAPL) from February 2015 to February 2016. The columns represent the following:\n",
        "\n",
        "- `Date`: The date of the trading day\n",
        "- `AAPL.Open`: The opening stock price of the day\n",
        "- `AAPL.High`: The highest stock price of the day\n",
        "- `AAPL.Low`: The lowest stock price of the day\n",
        "- `AAPL.Close`: The closing stock price of the day\n",
        "- `AAPL.Volume`: The number of shares traded during the day\n",
        "- `AAPL.Adjusted`: The adjusted closing price for the day\n",
        "\n",
        "Next, we will standardize the data using the `StandardScaler` from sklearn. Standardization is necessary before applying PCA because PCA is sensitive to the variances of the initial variables."
      ],
      "metadata": {
        "noteable": {
          "cell_type": "markdown"
        }
      },
      "id": "6ee06279-0efd-4492-8de8-b0432cdc91c9"
    },
    {
      "cell_type": "code",
      "source": [
        "# Selecting only the numerical columns\n",
        "finance_numeric = finance.select_dtypes(include=[np.number])\n",
        "\n",
        "# Standardizing the data\n",
        "scaler = StandardScaler()\n",
        "finance_scaled = scaler.fit_transform(finance_numeric)\n",
        "\n",
        "# Checking the standardized data\n",
        "finance_scaled"
      ],
      "outputs": [
        {
          "output_type": "execute_result",
          "execution_count": null,
          "data": {
            "text/plain": "array([[ 1.29075659,  1.33091964,  1.33107431, ..., -0.05145165,\n         0.4901162 ,  1.02680378],\n       [ 1.30317189,  1.32202292,  1.37817465, ...,  0.04790668,\n         0.58578761,  1.11347779],\n       [ 1.37855093,  1.34426339,  1.45637958, ...,  0.14279505,\n         0.67542839,  1.19282383],\n       ...,\n       [ 1.82107122,  1.88337222,  1.89361358, ...,  0.70946777,\n         1.2483546 ,  1.74133042],\n       [ 2.00286821,  1.98834797,  2.0153633 , ...,  0.74278505,\n         1.32110015,  1.85114853],\n       [ 2.01616988,  1.95543118,  2.03491451, ...,  0.80216924,\n         1.39486917,  1.9358939 ]])"
          },
          "metadata": {}
        }
      ],
      "execution_count": null,
      "metadata": {
        "noteable": {
          "cell_type": "code"
        },
        "ExecuteTime": {
          "end_time": "2023-07-08T18:11:43.251149+00:00",
          "start_time": "2023-07-08T18:11:43.085580+00:00"
        }
      },
      "id": "a0d9d76c-00aa-4935-97f7-2faea89485e8"
    },
    {
      "cell_type": "markdown",
      "source": [
        "Now that we have standardized the data, we can apply PCA. But before that, let's calculate the covariance matrix. The covariance matrix is a square matrix giving the covariance between each pair of elements of a given random vector. In the covariance matrix, the covariance of a variable with itself is its variance, and the covariance of one variable with another variable is their covariance."
      ],
      "metadata": {
        "noteable": {
          "cell_type": "markdown"
        }
      },
      "id": "aff22838-40b0-4b6f-aaae-540e18385ffe"
    },
    {
      "cell_type": "code",
      "source": [
        "# Calculating the covariance matrix\n",
        "covariance_matrix = np.cov(finance_scaled.T)\n",
        "\n",
        "# Checking the covariance matrix\n",
        "covariance_matrix"
      ],
      "outputs": [
        {
          "output_type": "execute_result",
          "execution_count": null,
          "data": {
            "text/plain": "array([[ 1.0019802 ,  0.99807184,  0.99812707,  0.99416021,  0.03477171,\n         0.98477102,  0.92391392,  0.9340329 ,  0.89414293],\n       [ 0.99807184,  1.0019802 ,  0.99632162,  0.99829619,  0.06830209,\n         0.98819099,  0.92600272,  0.93778696,  0.89942598],\n       [ 0.99812707,  0.99632162,  1.0019802 ,  0.99835998, -0.01227246,\n         0.99232494,  0.91670848,  0.92250145,  0.87873554],\n       [ 0.99416021,  0.99829619,  0.99835998,  1.0019802 ,  0.02351927,\n         0.99465854,  0.91881415,  0.92741198,  0.88629763],\n       [ 0.03477171,  0.06830209, -0.01227246,  0.02351927,  1.0019802 ,\n        -0.02596801,  0.09520016,  0.15753554,  0.21385138],\n       [ 0.98477102,  0.98819099,  0.99232494,  0.99465854, -0.02596801,\n         1.0019802 ,  0.89665846,  0.90254296,  0.85994944],\n       [ 0.92391392,  0.92600272,  0.91670848,  0.91881415,  0.09520016,\n         0.89665846,  1.0019802 ,  0.97649797,  0.89729674],\n       [ 0.9340329 ,  0.93778696,  0.92250145,  0.92741198,  0.15753554,\n         0.90254296,  0.97649797,  1.0019802 ,  0.97439818],\n       [ 0.89414293,  0.89942598,  0.87873554,  0.88629763,  0.21385138,\n         0.85994944,  0.89729674,  0.97439818,  1.0019802 ]])"
          },
          "metadata": {}
        }
      ],
      "execution_count": null,
      "metadata": {
        "noteable": {
          "cell_type": "code"
        },
        "ExecuteTime": {
          "end_time": "2023-07-08T18:12:08.535615+00:00",
          "start_time": "2023-07-08T18:12:08.376135+00:00"
        }
      },
      "id": "5a13cbea-c95d-4ae7-bd8d-f04e095e428e"
    },
    {
      "cell_type": "markdown",
      "source": [
        "Now that we have the covariance matrix, we can proceed to apply PCA. PCA works by calculating the eigenvalues and eigenvectors of the covariance matrix. The eigenvectors (principal components) determine the directions of the new feature space, and the eigenvalues determine their magnitude. In other words, the eigenvalues explain the variance of the data along the new feature axes."
      ],
      "metadata": {
        "noteable": {
          "cell_type": "markdown"
        }
      },
      "id": "44f51425-0b9d-4632-8c3c-669f5590661b"
    },
    {
      "cell_type": "code",
      "source": [
        "# Applying PCA\n",
        "pca = PCA()\n",
        "finance_pca = pca.fit_transform(finance_scaled)\n",
        "\n",
        "# Checking the principal components\n",
        "finance_pca"
      ],
      "outputs": [
        {
          "output_type": "execute_result",
          "execution_count": null,
          "data": {
            "text/plain": "array([[ 2.84403325e+00,  7.13604928e-01,  1.18838977e+00, ...,\n        -3.66155150e-02, -1.99990647e-02, -3.51335957e-09],\n       [ 2.98994263e+00, -1.65198790e-01,  8.89281894e-01, ...,\n        -3.68522859e-02,  7.50466793e-03, -3.41587627e-09],\n       [ 3.11589890e+00, -5.12849923e-01,  7.02554149e-01, ...,\n        -4.80979742e-02, -1.96578209e-02,  4.15037447e-10],\n       ...,\n       [ 4.79944484e+00, -8.18123984e-01,  7.24173342e-01, ...,\n         2.63737507e-02, -3.98447615e-04,  1.39241713e-09],\n       [ 5.05650554e+00, -6.94626840e-01,  7.78091712e-01, ...,\n         1.92229854e-02, -4.23832264e-03, -2.46606180e-09],\n       [ 5.10152893e+00, -1.31925030e+00,  5.00384377e-01, ...,\n         1.69256752e-02,  8.36217275e-04,  1.40661207e-09]])"
          },
          "metadata": {}
        }
      ],
      "execution_count": null,
      "metadata": {
        "noteable": {
          "cell_type": "code"
        },
        "ExecuteTime": {
          "end_time": "2023-07-08T18:12:39.133236+00:00",
          "start_time": "2023-07-08T18:12:38.972942+00:00"
        }
      },
      "id": "bc1ccd0c-7921-4472-ba61-7614ef1494d3"
    },
    {
      "cell_type": "markdown",
      "source": [
        "The output above represents our data in terms of the principal components. Each column represents a principal component, and each row corresponds to a data point in the new feature space.\n",
        "\n",
        "Next, let's check the explained variance ratio of each principal component. The explained variance tells us how much information (variance) can be attributed to each of the principal components."
      ],
      "metadata": {
        "noteable": {
          "cell_type": "markdown"
        }
      },
      "id": "f1cee481-0b1f-4c81-a55b-343a39318743"
    },
    {
      "cell_type": "code",
      "source": [
        "# Checking the explained variance ratio\n",
        "explained_variance = pca.explained_variance_ratio_\n",
        "explained_variance"
      ],
      "outputs": [
        {
          "output_type": "execute_result",
          "execution_count": null,
          "data": {
            "text/plain": "array([8.44408784e-01, 1.17411635e-01, 2.50734697e-02, 1.05859117e-02,\n       1.72101851e-03, 4.64372427e-04, 2.50482811e-04, 8.43258218e-05,\n       6.37857412e-19])"
          },
          "metadata": {}
        }
      ],
      "execution_count": null,
      "metadata": {
        "noteable": {
          "cell_type": "code"
        },
        "ExecuteTime": {
          "end_time": "2023-07-08T18:13:06.500808+00:00",
          "start_time": "2023-07-08T18:13:06.342831+00:00"
        }
      },
      "id": "b2fc8eae-b331-4d2a-842d-4f3b066a8ea4"
    },
    {
      "cell_type": "markdown",
      "source": [
        "The output above shows the explained variance ratio of each principal component. The first principal component explains about 84.4% of the variance, the second principal component explains about 11.7% of the variance, and so on.\n",
        "\n",
        "We can see that the first two principal components explain more than 95% of the variance in the data. This means that we can effectively reduce the dimensionality of our data from 9 dimensions to 2 dimensions while retaining most of the information.\n",
        "\n",
        "Let's plot the explained variance ratio of each principal component to visualize this."
      ],
      "metadata": {
        "noteable": {
          "cell_type": "markdown"
        }
      },
      "id": "6db5712c-d0cf-48e6-b5b2-0da335a5c3a9"
    },
    {
      "cell_type": "code",
      "source": [
        "# Plotting the explained variance ratio\n",
        "plt.figure(figsize=(8, 6))\n",
        "plt.bar(range(len(explained_variance)), explained_variance, alpha=0.5, align='center', label='individual explained variance')\n",
        "plt.ylabel('Explained variance ratio')\n",
        "plt.xlabel('Principal components')\n",
        "plt.legend(loc='best')\n",
        "plt.tight_layout()"
      ],
      "outputs": [
        {
          "output_type": "display_data",
          "data": {
            "image/png": "[encoded data removed]"
          },
          "metadata": {}
        }
      ],
      "execution_count": null,
      "metadata": {
        "noteable": {
          "cell_type": "code"
        },
        "ExecuteTime": {
          "end_time": "2023-07-08T18:13:41.089298+00:00",
          "start_time": "2023-07-08T18:13:40.402303+00:00"
        }
      },
      "id": "d1f70efe-05f1-41f6-928c-08f7bcb548bf"
    },
    {
      "cell_type": "markdown",
      "source": [
        "The plot above confirms our observation that the first two principal components explain most of the variance in the data.\n",
        "\n",
        "In conclusion, PCA is a powerful technique for dimensionality reduction. It allows us to reduce the number of variables in our data while retaining most of the information. This can be particularly useful in scenarios where we have a large number of variables, as it can help to simplify the data and make it easier to analyze and visualize.\n",
        "\n",
        "In this notebook, we applied PCA to a finance dataset and managed to reduce its dimensionality from 9 to 2 while retaining more than 95% of the information. This is a significant reduction and demonstrates the effectiveness of PCA."
      ],
      "metadata": {
        "noteable": {
          "cell_type": "markdown"
        }
      },
      "id": "62d2a064-aacf-4b56-9ac5-e58ac7232935"
    }
  ],
  "metadata": {
    "noteable-chatgpt": {
      "create_notebook": {
        "openai_conversation_id": "c90e6b14-5a6f-5f19-bd9d-8e6edc0490c1",
        "openai_ephemeral_user_id": "4cdafc4f-0473-5ced-858a-f2ce9a165b1c"
      }
    },
    "noteable": {
      "last_transaction_id": "571bf251-e4c9-496c-8c79-5fb2995c369d",
      "last_delta_id": "571bf251-e4c9-496c-8c79-5fb2995c369d"
    },
    "selected_hardware_size": "small",
    "nteract": {
      "version": "noteable@2.9.0"
    }
  },
  "nbformat": 4,
  "nbformat_minor": 5
}
