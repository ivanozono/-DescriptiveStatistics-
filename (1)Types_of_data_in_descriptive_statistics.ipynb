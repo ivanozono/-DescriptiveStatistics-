{
  "cells": [
    {
      "cell_type": "markdown",
      "metadata": {
        "id": "view-in-github",
        "colab_type": "text"
      },
      "source": [
        "<a href=\"https://colab.research.google.com/github/ivanozono/DescriptiveStatistics/blob/main/(1)Types_of_data_in_descriptive_statistics.ipynb\" target=\"_parent\"><img src=\"https://colab.research.google.com/assets/colab-badge.svg\" alt=\"Open In Colab\"/></a>"
      ]
    },
    {
      "cell_type": "markdown",
      "source": [
        "# Types of data in descriptive statistics\n",
        "\n",
        "---\n",
        "\n",
        "In statistics, it is crucial to understand the different types of data that you can find. Data can be qualitative or quantitative, and each one has its own methods of analysis.\n",
        "\n",
        "---\n",
        "\n",
        "## Qualitative data\n",
        "These are data that describe characteristics or qualities that cannot be measured with numbers. Examples: eye color, type of housing, car brand.\n",
        "\n",
        "## Quantitative data\n",
        "These are data that can be measured with numbers. They can be of two types: discrete and continuous. Discrete data are countable (example: number of children), while continuous data can take any value within a specific range (example: weight, height).\n",
        "\n",
        "In this notebook, we will explore these concepts using the Pandas library in Python and an integrated dataset.\n",
        "\n"
      ],
      "metadata": {
        "noteable": {
          "cell_type": "markdown"
        },
        "id": "9f9ee5c3-e043-45d7-aa17-07ac8ce7f2d8"
      },
      "id": "9f9ee5c3-e043-45d7-aa17-07ac8ce7f2d8"
    },
    {
      "cell_type": "markdown",
      "source": [
        "---\n",
        "\n",
        "**Loading and Displaying the Iris Dataset**\n",
        "\n",
        "---"
      ],
      "metadata": {
        "id": "2OW9ubQOftkL"
      },
      "id": "2OW9ubQOftkL"
    },
    {
      "cell_type": "code",
      "source": [
        "# Importing necessary libraries\n",
        "import pandas as pd\n",
        "\n",
        "# Loading the built-in iris dataset from seaborn\n",
        "iris = pd.read_csv('https://raw.githubusercontent.com/mwaskom/seaborn-data/master/iris.csv')\n",
        "\n",
        "# Displaying the first few rows of the dataset\n",
        "iris.head()"
      ],
      "outputs": [
        {
          "output_type": "execute_result",
          "data": {
            "text/plain": [
              "   sepal_length  sepal_width  petal_length  petal_width species\n",
              "0           5.1          3.5           1.4          0.2  setosa\n",
              "1           4.9          3.0           1.4          0.2  setosa\n",
              "2           4.7          3.2           1.3          0.2  setosa\n",
              "3           4.6          3.1           1.5          0.2  setosa\n",
              "4           5.0          3.6           1.4          0.2  setosa"
            ],
            "text/html": [
              "\n",
              "  <div id=\"df-ff9642a7-d2ac-4794-a644-986b02cacce5\" class=\"colab-df-container\">\n",
              "    <div>\n",
              "<style scoped>\n",
              "    .dataframe tbody tr th:only-of-type {\n",
              "        vertical-align: middle;\n",
              "    }\n",
              "\n",
              "    .dataframe tbody tr th {\n",
              "        vertical-align: top;\n",
              "    }\n",
              "\n",
              "    .dataframe thead th {\n",
              "        text-align: right;\n",
              "    }\n",
              "</style>\n",
              "<table border=\"1\" class=\"dataframe\">\n",
              "  <thead>\n",
              "    <tr style=\"text-align: right;\">\n",
              "      <th></th>\n",
              "      <th>sepal_length</th>\n",
              "      <th>sepal_width</th>\n",
              "      <th>petal_length</th>\n",
              "      <th>petal_width</th>\n",
              "      <th>species</th>\n",
              "    </tr>\n",
              "  </thead>\n",
              "  <tbody>\n",
              "    <tr>\n",
              "      <th>0</th>\n",
              "      <td>5.1</td>\n",
              "      <td>3.5</td>\n",
              "      <td>1.4</td>\n",
              "      <td>0.2</td>\n",
              "      <td>setosa</td>\n",
              "    </tr>\n",
              "    <tr>\n",
              "      <th>1</th>\n",
              "      <td>4.9</td>\n",
              "      <td>3.0</td>\n",
              "      <td>1.4</td>\n",
              "      <td>0.2</td>\n",
              "      <td>setosa</td>\n",
              "    </tr>\n",
              "    <tr>\n",
              "      <th>2</th>\n",
              "      <td>4.7</td>\n",
              "      <td>3.2</td>\n",
              "      <td>1.3</td>\n",
              "      <td>0.2</td>\n",
              "      <td>setosa</td>\n",
              "    </tr>\n",
              "    <tr>\n",
              "      <th>3</th>\n",
              "      <td>4.6</td>\n",
              "      <td>3.1</td>\n",
              "      <td>1.5</td>\n",
              "      <td>0.2</td>\n",
              "      <td>setosa</td>\n",
              "    </tr>\n",
              "    <tr>\n",
              "      <th>4</th>\n",
              "      <td>5.0</td>\n",
              "      <td>3.6</td>\n",
              "      <td>1.4</td>\n",
              "      <td>0.2</td>\n",
              "      <td>setosa</td>\n",
              "    </tr>\n",
              "  </tbody>\n",
              "</table>\n",
              "</div>\n",
              "    <div class=\"colab-df-buttons\">\n",
              "\n",
              "  <div class=\"colab-df-container\">\n",
              "    <button class=\"colab-df-convert\" onclick=\"convertToInteractive('df-ff9642a7-d2ac-4794-a644-986b02cacce5')\"\n",
              "            title=\"Convert this dataframe to an interactive table.\"\n",
              "            style=\"display:none;\">\n",
              "\n",
              "  <svg xmlns=\"http://www.w3.org/2000/svg\" height=\"24px\" viewBox=\"0 -960 960 960\">\n",
              "    <path d=\"M120-120v-720h720v720H120Zm60-500h600v-160H180v160Zm220 220h160v-160H400v160Zm0 220h160v-160H400v160ZM180-400h160v-160H180v160Zm440 0h160v-160H620v160ZM180-180h160v-160H180v160Zm440 0h160v-160H620v160Z\"/>\n",
              "  </svg>\n",
              "    </button>\n",
              "\n",
              "  <style>\n",
              "    .colab-df-container {\n",
              "      display:flex;\n",
              "      gap: 12px;\n",
              "    }\n",
              "\n",
              "    .colab-df-convert {\n",
              "      background-color: #E8F0FE;\n",
              "      border: none;\n",
              "      border-radius: 50%;\n",
              "      cursor: pointer;\n",
              "      display: none;\n",
              "      fill: #1967D2;\n",
              "      height: 32px;\n",
              "      padding: 0 0 0 0;\n",
              "      width: 32px;\n",
              "    }\n",
              "\n",
              "    .colab-df-convert:hover {\n",
              "      background-color: #E2EBFA;\n",
              "      box-shadow: 0px 1px 2px rgba(60, 64, 67, 0.3), 0px 1px 3px 1px rgba(60, 64, 67, 0.15);\n",
              "      fill: #174EA6;\n",
              "    }\n",
              "\n",
              "    .colab-df-buttons div {\n",
              "      margin-bottom: 4px;\n",
              "    }\n",
              "\n",
              "    [theme=dark] .colab-df-convert {\n",
              "      background-color: #3B4455;\n",
              "      fill: #D2E3FC;\n",
              "    }\n",
              "\n",
              "    [theme=dark] .colab-df-convert:hover {\n",
              "      background-color: #434B5C;\n",
              "      box-shadow: 0px 1px 3px 1px rgba(0, 0, 0, 0.15);\n",
              "      filter: drop-shadow(0px 1px 2px rgba(0, 0, 0, 0.3));\n",
              "      fill: #FFFFFF;\n",
              "    }\n",
              "  </style>\n",
              "\n",
              "    <script>\n",
              "      const buttonEl =\n",
              "        document.querySelector('#df-ff9642a7-d2ac-4794-a644-986b02cacce5 button.colab-df-convert');\n",
              "      buttonEl.style.display =\n",
              "        google.colab.kernel.accessAllowed ? 'block' : 'none';\n",
              "\n",
              "      async function convertToInteractive(key) {\n",
              "        const element = document.querySelector('#df-ff9642a7-d2ac-4794-a644-986b02cacce5');\n",
              "        const dataTable =\n",
              "          await google.colab.kernel.invokeFunction('convertToInteractive',\n",
              "                                                    [key], {});\n",
              "        if (!dataTable) return;\n",
              "\n",
              "        const docLinkHtml = 'Like what you see? Visit the ' +\n",
              "          '<a target=\"_blank\" href=https://colab.research.google.com/notebooks/data_table.ipynb>data table notebook</a>'\n",
              "          + ' to learn more about interactive tables.';\n",
              "        element.innerHTML = '';\n",
              "        dataTable['output_type'] = 'display_data';\n",
              "        await google.colab.output.renderOutput(dataTable, element);\n",
              "        const docLink = document.createElement('div');\n",
              "        docLink.innerHTML = docLinkHtml;\n",
              "        element.appendChild(docLink);\n",
              "      }\n",
              "    </script>\n",
              "  </div>\n",
              "\n",
              "\n",
              "<div id=\"df-51c411be-d5d9-44c6-9f09-e4b92b0dd53d\">\n",
              "  <button class=\"colab-df-quickchart\" onclick=\"quickchart('df-51c411be-d5d9-44c6-9f09-e4b92b0dd53d')\"\n",
              "            title=\"Suggest charts.\"\n",
              "            style=\"display:none;\">\n",
              "\n",
              "<svg xmlns=\"http://www.w3.org/2000/svg\" height=\"24px\"viewBox=\"0 0 24 24\"\n",
              "     width=\"24px\">\n",
              "    <g>\n",
              "        <path d=\"M19 3H5c-1.1 0-2 .9-2 2v14c0 1.1.9 2 2 2h14c1.1 0 2-.9 2-2V5c0-1.1-.9-2-2-2zM9 17H7v-7h2v7zm4 0h-2V7h2v10zm4 0h-2v-4h2v4z\"/>\n",
              "    </g>\n",
              "</svg>\n",
              "  </button>\n",
              "\n",
              "<style>\n",
              "  .colab-df-quickchart {\n",
              "    background-color: #E8F0FE;\n",
              "    border: none;\n",
              "    border-radius: 50%;\n",
              "    cursor: pointer;\n",
              "    display: none;\n",
              "    fill: #1967D2;\n",
              "    height: 32px;\n",
              "    padding: 0 0 0 0;\n",
              "    width: 32px;\n",
              "  }\n",
              "\n",
              "  .colab-df-quickchart:hover {\n",
              "    background-color: #E2EBFA;\n",
              "    box-shadow: 0px 1px 2px rgba(60, 64, 67, 0.3), 0px 1px 3px 1px rgba(60, 64, 67, 0.15);\n",
              "    fill: #174EA6;\n",
              "  }\n",
              "\n",
              "  [theme=dark] .colab-df-quickchart {\n",
              "    background-color: #3B4455;\n",
              "    fill: #D2E3FC;\n",
              "  }\n",
              "\n",
              "  [theme=dark] .colab-df-quickchart:hover {\n",
              "    background-color: #434B5C;\n",
              "    box-shadow: 0px 1px 3px 1px rgba(0, 0, 0, 0.15);\n",
              "    filter: drop-shadow(0px 1px 2px rgba(0, 0, 0, 0.3));\n",
              "    fill: #FFFFFF;\n",
              "  }\n",
              "</style>\n",
              "\n",
              "  <script>\n",
              "    async function quickchart(key) {\n",
              "      const charts = await google.colab.kernel.invokeFunction(\n",
              "          'suggestCharts', [key], {});\n",
              "    }\n",
              "    (() => {\n",
              "      let quickchartButtonEl =\n",
              "        document.querySelector('#df-51c411be-d5d9-44c6-9f09-e4b92b0dd53d button');\n",
              "      quickchartButtonEl.style.display =\n",
              "        google.colab.kernel.accessAllowed ? 'block' : 'none';\n",
              "    })();\n",
              "  </script>\n",
              "</div>\n",
              "    </div>\n",
              "  </div>\n"
            ]
          },
          "metadata": {},
          "execution_count": 2
        }
      ],
      "execution_count": 2,
      "metadata": {
        "noteable": {
          "cell_type": "code"
        },
        "ExecuteTime": {
          "end_time": "2023-07-04T14:47:47.128516+00:00",
          "start_time": "2023-07-04T14:47:46.888203+00:00"
        },
        "datalink": {
          "19d124df-0962-49fc-8094-c885a3a105fd": {
            "applied_filters": [],
            "dataframe_info": {
              "default_index_used": true,
              "orig_num_cols": 5,
              "orig_num_rows": 5,
              "orig_size_bytes": 240,
              "truncated_num_cols": 5,
              "truncated_num_rows": 5,
              "truncated_size_bytes": 240,
              "truncated_string_columns": []
            },
            "display_id": "19d124df-0962-49fc-8094-c885a3a105fd",
            "dx_settings": {
              "ALLOW_NOTEABLE_ATTRS": true,
              "COLUMN_SAMPLING_METHOD": "outer",
              "DB_LOCATION": ":memory:",
              "DEV_MODE": false,
              "DISPLAY_MAX_COLUMNS": 100,
              "DISPLAY_MAX_ROWS": 50000,
              "DISPLAY_MODE": "simple",
              "ENABLE_ASSIGNMENT": true,
              "ENABLE_DATALINK": true,
              "FLATTEN_COLUMN_VALUES": true,
              "FLATTEN_INDEX_VALUES": false,
              "GENERATE_DEX_METADATA": false,
              "HTML_TABLE_SCHEMA": false,
              "LOG_LEVEL": 30,
              "MAX_RENDER_SIZE_BYTES": 104857600,
              "MAX_STRING_LENGTH": 250,
              "NUM_PAST_SAMPLES_TRACKED": 3,
              "RANDOM_STATE": 12648430,
              "RESET_INDEX_VALUES": false,
              "ROW_SAMPLING_METHOD": "random",
              "SAMPLING_FACTOR": 0.1,
              "SAMPLING_METHOD": "random",
              "STRINGIFY_COLUMN_VALUES": true,
              "STRINGIFY_INDEX_VALUES": false
            },
            "sample_history": [],
            "sampling_time": "2023-07-04T14:47:46.970340",
            "user_variable_name": null,
            "variable_name": "unk_dataframe_344bcf2511c84a8db6f6a730a040009f"
          }
        },
        "id": "58762deb-9a19-49b8-af94-fbddf3b84744",
        "outputId": "0ee9c694-d259-4ec7-ec71-88beee1d16ae",
        "colab": {
          "base_uri": "https://localhost:8080/",
          "height": 206
        }
      },
      "id": "58762deb-9a19-49b8-af94-fbddf3b84744"
    },
    {
      "cell_type": "markdown",
      "source": [
        "\n",
        "\n",
        "The purpose of this code is to import necessary libraries, load the well-known iris dataset from an online source, and then display its first few rows.\n",
        "\n",
        "---\n",
        "\n",
        "**Code Explanation:**\n",
        "\n",
        "1. **Importing the Required Library:**\n",
        "   \n",
        "    The `pandas` library, which is frequently used for data manipulation and analysis in Python, is imported.\n",
        "\n",
        "2. **Loading the Dataset:**\n",
        "  \n",
        "    Using the `read_csv()` function from the `pandas` library, the iris dataset is loaded directly from a raw GitHub link. This function reads a comma-separated values (csv) file into a DataFrame.\n",
        "\n",
        "3. **Displaying the Initial Dataset Entries:**\n",
        "   \n",
        "    The `head()` function displays the first five rows of the dataset by default. This is useful to get a quick glimpse of the dataset's structure and the type of data it contains.\n",
        "\n",
        "\n",
        "\n",
        "\n",
        "\n"
      ],
      "metadata": {
        "id": "eXXcrGyDfU0N"
      },
      "id": "eXXcrGyDfU0N"
    },
    {
      "cell_type": "markdown",
      "source": [
        "The dataset we are using is the famous Iris dataset. It contains measurements for 150 iris flowers from three different species.\n",
        "\n",
        "The three classes in the Iris dataset are:\n",
        "\n",
        "1. Iris-setosa (n=50)\n",
        "2. Iris-versicolor (n=50)\n",
        "3. Iris-virginica (n=50)\n",
        "\n",
        "And the four features of in Iris dataset are:\n",
        "\n",
        "1. sepal length in cm\n",
        "2. sepal width in cm\n",
        "3. petal length in cm\n",
        "4. petal width in cm\n",
        "\n",
        "Let's explore the data a bit more."
      ],
      "metadata": {
        "noteable": {
          "cell_type": "markdown"
        },
        "id": "e220d2e4-062d-45f0-920f-65e7d97b459a"
      },
      "id": "e220d2e4-062d-45f0-920f-65e7d97b459a"
    },
    {
      "cell_type": "markdown",
      "source": [],
      "metadata": {
        "id": "EC-irWecgFNH"
      },
      "id": "EC-irWecgFNH"
    },
    {
      "cell_type": "markdown",
      "source": [
        "---\n",
        "\n",
        "**Inspecting the Shape of the Iris Dataset**\n",
        "\n",
        "---"
      ],
      "metadata": {
        "id": "lBJgkkJDgZAR"
      },
      "id": "lBJgkkJDgZAR"
    },
    {
      "cell_type": "code",
      "source": [
        "# Checking the shape of the dataset\n",
        "iris.shape"
      ],
      "outputs": [
        {
          "output_type": "execute_result",
          "data": {
            "text/plain": [
              "(150, 5)"
            ]
          },
          "metadata": {},
          "execution_count": 3
        }
      ],
      "execution_count": 3,
      "metadata": {
        "noteable": {
          "cell_type": "code"
        },
        "ExecuteTime": {
          "end_time": "2023-07-04T14:48:31.285314+00:00",
          "start_time": "2023-07-04T14:48:31.124535+00:00"
        },
        "id": "697e7285-81ae-4dba-b2f0-6cbfd58ec4c8",
        "outputId": "981b363b-c674-47f5-a032-cd6e778113b2",
        "colab": {
          "base_uri": "https://localhost:8080/"
        }
      },
      "id": "697e7285-81ae-4dba-b2f0-6cbfd58ec4c8"
    },
    {
      "cell_type": "markdown",
      "source": [
        "\n",
        "\n",
        "The purpose of this code is to determine the number of rows and columns in the iris dataset.\n",
        "\n",
        "---\n",
        "\n",
        "**Code Explanation:**\n",
        "\n",
        "1. **Determining the Dataset's Shape:**\n",
        "  \n",
        "    The `shape` attribute of a DataFrame returns a tuple representing the dimensions of the DataFrame. Specifically, it provides the number of rows and columns.\n",
        "\n",
        "\n",
        "\n",
        "Understanding the size and shape of your dataset is fundamental in data analysis. This initial check provides insight into the volume of data you're working with and can inform decisions on data splitting, sampling, or the applicability of certain analytical methods."
      ],
      "metadata": {
        "id": "Z7_6T79SgG8Y"
      },
      "id": "Z7_6T79SgG8Y"
    },
    {
      "cell_type": "markdown",
      "source": [
        "The dataset contains 150 rows and 5 columns. Each row corresponds to a single flower. The columns correspond to the features of the flower and its species.\n",
        "\n",
        "Let's check the data types of the columns."
      ],
      "metadata": {
        "noteable": {
          "cell_type": "markdown"
        },
        "id": "303f3ea4-0fb6-4a4f-acf6-af21d54d6501"
      },
      "id": "303f3ea4-0fb6-4a4f-acf6-af21d54d6501"
    },
    {
      "cell_type": "markdown",
      "source": [
        "---\n",
        "\n",
        "**Inspecting Data Types of the Iris Dataset Columns**\n",
        "\n",
        "---"
      ],
      "metadata": {
        "id": "JAHgrfDPhFmP"
      },
      "id": "JAHgrfDPhFmP"
    },
    {
      "cell_type": "code",
      "source": [
        "# Checking the data types of the columns\n",
        "iris.dtypes"
      ],
      "outputs": [
        {
          "output_type": "execute_result",
          "data": {
            "text/plain": [
              "sepal_length    float64\n",
              "sepal_width     float64\n",
              "petal_length    float64\n",
              "petal_width     float64\n",
              "species          object\n",
              "dtype: object"
            ]
          },
          "metadata": {},
          "execution_count": 4
        }
      ],
      "execution_count": 4,
      "metadata": {
        "noteable": {
          "cell_type": "code"
        },
        "ExecuteTime": {
          "end_time": "2023-07-04T14:49:02.217241+00:00",
          "start_time": "2023-07-04T14:49:02.026316+00:00"
        },
        "datalink": {
          "a61369fa-02c5-4e62-b660-66c96db0f453": {
            "applied_filters": [],
            "dataframe_info": {
              "default_index_used": false,
              "orig_num_cols": 1,
              "orig_num_rows": 5,
              "orig_size_bytes": 80,
              "truncated_num_cols": 1,
              "truncated_num_rows": 5,
              "truncated_size_bytes": 80,
              "truncated_string_columns": []
            },
            "display_id": "a61369fa-02c5-4e62-b660-66c96db0f453",
            "dx_settings": {
              "ALLOW_NOTEABLE_ATTRS": true,
              "COLUMN_SAMPLING_METHOD": "outer",
              "DB_LOCATION": ":memory:",
              "DEV_MODE": false,
              "DISPLAY_MAX_COLUMNS": 100,
              "DISPLAY_MAX_ROWS": 50000,
              "DISPLAY_MODE": "simple",
              "ENABLE_ASSIGNMENT": true,
              "ENABLE_DATALINK": true,
              "FLATTEN_COLUMN_VALUES": true,
              "FLATTEN_INDEX_VALUES": false,
              "GENERATE_DEX_METADATA": false,
              "HTML_TABLE_SCHEMA": false,
              "LOG_LEVEL": 30,
              "MAX_RENDER_SIZE_BYTES": 104857600,
              "MAX_STRING_LENGTH": 250,
              "NUM_PAST_SAMPLES_TRACKED": 3,
              "RANDOM_STATE": 12648430,
              "RESET_INDEX_VALUES": false,
              "ROW_SAMPLING_METHOD": "random",
              "SAMPLING_FACTOR": 0.1,
              "SAMPLING_METHOD": "random",
              "STRINGIFY_COLUMN_VALUES": true,
              "STRINGIFY_INDEX_VALUES": false
            },
            "sample_history": [],
            "sampling_time": "2023-07-04T14:49:02.060114",
            "user_variable_name": null,
            "variable_name": "unk_dataframe_e0f0af837f6c4f66bdcb303a3e421744"
          }
        },
        "id": "4818f0ca-0e38-4c9c-96f8-a7e8e0ea6a69",
        "outputId": "5fa0e807-3c2c-4696-f0b4-c23c8e1c2702",
        "colab": {
          "base_uri": "https://localhost:8080/"
        }
      },
      "id": "4818f0ca-0e38-4c9c-96f8-a7e8e0ea6a69"
    },
    {
      "cell_type": "markdown",
      "source": [
        "\n",
        "\n",
        "The aim of this code snippet is to ascertain the data types of each column in the iris dataset.\n",
        "\n",
        "---\n",
        "\n",
        "**Code Explanation:**\n",
        "\n",
        "1. **Evaluating the Data Types of Columns:**\n",
        "   \n",
        "    Using the `dtypes` attribute of a DataFrame, you can obtain the data types of each column. This attribute returns a Series with the data type of each column. It helps to ensure that each column's data is stored in an appropriate format, which is crucial for subsequent data processing or analysis tasks.\n",
        "\n",
        "\n",
        "\n",
        "Understanding column data types is essential in data analysis. It can influence decisions on data processing, visualization, and modeling. For instance, you wouldn't compute a mean on a text column, and you'd handle categorical data differently than continuous numerical data in many machine learning algorithms."
      ],
      "metadata": {
        "id": "iCMbTYVpgw16"
      },
      "id": "iCMbTYVpgw16"
    },
    {
      "cell_type": "markdown",
      "source": [
        "The features (sepal length, sepal width, petal length, petal width) are all of type float, and the species column is of type object, which is used for string or text data in pandas.\n",
        "\n",
        "This means that our dataset contains both quantitative (the features) and qualitative (the species) data.\n",
        "\n",
        "Let's do some basic data analysis."
      ],
      "metadata": {
        "noteable": {
          "cell_type": "markdown"
        },
        "id": "6c2f00cc-7120-44b5-a5b9-a7a423db87be"
      },
      "id": "6c2f00cc-7120-44b5-a5b9-a7a423db87be"
    },
    {
      "cell_type": "markdown",
      "source": [
        "---\n",
        "\n",
        "**Analyzing Basic Statistics of the Iris Dataset**\n",
        "\n",
        "---"
      ],
      "metadata": {
        "id": "gM9xxnFJh34E"
      },
      "id": "gM9xxnFJh34E"
    },
    {
      "cell_type": "code",
      "source": [
        "# Checking the basic statistics of the quantitative data\n",
        "iris.describe()"
      ],
      "outputs": [
        {
          "output_type": "execute_result",
          "data": {
            "text/plain": [
              "       sepal_length  sepal_width  petal_length  petal_width\n",
              "count    150.000000   150.000000    150.000000   150.000000\n",
              "mean       5.843333     3.057333      3.758000     1.199333\n",
              "std        0.828066     0.435866      1.765298     0.762238\n",
              "min        4.300000     2.000000      1.000000     0.100000\n",
              "25%        5.100000     2.800000      1.600000     0.300000\n",
              "50%        5.800000     3.000000      4.350000     1.300000\n",
              "75%        6.400000     3.300000      5.100000     1.800000\n",
              "max        7.900000     4.400000      6.900000     2.500000"
            ],
            "text/html": [
              "\n",
              "  <div id=\"df-95e618c5-d308-4970-ab82-620c3aa52220\" class=\"colab-df-container\">\n",
              "    <div>\n",
              "<style scoped>\n",
              "    .dataframe tbody tr th:only-of-type {\n",
              "        vertical-align: middle;\n",
              "    }\n",
              "\n",
              "    .dataframe tbody tr th {\n",
              "        vertical-align: top;\n",
              "    }\n",
              "\n",
              "    .dataframe thead th {\n",
              "        text-align: right;\n",
              "    }\n",
              "</style>\n",
              "<table border=\"1\" class=\"dataframe\">\n",
              "  <thead>\n",
              "    <tr style=\"text-align: right;\">\n",
              "      <th></th>\n",
              "      <th>sepal_length</th>\n",
              "      <th>sepal_width</th>\n",
              "      <th>petal_length</th>\n",
              "      <th>petal_width</th>\n",
              "    </tr>\n",
              "  </thead>\n",
              "  <tbody>\n",
              "    <tr>\n",
              "      <th>count</th>\n",
              "      <td>150.000000</td>\n",
              "      <td>150.000000</td>\n",
              "      <td>150.000000</td>\n",
              "      <td>150.000000</td>\n",
              "    </tr>\n",
              "    <tr>\n",
              "      <th>mean</th>\n",
              "      <td>5.843333</td>\n",
              "      <td>3.057333</td>\n",
              "      <td>3.758000</td>\n",
              "      <td>1.199333</td>\n",
              "    </tr>\n",
              "    <tr>\n",
              "      <th>std</th>\n",
              "      <td>0.828066</td>\n",
              "      <td>0.435866</td>\n",
              "      <td>1.765298</td>\n",
              "      <td>0.762238</td>\n",
              "    </tr>\n",
              "    <tr>\n",
              "      <th>min</th>\n",
              "      <td>4.300000</td>\n",
              "      <td>2.000000</td>\n",
              "      <td>1.000000</td>\n",
              "      <td>0.100000</td>\n",
              "    </tr>\n",
              "    <tr>\n",
              "      <th>25%</th>\n",
              "      <td>5.100000</td>\n",
              "      <td>2.800000</td>\n",
              "      <td>1.600000</td>\n",
              "      <td>0.300000</td>\n",
              "    </tr>\n",
              "    <tr>\n",
              "      <th>50%</th>\n",
              "      <td>5.800000</td>\n",
              "      <td>3.000000</td>\n",
              "      <td>4.350000</td>\n",
              "      <td>1.300000</td>\n",
              "    </tr>\n",
              "    <tr>\n",
              "      <th>75%</th>\n",
              "      <td>6.400000</td>\n",
              "      <td>3.300000</td>\n",
              "      <td>5.100000</td>\n",
              "      <td>1.800000</td>\n",
              "    </tr>\n",
              "    <tr>\n",
              "      <th>max</th>\n",
              "      <td>7.900000</td>\n",
              "      <td>4.400000</td>\n",
              "      <td>6.900000</td>\n",
              "      <td>2.500000</td>\n",
              "    </tr>\n",
              "  </tbody>\n",
              "</table>\n",
              "</div>\n",
              "    <div class=\"colab-df-buttons\">\n",
              "\n",
              "  <div class=\"colab-df-container\">\n",
              "    <button class=\"colab-df-convert\" onclick=\"convertToInteractive('df-95e618c5-d308-4970-ab82-620c3aa52220')\"\n",
              "            title=\"Convert this dataframe to an interactive table.\"\n",
              "            style=\"display:none;\">\n",
              "\n",
              "  <svg xmlns=\"http://www.w3.org/2000/svg\" height=\"24px\" viewBox=\"0 -960 960 960\">\n",
              "    <path d=\"M120-120v-720h720v720H120Zm60-500h600v-160H180v160Zm220 220h160v-160H400v160Zm0 220h160v-160H400v160ZM180-400h160v-160H180v160Zm440 0h160v-160H620v160ZM180-180h160v-160H180v160Zm440 0h160v-160H620v160Z\"/>\n",
              "  </svg>\n",
              "    </button>\n",
              "\n",
              "  <style>\n",
              "    .colab-df-container {\n",
              "      display:flex;\n",
              "      gap: 12px;\n",
              "    }\n",
              "\n",
              "    .colab-df-convert {\n",
              "      background-color: #E8F0FE;\n",
              "      border: none;\n",
              "      border-radius: 50%;\n",
              "      cursor: pointer;\n",
              "      display: none;\n",
              "      fill: #1967D2;\n",
              "      height: 32px;\n",
              "      padding: 0 0 0 0;\n",
              "      width: 32px;\n",
              "    }\n",
              "\n",
              "    .colab-df-convert:hover {\n",
              "      background-color: #E2EBFA;\n",
              "      box-shadow: 0px 1px 2px rgba(60, 64, 67, 0.3), 0px 1px 3px 1px rgba(60, 64, 67, 0.15);\n",
              "      fill: #174EA6;\n",
              "    }\n",
              "\n",
              "    .colab-df-buttons div {\n",
              "      margin-bottom: 4px;\n",
              "    }\n",
              "\n",
              "    [theme=dark] .colab-df-convert {\n",
              "      background-color: #3B4455;\n",
              "      fill: #D2E3FC;\n",
              "    }\n",
              "\n",
              "    [theme=dark] .colab-df-convert:hover {\n",
              "      background-color: #434B5C;\n",
              "      box-shadow: 0px 1px 3px 1px rgba(0, 0, 0, 0.15);\n",
              "      filter: drop-shadow(0px 1px 2px rgba(0, 0, 0, 0.3));\n",
              "      fill: #FFFFFF;\n",
              "    }\n",
              "  </style>\n",
              "\n",
              "    <script>\n",
              "      const buttonEl =\n",
              "        document.querySelector('#df-95e618c5-d308-4970-ab82-620c3aa52220 button.colab-df-convert');\n",
              "      buttonEl.style.display =\n",
              "        google.colab.kernel.accessAllowed ? 'block' : 'none';\n",
              "\n",
              "      async function convertToInteractive(key) {\n",
              "        const element = document.querySelector('#df-95e618c5-d308-4970-ab82-620c3aa52220');\n",
              "        const dataTable =\n",
              "          await google.colab.kernel.invokeFunction('convertToInteractive',\n",
              "                                                    [key], {});\n",
              "        if (!dataTable) return;\n",
              "\n",
              "        const docLinkHtml = 'Like what you see? Visit the ' +\n",
              "          '<a target=\"_blank\" href=https://colab.research.google.com/notebooks/data_table.ipynb>data table notebook</a>'\n",
              "          + ' to learn more about interactive tables.';\n",
              "        element.innerHTML = '';\n",
              "        dataTable['output_type'] = 'display_data';\n",
              "        await google.colab.output.renderOutput(dataTable, element);\n",
              "        const docLink = document.createElement('div');\n",
              "        docLink.innerHTML = docLinkHtml;\n",
              "        element.appendChild(docLink);\n",
              "      }\n",
              "    </script>\n",
              "  </div>\n",
              "\n",
              "\n",
              "<div id=\"df-306a8dec-3581-4e53-8aa9-88e95d8b320b\">\n",
              "  <button class=\"colab-df-quickchart\" onclick=\"quickchart('df-306a8dec-3581-4e53-8aa9-88e95d8b320b')\"\n",
              "            title=\"Suggest charts.\"\n",
              "            style=\"display:none;\">\n",
              "\n",
              "<svg xmlns=\"http://www.w3.org/2000/svg\" height=\"24px\"viewBox=\"0 0 24 24\"\n",
              "     width=\"24px\">\n",
              "    <g>\n",
              "        <path d=\"M19 3H5c-1.1 0-2 .9-2 2v14c0 1.1.9 2 2 2h14c1.1 0 2-.9 2-2V5c0-1.1-.9-2-2-2zM9 17H7v-7h2v7zm4 0h-2V7h2v10zm4 0h-2v-4h2v4z\"/>\n",
              "    </g>\n",
              "</svg>\n",
              "  </button>\n",
              "\n",
              "<style>\n",
              "  .colab-df-quickchart {\n",
              "    background-color: #E8F0FE;\n",
              "    border: none;\n",
              "    border-radius: 50%;\n",
              "    cursor: pointer;\n",
              "    display: none;\n",
              "    fill: #1967D2;\n",
              "    height: 32px;\n",
              "    padding: 0 0 0 0;\n",
              "    width: 32px;\n",
              "  }\n",
              "\n",
              "  .colab-df-quickchart:hover {\n",
              "    background-color: #E2EBFA;\n",
              "    box-shadow: 0px 1px 2px rgba(60, 64, 67, 0.3), 0px 1px 3px 1px rgba(60, 64, 67, 0.15);\n",
              "    fill: #174EA6;\n",
              "  }\n",
              "\n",
              "  [theme=dark] .colab-df-quickchart {\n",
              "    background-color: #3B4455;\n",
              "    fill: #D2E3FC;\n",
              "  }\n",
              "\n",
              "  [theme=dark] .colab-df-quickchart:hover {\n",
              "    background-color: #434B5C;\n",
              "    box-shadow: 0px 1px 3px 1px rgba(0, 0, 0, 0.15);\n",
              "    filter: drop-shadow(0px 1px 2px rgba(0, 0, 0, 0.3));\n",
              "    fill: #FFFFFF;\n",
              "  }\n",
              "</style>\n",
              "\n",
              "  <script>\n",
              "    async function quickchart(key) {\n",
              "      const charts = await google.colab.kernel.invokeFunction(\n",
              "          'suggestCharts', [key], {});\n",
              "    }\n",
              "    (() => {\n",
              "      let quickchartButtonEl =\n",
              "        document.querySelector('#df-306a8dec-3581-4e53-8aa9-88e95d8b320b button');\n",
              "      quickchartButtonEl.style.display =\n",
              "        google.colab.kernel.accessAllowed ? 'block' : 'none';\n",
              "    })();\n",
              "  </script>\n",
              "</div>\n",
              "    </div>\n",
              "  </div>\n"
            ]
          },
          "metadata": {},
          "execution_count": 5
        }
      ],
      "execution_count": 5,
      "metadata": {
        "noteable": {
          "cell_type": "code"
        },
        "ExecuteTime": {
          "end_time": "2023-07-04T14:49:38.982147+00:00",
          "start_time": "2023-07-04T14:49:38.778752+00:00"
        },
        "datalink": {
          "589533da-55f8-4c32-839b-44c6b205cb77": {
            "applied_filters": [],
            "dataframe_info": {
              "default_index_used": false,
              "orig_num_cols": 4,
              "orig_num_rows": 8,
              "orig_size_bytes": 320,
              "truncated_num_cols": 4,
              "truncated_num_rows": 8,
              "truncated_size_bytes": 320,
              "truncated_string_columns": []
            },
            "display_id": "589533da-55f8-4c32-839b-44c6b205cb77",
            "dx_settings": {
              "ALLOW_NOTEABLE_ATTRS": true,
              "COLUMN_SAMPLING_METHOD": "outer",
              "DB_LOCATION": ":memory:",
              "DEV_MODE": false,
              "DISPLAY_MAX_COLUMNS": 100,
              "DISPLAY_MAX_ROWS": 50000,
              "DISPLAY_MODE": "simple",
              "ENABLE_ASSIGNMENT": true,
              "ENABLE_DATALINK": true,
              "FLATTEN_COLUMN_VALUES": true,
              "FLATTEN_INDEX_VALUES": false,
              "GENERATE_DEX_METADATA": false,
              "HTML_TABLE_SCHEMA": false,
              "LOG_LEVEL": 30,
              "MAX_RENDER_SIZE_BYTES": 104857600,
              "MAX_STRING_LENGTH": 250,
              "NUM_PAST_SAMPLES_TRACKED": 3,
              "RANDOM_STATE": 12648430,
              "RESET_INDEX_VALUES": false,
              "ROW_SAMPLING_METHOD": "random",
              "SAMPLING_FACTOR": 0.1,
              "SAMPLING_METHOD": "random",
              "STRINGIFY_COLUMN_VALUES": true,
              "STRINGIFY_INDEX_VALUES": false
            },
            "sample_history": [],
            "sampling_time": "2023-07-04T14:49:38.824547",
            "user_variable_name": null,
            "variable_name": "unk_dataframe_4da5bac269844b1eac6dee227328f0aa"
          }
        },
        "id": "b494db93-73be-4038-8341-fdef863f63dc",
        "outputId": "2fa6fc39-f972-4d31-ab0e-4f302b5dcf47",
        "colab": {
          "base_uri": "https://localhost:8080/",
          "height": 300
        }
      },
      "id": "b494db93-73be-4038-8341-fdef863f63dc"
    },
    {
      "cell_type": "markdown",
      "source": [
        "\n",
        "\n",
        "The objective of this code segment is to get a summary of the basic statistical measures for the quantitative (numeric) columns in the iris dataset.\n",
        "\n",
        "---\n",
        "\n",
        "**Code Explanation:**\n",
        "\n",
        "1. **Computing Basic Statistical Measures:**\n",
        "   \n",
        "    The `describe()` method of a DataFrame returns a summary of the central tendency, dispersion, and shape of the distribution of a dataset’s numerical columns. By default, it excludes columns of type `object`.\n",
        "\n",
        "    - `count`: Number of non-missing values for each column.\n",
        "    - `mean`: The average value.\n",
        "    - `std`: Standard deviation, which measures the amount of variation or dispersion of a set of values.\n",
        "    - `min`: Minimum value in the column.\n",
        "    - 25%, 50%, and 75%: These are the 25th (first quartile), 50th (median), and 75th (third quartile) percentiles, respectively.\n",
        "    - `max`: Maximum value in the column.\n",
        "\n",
        "\n",
        "\n",
        "Having a snapshot of these basic statistics is beneficial for any data analysis task. It offers an initial feel of the data, detects potential outliers (by observing min/max values in relation to the quartiles), and assists in decision-making concerning data normalization or standardization."
      ],
      "metadata": {
        "id": "5jyL7fLChkzg"
      },
      "id": "5jyL7fLChkzg"
    },
    {
      "cell_type": "markdown",
      "source": [
        "\n",
        "\n",
        "Now, let's check the distribution of the qualitative data, i.e., the species."
      ],
      "metadata": {
        "noteable": {
          "cell_type": "markdown"
        },
        "id": "2dfdcceb-d0f3-4cbb-af70-7774af67735d"
      },
      "id": "2dfdcceb-d0f3-4cbb-af70-7774af67735d"
    },
    {
      "cell_type": "markdown",
      "source": [
        "---\n",
        "\n",
        "**Analyzing Distribution of Species in the Iris Dataset**\n",
        "\n",
        "---"
      ],
      "metadata": {
        "id": "68Cl-BrOiocB"
      },
      "id": "68Cl-BrOiocB"
    },
    {
      "cell_type": "code",
      "source": [
        "# Checking the distribution of the species\n",
        "iris['species'].value_counts()"
      ],
      "outputs": [
        {
          "output_type": "execute_result",
          "data": {
            "text/plain": [
              "setosa        50\n",
              "versicolor    50\n",
              "virginica     50\n",
              "Name: species, dtype: int64"
            ]
          },
          "metadata": {},
          "execution_count": 7
        }
      ],
      "execution_count": 7,
      "metadata": {
        "noteable": {
          "cell_type": "code"
        },
        "ExecuteTime": {
          "end_time": "2023-07-04T14:50:19.396332+00:00",
          "start_time": "2023-07-04T14:50:19.198808+00:00"
        },
        "datalink": {
          "e7e3aeae-fc58-4401-85bd-72bd685cbac1": {
            "applied_filters": [],
            "dataframe_info": {
              "default_index_used": false,
              "orig_num_cols": 1,
              "orig_num_rows": 3,
              "orig_size_bytes": 48,
              "truncated_num_cols": 1,
              "truncated_num_rows": 3,
              "truncated_size_bytes": 48,
              "truncated_string_columns": []
            },
            "display_id": "e7e3aeae-fc58-4401-85bd-72bd685cbac1",
            "dx_settings": {
              "ALLOW_NOTEABLE_ATTRS": true,
              "COLUMN_SAMPLING_METHOD": "outer",
              "DB_LOCATION": ":memory:",
              "DEV_MODE": false,
              "DISPLAY_MAX_COLUMNS": 100,
              "DISPLAY_MAX_ROWS": 50000,
              "DISPLAY_MODE": "simple",
              "ENABLE_ASSIGNMENT": true,
              "ENABLE_DATALINK": true,
              "FLATTEN_COLUMN_VALUES": true,
              "FLATTEN_INDEX_VALUES": false,
              "GENERATE_DEX_METADATA": false,
              "HTML_TABLE_SCHEMA": false,
              "LOG_LEVEL": 30,
              "MAX_RENDER_SIZE_BYTES": 104857600,
              "MAX_STRING_LENGTH": 250,
              "NUM_PAST_SAMPLES_TRACKED": 3,
              "RANDOM_STATE": 12648430,
              "RESET_INDEX_VALUES": false,
              "ROW_SAMPLING_METHOD": "random",
              "SAMPLING_FACTOR": 0.1,
              "SAMPLING_METHOD": "random",
              "STRINGIFY_COLUMN_VALUES": true,
              "STRINGIFY_INDEX_VALUES": false
            },
            "sample_history": [],
            "sampling_time": "2023-07-04T14:50:19.239515",
            "user_variable_name": null,
            "variable_name": "unk_dataframe_4d2d6b324d1d4c3e9ed14c6347c4a564"
          }
        },
        "id": "fe1ca149-4e53-46fe-9544-24a7b3bd46cd",
        "outputId": "e5204e96-fd2a-4f20-9817-7604b3075e38",
        "colab": {
          "base_uri": "https://localhost:8080/"
        }
      },
      "id": "fe1ca149-4e53-46fe-9544-24a7b3bd46cd"
    },
    {
      "cell_type": "markdown",
      "source": [
        "\n",
        "\n",
        "The aim of this code segment is to examine the frequency distribution of the different species in the iris dataset.\n",
        "\n",
        "---\n",
        "\n",
        "**Code Explanation:**\n",
        "\n",
        "1. **Evaluating Species Distribution:**\n",
        "   \n",
        "    The `value_counts()` method is applied on a pandas Series to get a tally of unique values. In this case, we are applying it on the `species` column of the iris dataset to understand the distribution of different species.\n",
        "\n",
        "    The result will show how many samples of each species are present in the dataset. The species name will be the index, and the count of samples will be the corresponding value.\n",
        "\n",
        "\n",
        "\n",
        "Understanding the distribution of categorical data, such as species in this instance, is crucial in various data analysis contexts. It helps ensure balanced samples, especially in machine learning, where having uneven samples might introduce bias in model training and evaluation."
      ],
      "metadata": {
        "id": "eWVtC3GtiSKp"
      },
      "id": "eWVtC3GtiSKp"
    },
    {
      "cell_type": "markdown",
      "source": [
        "The dataset is balanced, meaning there are equal numbers of samples from each species (50 each of setosa, versicolor, and virginica).\n",
        "\n",
        "---\n",
        "\n",
        "This concludes our basic exploration of the dataset. We've seen that it contains both qualitative and quantitative data, and we've examined the basic statistics of these features."
      ],
      "metadata": {
        "noteable": {
          "cell_type": "markdown"
        },
        "id": "a73f2ff4-5e28-4598-a24b-f83eb816cab0"
      },
      "id": "a73f2ff4-5e28-4598-a24b-f83eb816cab0"
    }
  ],
  "metadata": {
    "noteable-chatgpt": {
      "create_notebook": {
        "openai_conversation_id": "6eb3c9e7-c17a-5f20-bbbc-2389b74c7a36",
        "openai_ephemeral_user_id": "3af8edfd-ae3a-58ef-80b4-27e8917550be",
        "openai_subdivision1_iso_code": "MX-BCN"
      }
    },
    "noteable": {
      "last_transaction_id": "3bd6ab73-8293-43b9-bfd4-427670669785",
      "last_delta_id": "3bd6ab73-8293-43b9-bfd4-427670669785"
    },
    "selected_hardware_size": "small",
    "nteract": {
      "version": "noteable@2.9.0"
    },
    "colab": {
      "provenance": [],
      "include_colab_link": true
    },
    "language_info": {
      "name": "python"
    },
    "kernelspec": {
      "name": "python3",
      "display_name": "Python 3"
    }
  },
  "nbformat": 4,
  "nbformat_minor": 5
}