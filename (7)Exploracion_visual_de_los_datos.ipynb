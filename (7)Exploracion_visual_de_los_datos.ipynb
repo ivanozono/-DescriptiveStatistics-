{
  "cells": [
    {
      "cell_type": "markdown",
      "source": [
        "# Exploración Visual de los Datos\n",
        "\n",
        "La exploración visual de los datos es una parte esencial del análisis de datos. Nos permite entender las características principales de los datos, detectar outliers, identificar patrones y relaciones entre variables, entre otros. En este notebook, vamos a explorar diferentes técnicas de visualización de datos."
      ],
      "metadata": {
        "noteable": {
          "cell_type": "markdown"
        }
      },
      "id": "9202ca58-436b-441a-9c92-70e5413e5233"
    },
    {
      "cell_type": "markdown",
      "source": [
        "## Importing Libraries\n",
        "\n",
        "First, we need to import the necessary libraries for data manipulation and visualization. We will use `pandas` for data manipulation and `matplotlib` and `seaborn` for data visualization."
      ],
      "metadata": {
        "noteable": {
          "cell_type": "markdown"
        }
      },
      "id": "14dad401-9ef9-4a7a-94e6-06b8c728a7b2"
    },
    {
      "cell_type": "code",
      "source": [
        "import pandas as pd\n",
        "import matplotlib.pyplot as plt\n",
        "import seaborn as sns"
      ],
      "outputs": [],
      "execution_count": null,
      "metadata": {
        "noteable": {
          "cell_type": "code"
        },
        "ExecuteTime": {
          "end_time": "2023-07-04T21:34:16.737897+00:00",
          "start_time": "2023-07-04T21:34:15.931579+00:00"
        }
      },
      "id": "252ead20-1b47-43bb-8327-81d2349df573"
    },
    {
      "cell_type": "markdown",
      "source": [
        "## Loading the Data\n",
        "\n",
        "Next, we need to load the data that we will be working with. For the purpose of this notebook, we will use a hypothetical dataset. In a real-world scenario, you would load your own dataset here."
      ],
      "metadata": {
        "noteable": {
          "cell_type": "markdown"
        }
      },
      "id": "36c22692-2012-4fc0-a291-787f55234da8"
    },
    {
      "cell_type": "code",
      "source": [
        "# For the purpose of this notebook, we will create a hypothetical dataset\n",
        "import numpy as np\n",
        "np.random.seed(0)\n",
        "df = pd.DataFrame({\n",
        "    'Variable1': np.random.normal(0, 1, 100),\n",
        "    'Variable2': np.random.normal(0, 2, 100),\n",
        "    'Variable3': np.random.normal(0, 3, 100)\n",
        "})\n",
        "\n",
        "df.head()"
      ],
      "outputs": [
        {
          "output_type": "display_data",
          "data": {
            "application/vnd.dataresource+json": {
              "schema": {
                "fields": [
                  {
                    "name": "index",
                    "type": "integer"
                  },
                  {
                    "name": "Variable1",
                    "type": "number"
                  },
                  {
                    "name": "Variable2",
                    "type": "number"
                  },
                  {
                    "name": "Variable3",
                    "type": "number"
                  }
                ],
                "primaryKey": [
                  "index"
                ],
                "pandas_version": "1.4.0"
              },
              "data": [
                {
                  "index": 0,
                  "Variable1": 1.764052345967664,
                  "Variable2": 3.7663013941125087,
                  "Variable3": -1.1075455138273307
                },
                {
                  "index": 1,
                  "Variable1": 0.4001572083672233,
                  "Variable2": -2.6955181222848927,
                  "Variable3": -0.7181375327277791
                },
                {
                  "index": 2,
                  "Variable1": 0.9787379841057392,
                  "Variable2": -2.540969996971467,
                  "Variable3": 3.2989787876613397
                },
                {
                  "index": 3,
                  "Variable1": 2.240893199201458,
                  "Variable2": 1.9387934163160223,
                  "Variable3": 1.9657911921677935
                },
                {
                  "index": 4,
                  "Variable1": 1.8675579901499675,
                  "Variable2": -2.34624681022832,
                  "Variable3": 1.9203945782927763
                }
              ],
              "datalink": {
                "display_id": "e334e023-1165-4739-bf58-8ab9fe6850ed"
              }
            }
          },
          "metadata": {
            "application/vnd.dataresource+json": {
              "datalink": {
                "dataframe_info": {
                  "default_index_used": true,
                  "orig_size_bytes": 160,
                  "orig_num_rows": 5,
                  "orig_num_cols": 3,
                  "truncated_string_columns": [],
                  "truncated_size_bytes": 160,
                  "truncated_num_rows": 5,
                  "truncated_num_cols": 3
                },
                "dx_settings": {
                  "NUM_PAST_SAMPLES_TRACKED": 3,
                  "ENABLE_DATALINK": true,
                  "DISPLAY_MODE": "simple",
                  "GENERATE_DEX_METADATA": false,
                  "STRINGIFY_INDEX_VALUES": false,
                  "ALLOW_NOTEABLE_ATTRS": true,
                  "DISPLAY_MAX_COLUMNS": 100,
                  "HTML_TABLE_SCHEMA": false,
                  "SAMPLING_FACTOR": 0.1,
                  "LOG_LEVEL": 30,
                  "ENABLE_ASSIGNMENT": true,
                  "FLATTEN_INDEX_VALUES": false,
                  "DEV_MODE": false,
                  "COLUMN_SAMPLING_METHOD": "outer",
                  "FLATTEN_COLUMN_VALUES": true,
                  "DISPLAY_MAX_ROWS": 50000,
                  "ROW_SAMPLING_METHOD": "random",
                  "RANDOM_STATE": 12648430,
                  "DB_LOCATION": ":memory:",
                  "STRINGIFY_COLUMN_VALUES": true,
                  "SAMPLING_METHOD": "random",
                  "MAX_STRING_LENGTH": 250,
                  "MAX_RENDER_SIZE_BYTES": 104857600,
                  "RESET_INDEX_VALUES": false
                },
                "display_id": "e334e023-1165-4739-bf58-8ab9fe6850ed",
                "applied_filters": [],
                "sample_history": [],
                "sampling_time": "2023-07-04T21:34:47.200621",
                "variable_name": "unk_dataframe_dc73ba80be224cb2a1b50f1b2da4355b",
                "user_variable_name": null
              },
              "display_id": "e334e023-1165-4739-bf58-8ab9fe6850ed"
            }
          }
        }
      ],
      "execution_count": null,
      "metadata": {
        "noteable": {
          "cell_type": "code"
        },
        "ExecuteTime": {
          "end_time": "2023-07-04T21:34:47.357842+00:00",
          "start_time": "2023-07-04T21:34:47.165080+00:00"
        },
        "datalink": {
          "e334e023-1165-4739-bf58-8ab9fe6850ed": {
            "applied_filters": [],
            "dataframe_info": {
              "default_index_used": true,
              "orig_num_cols": 3,
              "orig_num_rows": 5,
              "orig_size_bytes": 160,
              "truncated_num_cols": 3,
              "truncated_num_rows": 5,
              "truncated_size_bytes": 160,
              "truncated_string_columns": []
            },
            "display_id": "e334e023-1165-4739-bf58-8ab9fe6850ed",
            "dx_settings": {
              "ALLOW_NOTEABLE_ATTRS": true,
              "COLUMN_SAMPLING_METHOD": "outer",
              "DB_LOCATION": ":memory:",
              "DEV_MODE": false,
              "DISPLAY_MAX_COLUMNS": 100,
              "DISPLAY_MAX_ROWS": 50000,
              "DISPLAY_MODE": "simple",
              "ENABLE_ASSIGNMENT": true,
              "ENABLE_DATALINK": true,
              "FLATTEN_COLUMN_VALUES": true,
              "FLATTEN_INDEX_VALUES": false,
              "GENERATE_DEX_METADATA": false,
              "HTML_TABLE_SCHEMA": false,
              "LOG_LEVEL": 30,
              "MAX_RENDER_SIZE_BYTES": 104857600,
              "MAX_STRING_LENGTH": 250,
              "NUM_PAST_SAMPLES_TRACKED": 3,
              "RANDOM_STATE": 12648430,
              "RESET_INDEX_VALUES": false,
              "ROW_SAMPLING_METHOD": "random",
              "SAMPLING_FACTOR": 0.1,
              "SAMPLING_METHOD": "random",
              "STRINGIFY_COLUMN_VALUES": true,
              "STRINGIFY_INDEX_VALUES": false
            },
            "sample_history": [],
            "sampling_time": "2023-07-04T21:34:47.200621",
            "user_variable_name": null,
            "variable_name": "unk_dataframe_dc73ba80be224cb2a1b50f1b2da4355b"
          }
        }
      },
      "id": "3ef63f05-adf9-4719-8f3d-8828e4255b86"
    },
    {
      "cell_type": "markdown",
      "source": [
        "## Scatter Plot\n",
        "\n",
        "A scatter plot is a diagram where each value in the dataset is represented by a dot. The position of a dot on the horizontal and vertical axis indicates values for an individual data point. Scatter plots are used to observe relationships between variables."
      ],
      "metadata": {
        "noteable": {
          "cell_type": "markdown"
        }
      },
      "id": "a2453c44-98ad-4663-8c70-3ab71ff261a3"
    },
    {
      "cell_type": "code",
      "source": [
        "# Scatter plot of Variable1 and Variable2\n",
        "plt.scatter(df['Variable1'], df['Variable2'])\n",
        "plt.xlabel('Variable1')\n",
        "plt.ylabel('Variable2')\n",
        "plt.title('Scatter plot of Variable1 vs Variable2')\n",
        "plt.show()"
      ],
      "outputs": [
        {
          "output_type": "display_data",
          "data": {
            "image/png": "[encoded data removed]"
          },
          "metadata": {}
        }
      ],
      "execution_count": null,
      "metadata": {
        "noteable": {
          "cell_type": "code"
        },
        "ExecuteTime": {
          "end_time": "2023-07-04T21:35:21.566781+00:00",
          "start_time": "2023-07-04T21:35:21.032315+00:00"
        }
      },
      "id": "b033b4ee-a533-4b07-9d94-664a00275912"
    },
    {
      "cell_type": "markdown",
      "source": [
        "## Boxplot\n",
        "\n",
        "A boxplot is a standardized way of displaying the dataset based on a five-number summary: the minimum, the maximum, the sample median, and the first and third quartiles."
      ],
      "metadata": {
        "noteable": {
          "cell_type": "markdown"
        }
      },
      "id": "e8398afb-4753-4297-9899-64d6aa8f8fd4"
    },
    {
      "cell_type": "code",
      "source": [
        "# Boxplot of Variable1\n",
        "plt.boxplot(df['Variable1'])\n",
        "plt.title('Boxplot of Variable1')\n",
        "plt.show()"
      ],
      "outputs": [
        {
          "output_type": "display_data",
          "data": {
            "image/png": "[encoded data removed]"
          },
          "metadata": {}
        }
      ],
      "execution_count": null,
      "metadata": {
        "noteable": {
          "cell_type": "code"
        },
        "ExecuteTime": {
          "end_time": "2023-07-04T21:35:50.261688+00:00",
          "start_time": "2023-07-04T21:35:49.889750+00:00"
        },
        "scrolled": false
      },
      "id": "626891f8-1ad3-4893-82f8-780de7e1d4a4"
    },
    {
      "cell_type": "markdown",
      "source": [
        "## Histogram\n",
        "\n",
        "A histogram is an approximate representation of the distribution of numerical data. It is an estimate of the probability distribution of a continuous variable. To construct a histogram, the first step is to 'bin' the range of values—that is, divide the entire range of values into a series of intervals—and then count how many values fall into each interval."
      ],
      "metadata": {
        "noteable": {
          "cell_type": "markdown"
        }
      },
      "id": "90e2b759-ea22-4ea8-93d3-0763d160b4ca"
    },
    {
      "cell_type": "code",
      "source": [
        "# Histogram of Variable1\n",
        "plt.hist(df['Variable1'], bins=10)\n",
        "plt.xlabel('Variable1')\n",
        "plt.ylabel('Frequency')\n",
        "plt.title('Histogram of Variable1')\n",
        "plt.show()"
      ],
      "outputs": [
        {
          "output_type": "display_data",
          "data": {
            "image/png": "[encoded data removed]"
          },
          "metadata": {}
        }
      ],
      "execution_count": null,
      "metadata": {
        "noteable": {
          "cell_type": "code"
        },
        "ExecuteTime": {
          "end_time": "2023-07-04T21:36:28.300549+00:00",
          "start_time": "2023-07-04T21:36:27.849658+00:00"
        }
      },
      "id": "3ee88dab-4ec8-4864-8acb-5580fa933679"
    },
    {
      "cell_type": "markdown",
      "source": [
        "## Conclusion\n",
        "\n",
        "In this notebook, we have explored some basic techniques for visual data exploration. These techniques are fundamental tools in the toolbox of any data scientist and provide a first look at the data, which can guide further analysis."
      ],
      "metadata": {
        "noteable": {
          "cell_type": "markdown"
        }
      },
      "id": "6552dc8d-d494-4e54-b1ec-039f7f8a8a7e"
    }
  ],
  "metadata": {
    "noteable-chatgpt": {
      "create_notebook": {
        "openai_conversation_id": "6eb3c9e7-c17a-5f20-bbbc-2389b74c7a36",
        "openai_ephemeral_user_id": "3af8edfd-ae3a-58ef-80b4-27e8917550be",
        "openai_subdivision1_iso_code": "MX-BCN"
      }
    },
    "noteable": {
      "last_transaction_id": "ea52f025-5176-4f61-a1d3-4c797c8cd616",
      "last_delta_id": "ea52f025-5176-4f61-a1d3-4c797c8cd616"
    },
    "selected_hardware_size": "small",
    "nteract": {
      "version": "noteable@2.9.0"
    }
  },
  "nbformat": 4,
  "nbformat_minor": 5
}