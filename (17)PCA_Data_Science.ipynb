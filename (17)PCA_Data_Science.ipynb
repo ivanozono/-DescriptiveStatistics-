{
  "cells": [
    {
      "cell_type": "markdown",
      "source": [
        "# Principal Component Analysis (PCA) in Data Science\n",
        "\n",
        "## Introduction\n",
        "\n",
        "Principal Component Analysis (PCA) is a widely used dimensionality reduction technique in Data Science. It is especially useful when you have data with many variables (dimensions) and you want to reduce the complexity without losing too much information. PCA finds the directions (principal components) where the most variance of the data lies and projects the data onto these new subspace axes.\n",
        "\n",
        "In this notebook, we will walk through the steps of performing PCA on a financial dataset. We will also visualize the results and interpret the principal components. Let's get started!"
      ],
      "metadata": {
        "noteable": {
          "cell_type": "markdown"
        }
      },
      "id": "c826b17a-d391-4278-86db-776b0f17d422"
    },
    {
      "cell_type": "code",
      "source": [
        "# Import necessary libraries\n",
        "import pandas as pd\n",
        "import numpy as np\n",
        "from sklearn.decomposition import PCA\n",
        "import matplotlib.pyplot as plt\n",
        "\n",
        "# Load the financial dataset\n",
        "url = 'https://raw.githubusercontent.com/plotly/datasets/master/finance-charts-apple.csv'\n",
        "df = pd.read_csv(url)\n",
        "\n",
        "# Display the first few rows of the dataframe\n",
        "df.head()"
      ],
      "outputs": [
        {
          "output_type": "display_data",
          "data": {
            "application/vnd.dataresource+json": {
              "schema": {
                "fields": [
                  {
                    "name": "index",
                    "type": "integer"
                  },
                  {
                    "name": "Date",
                    "type": "string"
                  },
                  {
                    "name": "AAPL.Open",
                    "type": "number"
                  },
                  {
                    "name": "AAPL.High",
                    "type": "number"
                  },
                  {
                    "name": "AAPL.Low",
                    "type": "number"
                  },
                  {
                    "name": "AAPL.Close",
                    "type": "number"
                  },
                  {
                    "name": "AAPL.Volume",
                    "type": "integer"
                  },
                  {
                    "name": "AAPL.Adjusted",
                    "type": "number"
                  },
                  {
                    "name": "dn",
                    "type": "number"
                  },
                  {
                    "name": "mavg",
                    "type": "number"
                  },
                  {
                    "name": "up",
                    "type": "number"
                  },
                  {
                    "name": "direction",
                    "type": "string"
                  }
                ],
                "primaryKey": [
                  "index"
                ],
                "pandas_version": "1.4.0"
              },
              "data": [
                {
                  "index": 0,
                  "Date": "2015-02-17",
                  "AAPL.Open": 127.489998,
                  "AAPL.High": 128.880005,
                  "AAPL.Low": 126.919998,
                  "AAPL.Close": 127.830002,
                  "AAPL.Volume": 63152400,
                  "AAPL.Adjusted": 122.905254,
                  "dn": 106.7410523,
                  "mavg": 117.9276669,
                  "up": 129.1142814,
                  "direction": "Increasing"
                },
                {
                  "index": 1,
                  "Date": "2015-02-18",
                  "AAPL.Open": 127.629997,
                  "AAPL.High": 128.779999,
                  "AAPL.Low": 127.449997,
                  "AAPL.Close": 128.720001,
                  "AAPL.Volume": 44891700,
                  "AAPL.Adjusted": 123.760965,
                  "dn": 107.842423,
                  "mavg": 118.9403335,
                  "up": 130.0382439,
                  "direction": "Increasing"
                },
                {
                  "index": 2,
                  "Date": "2015-02-19",
                  "AAPL.Open": 128.479996,
                  "AAPL.High": 129.029999,
                  "AAPL.Low": 128.330002,
                  "AAPL.Close": 128.449997,
                  "AAPL.Volume": 37362400,
                  "AAPL.Adjusted": 123.501363,
                  "dn": 108.8942449,
                  "mavg": 119.8891668,
                  "up": 130.8840887,
                  "direction": "Decreasing"
                },
                {
                  "index": 3,
                  "Date": "2015-02-20",
                  "AAPL.Open": 128.619995,
                  "AAPL.High": 129.5,
                  "AAPL.Low": 128.050003,
                  "AAPL.Close": 129.5,
                  "AAPL.Volume": 48948400,
                  "AAPL.Adjusted": 124.510914,
                  "dn": 109.7854494,
                  "mavg": 120.7635001,
                  "up": 131.7415509,
                  "direction": "Increasing"
                },
                {
                  "index": 4,
                  "Date": "2015-02-23",
                  "AAPL.Open": 130.020004,
                  "AAPL.High": 133,
                  "AAPL.Low": 129.660004,
                  "AAPL.Close": 133,
                  "AAPL.Volume": 70974100,
                  "AAPL.Adjusted": 127.876074,
                  "dn": 110.3725162,
                  "mavg": 121.7201668,
                  "up": 133.0678174,
                  "direction": "Increasing"
                }
              ],
              "datalink": {
                "display_id": "3e161d1f-7dfc-4208-a5d0-13c0b1891bac"
              }
            }
          },
          "metadata": {
            "application/vnd.dataresource+json": {
              "datalink": {
                "dataframe_info": {
                  "default_index_used": true,
                  "orig_size_bytes": 480,
                  "orig_num_rows": 5,
                  "orig_num_cols": 11,
                  "truncated_string_columns": [],
                  "truncated_size_bytes": 480,
                  "truncated_num_rows": 5,
                  "truncated_num_cols": 11
                },
                "dx_settings": {
                  "NUM_PAST_SAMPLES_TRACKED": 3,
                  "ENABLE_DATALINK": true,
                  "DISPLAY_MODE": "simple",
                  "GENERATE_DEX_METADATA": false,
                  "STRINGIFY_INDEX_VALUES": false,
                  "ALLOW_NOTEABLE_ATTRS": true,
                  "DISPLAY_MAX_COLUMNS": 100,
                  "HTML_TABLE_SCHEMA": false,
                  "SAMPLING_FACTOR": 0.1,
                  "LOG_LEVEL": 30,
                  "ENABLE_ASSIGNMENT": true,
                  "FLATTEN_INDEX_VALUES": false,
                  "DEV_MODE": false,
                  "COLUMN_SAMPLING_METHOD": "outer",
                  "FLATTEN_COLUMN_VALUES": true,
                  "DISPLAY_MAX_ROWS": 50000,
                  "ROW_SAMPLING_METHOD": "random",
                  "RANDOM_STATE": 12648430,
                  "DB_LOCATION": ":memory:",
                  "STRINGIFY_COLUMN_VALUES": true,
                  "SAMPLING_METHOD": "random",
                  "MAX_STRING_LENGTH": 250,
                  "MAX_RENDER_SIZE_BYTES": 104857600,
                  "RESET_INDEX_VALUES": false
                },
                "display_id": "3e161d1f-7dfc-4208-a5d0-13c0b1891bac",
                "applied_filters": [],
                "sample_history": [],
                "sampling_time": "2023-07-08T00:15:11.960092",
                "variable_name": "unk_dataframe_30414c90d7c74672a33bc7f0f94f472b",
                "user_variable_name": null
              },
              "display_id": "3e161d1f-7dfc-4208-a5d0-13c0b1891bac"
            }
          }
        }
      ],
      "execution_count": null,
      "metadata": {
        "noteable": {
          "cell_type": "code"
        },
        "ExecuteTime": {
          "end_time": "2023-07-08T00:15:12.118107+00:00",
          "start_time": "2023-07-08T00:15:11.128891+00:00"
        },
        "datalink": {
          "3e161d1f-7dfc-4208-a5d0-13c0b1891bac": {
            "applied_filters": [],
            "dataframe_info": {
              "default_index_used": true,
              "orig_num_cols": 11,
              "orig_num_rows": 5,
              "orig_size_bytes": 480,
              "truncated_num_cols": 11,
              "truncated_num_rows": 5,
              "truncated_size_bytes": 480,
              "truncated_string_columns": []
            },
            "display_id": "3e161d1f-7dfc-4208-a5d0-13c0b1891bac",
            "dx_settings": {
              "ALLOW_NOTEABLE_ATTRS": true,
              "COLUMN_SAMPLING_METHOD": "outer",
              "DB_LOCATION": ":memory:",
              "DEV_MODE": false,
              "DISPLAY_MAX_COLUMNS": 100,
              "DISPLAY_MAX_ROWS": 50000,
              "DISPLAY_MODE": "simple",
              "ENABLE_ASSIGNMENT": true,
              "ENABLE_DATALINK": true,
              "FLATTEN_COLUMN_VALUES": true,
              "FLATTEN_INDEX_VALUES": false,
              "GENERATE_DEX_METADATA": false,
              "HTML_TABLE_SCHEMA": false,
              "LOG_LEVEL": 30,
              "MAX_RENDER_SIZE_BYTES": 104857600,
              "MAX_STRING_LENGTH": 250,
              "NUM_PAST_SAMPLES_TRACKED": 3,
              "RANDOM_STATE": 12648430,
              "RESET_INDEX_VALUES": false,
              "ROW_SAMPLING_METHOD": "random",
              "SAMPLING_FACTOR": 0.1,
              "SAMPLING_METHOD": "random",
              "STRINGIFY_COLUMN_VALUES": true,
              "STRINGIFY_INDEX_VALUES": false
            },
            "sample_history": [],
            "sampling_time": "2023-07-08T00:15:11.960092",
            "user_variable_name": null,
            "variable_name": "unk_dataframe_30414c90d7c74672a33bc7f0f94f472b"
          }
        }
      },
      "id": "605ee109-bbd4-47aa-bb53-abd8674a0b97"
    },
    {
      "cell_type": "markdown",
      "source": [
        "The dataset contains daily stock prices for Apple Inc. (AAPL) from February 2015 to February 2016. The columns represent the following:\n",
        "\n",
        "- `Date`: The date of the recorded prices.\n",
        "- `AAPL.Open`: The opening stock price of the day.\n",
        "- `AAPL.High`: The highest stock price of the day.\n",
        "- `AAPL.Low`: The lowest stock price of the day.\n",
        "- `AAPL.Close`: The closing stock price of the day.\n",
        "- `AAPL.Volume`: The number of shares traded.\n",
        "- `AAPL.Adjusted`: The adjusted closing price amends a stock's closing price to accurately reflect that stock's value after accounting for any corporate actions.\n",
        "- `dn`, `mavg`, `up`, `direction`: These are technical indicators used in financial analysis.\n",
        "\n",
        "Next, we will preprocess the data for PCA. We will scale the data to have a mean of 0 and a standard deviation of 1. This is an important step because PCA is sensitive to the variances of the initial variables."
      ],
      "metadata": {
        "noteable": {
          "cell_type": "markdown"
        }
      },
      "id": "65ef6a6d-7024-4286-b3d6-14d40ec6c3da"
    },
    {
      "cell_type": "code",
      "source": [
        "from sklearn.preprocessing import StandardScaler\n",
        "\n",
        "# Select the numeric columns\n",
        "numeric_columns = ['AAPL.Open', 'AAPL.High', 'AAPL.Low', 'AAPL.Close', 'AAPL.Volume', 'AAPL.Adjusted']\n",
        "df_numeric = df[numeric_columns]\n",
        "\n",
        "# Initialize a scaler, then apply it to the numeric columns\n",
        "scaler = StandardScaler()\n",
        "df_scaled = pd.DataFrame(scaler.fit_transform(df_numeric), columns=df_numeric.columns)\n",
        "\n",
        "# Display the first few rows of the scaled dataframe\n",
        "df_scaled.head()"
      ],
      "outputs": [
        {
          "output_type": "display_data",
          "data": {
            "application/vnd.dataresource+json": {
              "schema": {
                "fields": [
                  {
                    "name": "index",
                    "type": "integer"
                  },
                  {
                    "name": "AAPL.Open",
                    "type": "number"
                  },
                  {
                    "name": "AAPL.High",
                    "type": "number"
                  },
                  {
                    "name": "AAPL.Low",
                    "type": "number"
                  },
                  {
                    "name": "AAPL.Close",
                    "type": "number"
                  },
                  {
                    "name": "AAPL.Volume",
                    "type": "number"
                  },
                  {
                    "name": "AAPL.Adjusted",
                    "type": "number"
                  }
                ],
                "primaryKey": [
                  "index"
                ],
                "pandas_version": "1.4.0"
              },
              "data": [
                {
                  "index": 0,
                  "AAPL.Open": 1.2907565928541653,
                  "AAPL.High": 1.3309196424707121,
                  "AAPL.Low": 1.3310743123908622,
                  "AAPL.Close": 1.3238522518676716,
                  "AAPL.Volume": 1.0071131577455825,
                  "AAPL.Adjusted": 1.182275117936446
                },
                {
                  "index": 1,
                  "AAPL.Open": 1.3031718904787872,
                  "AAPL.High": 1.3220229190597208,
                  "AAPL.Low": 1.3781746526273657,
                  "AAPL.Close": 1.4030785789217837,
                  "AAPL.Volume": 0.08638568565128163,
                  "AAPL.Adjusted": 1.263561518217266
                },
                {
                  "index": 2,
                  "AAPL.Open": 1.3785509329407388,
                  "AAPL.High": 1.3442633931587513,
                  "AAPL.Low": 1.4563795830325656,
                  "AAPL.Close": 1.3790432426911605,
                  "AAPL.Volume": -0.29325109473718214,
                  "AAPL.Adjusted": 1.238901192376297
                },
                {
                  "index": 3,
                  "AAPL.Open": 1.3909662305653596,
                  "AAPL.High": 1.3860755734268253,
                  "AAPL.Low": 1.4314964263362677,
                  "AAPL.Close": 1.472512877023108,
                  "AAPL.Volume": 0.290929604342512,
                  "AAPL.Adjusted": 1.334801287957518
                },
                {
                  "index": 4,
                  "AAPL.Open": 1.515120891756862,
                  "AAPL.High": 1.6974422108132552,
                  "AAPL.Low": 1.5745751772039327,
                  "AAPL.Close": 1.7840774346118144,
                  "AAPL.Volume": 1.4014931140714624,
                  "AAPL.Adjusted": 1.654467323300063
                }
              ],
              "datalink": {
                "display_id": "5d37188e-7883-4af7-991e-a4f75589e5e0"
              }
            }
          },
          "metadata": {
            "application/vnd.dataresource+json": {
              "datalink": {
                "dataframe_info": {
                  "default_index_used": true,
                  "orig_size_bytes": 280,
                  "orig_num_rows": 5,
                  "orig_num_cols": 6,
                  "truncated_string_columns": [],
                  "truncated_size_bytes": 280,
                  "truncated_num_rows": 5,
                  "truncated_num_cols": 6
                },
                "dx_settings": {
                  "NUM_PAST_SAMPLES_TRACKED": 3,
                  "ENABLE_DATALINK": true,
                  "DISPLAY_MODE": "simple",
                  "GENERATE_DEX_METADATA": false,
                  "STRINGIFY_INDEX_VALUES": false,
                  "ALLOW_NOTEABLE_ATTRS": true,
                  "DISPLAY_MAX_COLUMNS": 100,
                  "HTML_TABLE_SCHEMA": false,
                  "SAMPLING_FACTOR": 0.1,
                  "LOG_LEVEL": 30,
                  "ENABLE_ASSIGNMENT": true,
                  "FLATTEN_INDEX_VALUES": false,
                  "DEV_MODE": false,
                  "COLUMN_SAMPLING_METHOD": "outer",
                  "FLATTEN_COLUMN_VALUES": true,
                  "DISPLAY_MAX_ROWS": 50000,
                  "ROW_SAMPLING_METHOD": "random",
                  "RANDOM_STATE": 12648430,
                  "DB_LOCATION": ":memory:",
                  "STRINGIFY_COLUMN_VALUES": true,
                  "SAMPLING_METHOD": "random",
                  "MAX_STRING_LENGTH": 250,
                  "MAX_RENDER_SIZE_BYTES": 104857600,
                  "RESET_INDEX_VALUES": false
                },
                "display_id": "5d37188e-7883-4af7-991e-a4f75589e5e0",
                "applied_filters": [],
                "sample_history": [],
                "sampling_time": "2023-07-08T00:15:49.075185",
                "variable_name": "unk_dataframe_9586a4bf313140a08a0e7005ff829651",
                "user_variable_name": null
              },
              "display_id": "5d37188e-7883-4af7-991e-a4f75589e5e0"
            }
          }
        }
      ],
      "execution_count": null,
      "metadata": {
        "noteable": {
          "cell_type": "code"
        },
        "ExecuteTime": {
          "end_time": "2023-07-08T00:15:49.233550+00:00",
          "start_time": "2023-07-08T00:15:49.026689+00:00"
        },
        "datalink": {
          "5d37188e-7883-4af7-991e-a4f75589e5e0": {
            "applied_filters": [],
            "dataframe_info": {
              "default_index_used": true,
              "orig_num_cols": 6,
              "orig_num_rows": 5,
              "orig_size_bytes": 280,
              "truncated_num_cols": 6,
              "truncated_num_rows": 5,
              "truncated_size_bytes": 280,
              "truncated_string_columns": []
            },
            "display_id": "5d37188e-7883-4af7-991e-a4f75589e5e0",
            "dx_settings": {
              "ALLOW_NOTEABLE_ATTRS": true,
              "COLUMN_SAMPLING_METHOD": "outer",
              "DB_LOCATION": ":memory:",
              "DEV_MODE": false,
              "DISPLAY_MAX_COLUMNS": 100,
              "DISPLAY_MAX_ROWS": 50000,
              "DISPLAY_MODE": "simple",
              "ENABLE_ASSIGNMENT": true,
              "ENABLE_DATALINK": true,
              "FLATTEN_COLUMN_VALUES": true,
              "FLATTEN_INDEX_VALUES": false,
              "GENERATE_DEX_METADATA": false,
              "HTML_TABLE_SCHEMA": false,
              "LOG_LEVEL": 30,
              "MAX_RENDER_SIZE_BYTES": 104857600,
              "MAX_STRING_LENGTH": 250,
              "NUM_PAST_SAMPLES_TRACKED": 3,
              "RANDOM_STATE": 12648430,
              "RESET_INDEX_VALUES": false,
              "ROW_SAMPLING_METHOD": "random",
              "SAMPLING_FACTOR": 0.1,
              "SAMPLING_METHOD": "random",
              "STRINGIFY_COLUMN_VALUES": true,
              "STRINGIFY_INDEX_VALUES": false
            },
            "sample_history": [],
            "sampling_time": "2023-07-08T00:15:49.075185",
            "user_variable_name": null,
            "variable_name": "unk_dataframe_9586a4bf313140a08a0e7005ff829651"
          }
        }
      },
      "id": "60a9f592-a538-4736-bf43-26ac455f8cd0"
    },
    {
      "cell_type": "markdown",
      "source": [
        "The data has been scaled and is now ready for PCA. The next step is to perform PCA on the scaled data. We will use the PCA implementation from the sklearn library. We will start by initializing a PCA object, then fit the PCA on the scaled data. After fitting, we can access the principal components through the `components_` attribute of the PCA object."
      ],
      "metadata": {
        "noteable": {
          "cell_type": "markdown"
        }
      },
      "id": "e9641ae7-b263-470e-adc2-470a6f963e09"
    },
    {
      "cell_type": "code",
      "source": [
        "# Initialize a PCA object\n",
        "pca = PCA()\n",
        "\n",
        "# Fit the PCA on the scaled data\n",
        "pca.fit(df_scaled)\n",
        "\n",
        "# Print the principal components\n",
        "print(pca.components_)"
      ],
      "outputs": [
        {
          "output_type": "stream",
          "name": "stdout",
          "text": [
            "[[ 0.44703076  0.44761389  0.44783368  0.44793546  0.009952    0.44553909]\n",
            " [ 0.01294695  0.04616779 -0.03423884  0.00124435  0.99708409 -0.04848079]\n",
            " [-0.55617868 -0.16977155 -0.20991331  0.17205802  0.04488583  0.76561126]\n",
            " [-0.50695454  0.2451914   0.03074919  0.68649967 -0.02684914 -0.45818128]\n",
            " [ 0.06513731  0.70941009 -0.68313256 -0.14183406 -0.05442698  0.05239435]\n",
            " [ 0.47897326 -0.45310756 -0.53534428  0.52758849 -0.00513509 -0.01756935]]\n"
          ]
        }
      ],
      "execution_count": null,
      "metadata": {
        "noteable": {
          "cell_type": "code"
        },
        "ExecuteTime": {
          "end_time": "2023-07-08T00:16:14.986571+00:00",
          "start_time": "2023-07-08T00:16:14.826798+00:00"
        }
      },
      "id": "ec176f1e-719d-436e-825d-9069f5a9323f"
    },
    {
      "cell_type": "markdown",
      "source": [
        "The output above represents the principal components. Each row corresponds to a principal component, and each column corresponds to the original features. The values are the coefficients of the linear combinations that form the principal components from the original features.\n",
        "\n",
        "Next, we will transform the scaled data to the principal component space and visualize the first two principal components."
      ],
      "metadata": {
        "noteable": {
          "cell_type": "markdown"
        }
      },
      "id": "12ede08c-4124-41ad-9437-737a6823ed19"
    },
    {
      "cell_type": "code",
      "source": [
        "# Transform the scaled data to the principal component space\n",
        "df_pca = pca.transform(df_scaled)\n",
        "\n",
        "# Plot the first two principal components\n",
        "plt.figure(figsize=(10, 7))\n",
        "plt.scatter(df_pca[:, 0], df_pca[:, 1])\n",
        "plt.xlabel('First Principal Component')\n",
        "plt.ylabel('Second Principal Component')\n",
        "plt.title('Principal Component Analysis (PCA) of Apple Stock Prices')\n",
        "plt.grid(True)\n",
        "plt.show()"
      ],
      "outputs": [
        {
          "output_type": "display_data",
          "data": {
            "image/png": "[encoded data removed]"
          },
          "metadata": {}
        }
      ],
      "execution_count": null,
      "metadata": {
        "noteable": {
          "cell_type": "code"
        },
        "ExecuteTime": {
          "end_time": "2023-07-08T00:16:46.973624+00:00",
          "start_time": "2023-07-08T00:16:46.338345+00:00"
        }
      },
      "id": "149ee697-f72b-4fab-8a89-40c2df2d68e3"
    },
    {
      "cell_type": "markdown",
      "source": [
        "The scatter plot above shows the projection of the data onto the first two principal components. Each point represents a day of stock prices. The first principal component captures the most variance in the data, and the second principal component captures the second most variance.\n",
        "\n",
        "PCA is a powerful tool for dimensionality reduction, visualization, and noise filtering. However, the principal components are less interpretable than the original features because they are linear combinations of the original features.\n",
        "\n",
        "In this notebook, we have walked through the steps of performing PCA on a financial dataset. We have seen how PCA can reduce the dimensionality of the data and help visualize the data in a lower-dimensional space. PCA is a versatile technique that can be useful in many areas of data science."
      ],
      "metadata": {
        "noteable": {
          "cell_type": "markdown"
        }
      },
      "id": "56ecd2bc-fba3-4cd0-beec-e21255fc92fd"
    }
  ],
  "metadata": {
    "noteable-chatgpt": {
      "create_notebook": {
        "openai_conversation_id": "21c8f698-4919-5a06-86ea-f05302c33b2d",
        "openai_ephemeral_user_id": "4cdafc4f-0473-5ced-858a-f2ce9a165b1c"
      }
    },
    "noteable": {
      "last_transaction_id": "cf693f5c-5ecb-4c4c-b001-bb061964cf01",
      "last_delta_id": "cf693f5c-5ecb-4c4c-b001-bb061964cf01"
    },
    "selected_hardware_size": "small",
    "nteract": {
      "version": "noteable@2.9.0"
    }
  },
  "nbformat": 4,
  "nbformat_minor": 5
}