{
  "cells": [
    {
      "cell_type": "markdown",
      "source": [
        "# Measures of Dispersion\n",
        "\n",
        "In this notebook, we will explore the concept of measures of dispersion, which are crucial in understanding the variability of a dataset. They complement measures of central tendency and provide a more complete picture of our data.\n",
        "\n",
        "The key measures of dispersion we will focus on are Range, Quartiles, and Interquartile Range. We will also discuss and visualize these measures using box plots."
      ],
      "metadata": {
        "noteable": {
          "cell_type": "markdown"
        }
      },
      "id": "8e1c3a54-253d-4652-b7e2-510e4c1d9c63"
    },
    {
      "cell_type": "code",
      "source": [
        "# Importing necessary libraries\n",
        "import numpy as np\n",
        "import seaborn as sns\n",
        "import matplotlib.pyplot as plt\n",
        "\n",
        "# Let's create a sample data\n",
        "np.random.seed(0)\n",
        "data = np.random.normal(100, 20, 200)  # 200 data points with mean=100 and standard deviation=20"
      ],
      "outputs": [],
      "execution_count": null,
      "metadata": {
        "noteable": {
          "cell_type": "code"
        },
        "ExecuteTime": {
          "end_time": "2023-07-04T21:05:41.785575+00:00",
          "start_time": "2023-07-04T21:05:40.978773+00:00"
        }
      },
      "id": "2a161e8c-25f5-428c-a9d1-e947d5d8576b"
    },
    {
      "cell_type": "markdown",
      "source": [
        "## Range\n",
        "\n",
        "The range of a dataset is the interval between the maximum and minimum values. It gives us a sense of how spread out the values are. Let's calculate it for our data."
      ],
      "metadata": {
        "noteable": {
          "cell_type": "markdown"
        }
      },
      "id": "88413aff-175d-4c20-ab45-ff654c0d185b"
    },
    {
      "cell_type": "code",
      "source": [
        "# Calculate the range\n",
        "data_range = np.max(data) - np.min(data)\n",
        "data_range"
      ],
      "outputs": [
        {
          "output_type": "execute_result",
          "execution_count": null,
          "data": {
            "text/plain": "98.72269181396041"
          },
          "metadata": {}
        }
      ],
      "execution_count": null,
      "metadata": {
        "noteable": {
          "cell_type": "code"
        },
        "ExecuteTime": {
          "end_time": "2023-07-04T20:56:58.356331+00:00",
          "start_time": "2023-07-04T20:56:58.195781+00:00"
        }
      },
      "id": "c745acbf-131b-4ae7-8fe3-94608c036b1e"
    },
    {
      "cell_type": "markdown",
      "source": [
        "## Quartiles\n",
        "\n",
        "Quartiles are values that divide our data into four equal parts. They are:\n",
        "\n",
        "- First quartile (Q1): 25% of the data is less than or equal to this value.\n",
        "- Second quartile (Q2): This is the median. 50% of the data is less than or equal to this value.\n",
        "- Third quartile (Q3): 75% of the data is less than or equal to this value.\n",
        "\n",
        "Let's calculate the quartiles for our data."
      ],
      "metadata": {
        "noteable": {
          "cell_type": "markdown"
        }
      },
      "id": "ca8a7284-6bdd-435d-ae6c-d0e6dbcf10b5"
    },
    {
      "cell_type": "code",
      "source": [
        "# Calculate the quartiles\n",
        "q1, q2, q3 = np.percentile(data, [25, 50, 75])\n",
        "q1, q2, q3"
      ],
      "outputs": [
        {
          "output_type": "execute_result",
          "execution_count": null,
          "data": {
            "text/plain": "(85.88366712207295, 101.0833042149072, 116.15436670676458)"
          },
          "metadata": {}
        }
      ],
      "execution_count": null,
      "metadata": {
        "noteable": {
          "cell_type": "code"
        },
        "ExecuteTime": {
          "end_time": "2023-07-04T20:57:32.254834+00:00",
          "start_time": "2023-07-04T20:57:32.095907+00:00"
        }
      },
      "id": "c3e64214-ac07-4bde-a435-fee25e44fb5c"
    },
    {
      "cell_type": "markdown",
      "source": [
        "## Interquartile Range\n",
        "\n",
        "The interquartile range (IQR) is the distance between the first quartile and the third quartile (Q3-Q1); it covers the middle 50% of the data. The IQR can help us identify outliers in our data. Let's calculate the IQR for our data."
      ],
      "metadata": {
        "noteable": {
          "cell_type": "markdown"
        }
      },
      "id": "e9551ac5-8255-47e8-9e6b-4d956b1a240b"
    },
    {
      "cell_type": "code",
      "source": [
        "# Calculate the IQR\n",
        "iqr = q3 - q1\n",
        "iqr"
      ],
      "outputs": [
        {
          "output_type": "execute_result",
          "execution_count": null,
          "data": {
            "text/plain": "30.270699584691627"
          },
          "metadata": {}
        }
      ],
      "execution_count": null,
      "metadata": {
        "noteable": {
          "cell_type": "code"
        },
        "ExecuteTime": {
          "end_time": "2023-07-04T20:57:46.180652+00:00",
          "start_time": "2023-07-04T20:57:46.022349+00:00"
        }
      },
      "id": "1ebe0bd3-b7b5-47de-8876-991ff9c7d646"
    },
    {
      "cell_type": "markdown",
      "source": [
        "## Box Plot\n",
        "\n",
        "A box plot (or box-and-whisker plot) is a way to show the distribution of values based on the five-number summary: minimum, first quartile (Q1), median (Q2), third quartile (Q3), and maximum. It can also show outliers. Let's create a box plot for our data."
      ],
      "metadata": {
        "noteable": {
          "cell_type": "markdown"
        }
      },
      "id": "f40eae16-18ef-4055-93a1-82175e31ac4c"
    },
    {
      "cell_type": "code",
      "source": [
        "# Create a box plot\n",
        "sns.boxplot(data)\n",
        "plt.title('Box plot of the data')\n",
        "plt.show()"
      ],
      "outputs": [
        {
          "output_type": "display_data",
          "data": {
            "image/png": "[encoded data removed]"
          },
          "metadata": {}
        }
      ],
      "execution_count": null,
      "metadata": {
        "noteable": {
          "cell_type": "code"
        },
        "ExecuteTime": {
          "end_time": "2023-07-04T20:58:19.448987+00:00",
          "start_time": "2023-07-04T20:58:18.926683+00:00"
        }
      },
      "id": "ca09d3a3-b637-411d-aa69-fd8357261e93"
    }
  ],
  "metadata": {
    "noteable-chatgpt": {
      "create_notebook": {
        "openai_conversation_id": "6eb3c9e7-c17a-5f20-bbbc-2389b74c7a36",
        "openai_ephemeral_user_id": "3af8edfd-ae3a-58ef-80b4-27e8917550be",
        "openai_subdivision1_iso_code": "MX-BCN"
      }
    },
    "noteable": {
      "last_transaction_id": "71f28f5c-66cd-4579-8668-7b1d38a8b3f9",
      "last_delta_id": "71f28f5c-66cd-4579-8668-7b1d38a8b3f9"
    },
    "selected_hardware_size": "small",
    "nteract": {
      "version": "noteable@2.9.0"
    }
  },
  "nbformat": 4,
  "nbformat_minor": 5
}