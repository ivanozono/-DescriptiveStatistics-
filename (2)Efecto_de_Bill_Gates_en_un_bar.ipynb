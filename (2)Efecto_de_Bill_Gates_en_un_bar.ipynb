{
  "cells": [
    {
      "cell_type": "markdown",
      "source": [
        "## 1. Introducción a la estadística descriptiva\n",
        "\n",
        "La estadística descriptiva es una parte crucial de cualquier análisis de datos. Nos ayuda a entender la distribución de los datos, identificar patrones y tendencias, y resumir los datos de una manera que sea fácil de entender. Los dos conceptos clave que discutiremos en este notebook son el promedio y la mediana."
      ],
      "metadata": {
        "noteable": {
          "cell_type": "markdown"
        }
      },
      "id": "de236872-fcf3-4aa8-b3d3-905a3345a335"
    },
    {
      "cell_type": "markdown",
      "source": [
        "## 2. Promedio y su interpretación\n",
        "\n",
        "El promedio, también conocido como la media, es una medida estadística que se utiliza para entender el centro de una distribución de datos. Se calcula sumando todos los números en el conjunto de datos y luego dividiendo por la cantidad de números en el conjunto de datos.\n",
        "\n",
        "Aunque el promedio es una herramienta útil para resumir un conjunto de datos, puede ser engañoso si el conjunto de datos contiene valores extremos. Esto se debe a que el promedio es sensible a los valores extremos, lo que significa que puede ser fuertemente influenciado por los valores que son significativamente más altos o más bajos que el resto."
      ],
      "metadata": {
        "noteable": {
          "cell_type": "markdown"
        }
      },
      "id": "17419d21-152b-47fd-936c-520158134e04"
    },
    {
      "cell_type": "markdown",
      "source": [
        "## 3. Mediana y su interpretación\n",
        "\n",
        "La mediana es otra medida estadística que se utiliza para entender el centro de una distribución de datos. A diferencia del promedio, la mediana es el valor medio en un conjunto de datos cuando los números están ordenados en orden ascendente o descendente.\n",
        "\n",
        "La mediana es una medida resistente, lo que significa que no es sensible a los valores extremos. Por lo tanto, en un conjunto de datos con valores extremos, la mediana puede ser una mejor representación del centro de la distribución de datos."
      ],
      "metadata": {
        "noteable": {
          "cell_type": "markdown"
        }
      },
      "id": "d1c3e6e2-1295-4266-8375-c9c600d0fc57"
    },
    {
      "cell_type": "markdown",
      "source": [
        "## 4. Comparación entre promedio y mediana\n",
        "\n",
        "Tanto el promedio como la mediana son medidas de tendencia central que se utilizan para entender el centro de una distribución de datos. Sin embargo, tienen diferentes propiedades:\n",
        "\n",
        "- **Promedio:** Es útil cuando los datos están uniformemente distribuidos y no hay valores extremos. Sin embargo, puede ser engañoso si hay valores extremos en los datos.\n",
        "- **Mediana:** Es útil cuando los datos tienen valores extremos que podrían sesgar el promedio. La mediana es resistente a los valores extremos y puede proporcionar una mejor representación del centro de la distribución de datos en tales casos.\n",
        "\n",
        "En la práctica, es útil calcular tanto el promedio como la mediana y compararlos para entender la distribución de los datos."
      ],
      "metadata": {
        "noteable": {
          "cell_type": "markdown"
        }
      },
      "id": "90a6f265-2818-4b1a-8802-36f8d107987f"
    },
    {
      "cell_type": "markdown",
      "source": [
        "## 5. Ejemplo: Efecto de Bill Gates en un bar\n",
        "\n",
        "Para ilustrar cómo el promedio puede ser engañoso y cómo la mediana puede ser una mejor representación en ciertos casos, consideremos el siguiente ejemplo:\n",
        "\n",
        "Imagina que Bill Gates, uno de los hombres más ricos del mundo, entra en un bar. El ingreso promedio de las personas en el bar aumentaría drásticamente. Sin embargo, esto no significa que todos en el bar sean repentinamente más ricos. Este es un ejemplo de cómo el promedio puede ser engañoso.\n",
        "\n",
        "Por otro lado, si calculamos la mediana de los ingresos, veremos que no se ve afectada por la entrada de Bill Gates. La mediana seguiría siendo la misma, proporcionando una mejor representación de los ingresos de la mayoría de las personas en el bar.\n",
        "\n",
        "A continuación, vamos a simular este escenario con código Python."
      ],
      "metadata": {
        "noteable": {
          "cell_type": "markdown"
        }
      },
      "id": "7bbd48d6-d6d5-45f7-9c4f-aeaa1253c359"
    },
    {
      "cell_type": "code",
      "source": [
        "# Import necessary libraries\n",
        "import numpy as np\n",
        "\n",
        "# Let's assume there are 10 people in the bar and each of them earns $100\n",
        "incomes = np.repeat(100, 10)\n",
        "\n",
        "# Calculate the average income\n",
        "average_income = np.mean(incomes)\n",
        "print(f'Average income before Bill Gates enters the bar: {average_income}')\n",
        "\n",
        "# Calculate the median income\n",
        "median_income = np.median(incomes)\n",
        "print(f'Median income before Bill Gates enters the bar: {median_income}')\n",
        "\n",
        "# Now, let's assume Bill Gates enters the bar. His net worth is around $100 billion\n",
        "incomes = np.append(incomes, 100_000_000_000)\n",
        "\n",
        "# Calculate the new average income\n",
        "average_income = np.mean(incomes)\n",
        "print(f'Average income after Bill Gates enters the bar: {average_income}')\n",
        "\n",
        "# Calculate the new median income\n",
        "median_income = np.median(incomes)\n",
        "print(f'Median income after Bill Gates enters the bar: {median_income}')"
      ],
      "outputs": [
        {
          "output_type": "stream",
          "name": "stdout",
          "text": [
            "Average income before Bill Gates enters the bar: 100.0\n",
            "Median income before Bill Gates enters the bar: 100.0\n",
            "Average income after Bill Gates enters the bar: 9090909181.818182\n",
            "Median income after Bill Gates enters the bar: 100.0\n"
          ]
        }
      ],
      "execution_count": null,
      "metadata": {
        "noteable": {
          "cell_type": "code"
        },
        "ExecuteTime": {
          "end_time": "2023-07-04T16:21:58.797323+00:00",
          "start_time": "2023-07-04T16:21:58.637437+00:00"
        }
      },
      "id": "a8f29e69-724f-4c28-be77-4304322aba31"
    },
    {
      "cell_type": "markdown",
      "source": [
        "Como podemos ver en los resultados, el ingreso promedio aumentó drásticamente de $100 a $9,090,909,181.82 cuando Bill Gates entró en el bar. Sin embargo, la mediana del ingreso se mantuvo en $100, lo que indica que la mayoría de las personas en el bar todavía ganan $100. Esto ilustra cómo el promedio puede ser engañoso en presencia de valores extremos y cómo la mediana puede ser una mejor representación en tales casos."
      ],
      "metadata": {
        "noteable": {
          "cell_type": "markdown"
        }
      },
      "id": "54f97ab4-5da7-4627-93a8-77db7a57465e"
    },
    {
      "cell_type": "markdown",
      "source": [
        "## 6. Conclusión\n",
        "\n",
        "En este notebook, hemos discutido los conceptos de promedio y mediana en la estadística descriptiva. Hemos visto cómo el promedio puede ser engañoso en presencia de valores extremos y cómo la mediana puede ser una mejor representación en tales casos. También hemos ilustrado estos conceptos con el ejemplo de Bill Gates entrando en un bar.\n",
        "\n",
        "Es importante recordar que tanto el promedio como la mediana son herramientas útiles en estadística descriptiva y cada una tiene sus propios usos y limitaciones. La elección de usar el promedio o la mediana depende de la distribución de los datos y del contexto del análisis."
      ],
      "metadata": {
        "noteable": {
          "cell_type": "markdown"
        }
      },
      "id": "de826c40-c855-4711-9d91-24ca48c6afe4"
    }
  ],
  "metadata": {
    "noteable-chatgpt": {
      "create_notebook": {
        "openai_conversation_id": "6eb3c9e7-c17a-5f20-bbbc-2389b74c7a36",
        "openai_ephemeral_user_id": "3af8edfd-ae3a-58ef-80b4-27e8917550be",
        "openai_subdivision1_iso_code": "MX-BCN"
      }
    },
    "noteable": {
      "last_transaction_id": "ff69d7aa-8b6d-4411-bd5e-c019b1fe1996",
      "last_delta_id": "ff69d7aa-8b6d-4411-bd5e-c019b1fe1996"
    },
    "selected_hardware_size": "small",
    "nteract": {
      "version": "noteable@2.9.0"
    }
  },
  "nbformat": 4,
  "nbformat_minor": 5
}