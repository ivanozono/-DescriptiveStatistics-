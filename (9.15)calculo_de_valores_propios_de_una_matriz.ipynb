{
  "cells": [
    {
      "cell_type": "markdown",
      "source": [
        "# Calculation of Eigenvalues of a Matrix\n",
        "\n",
        "In this notebook, we will explore the concept of eigenvalues and eigenvectors, which are fundamental in many operations of linear algebra and are used in various applications, such as dimensionality reduction in Principal Component Analysis (PCA).\n",
        "\n",
        "## Key Concepts\n",
        "\n",
        "1. **Covariance Matrix:** This matrix is essential for identifying which variables are highly correlated in a dataset with many variables. If two variables are highly correlated, they provide the same information, so it doesn't make sense to use both.\n",
        "\n",
        "2. **Eigenvalues and Eigenvectors:** Eigenvalues and eigenvectors are fundamental concepts in linear algebra. In Python, they can be calculated using the `np.linalg.eig()` function.\n",
        "\n",
        "3. **Dimensionality Reduction:** Techniques like Principal Component Analysis (PCA) use eigenvalues and eigenvectors to reduce the dimensionality of data, which can be useful when working with high-dimensional datasets.\n",
        "\n",
        "Let's dive into the practical application of these concepts."
      ],
      "metadata": {
        "noteable": {
          "cell_type": "markdown"
        }
      },
      "id": "cf4728de-a3de-450d-ab4c-48a91339e0a6"
    },
    {
      "cell_type": "code",
      "source": [
        "# Importing necessary libraries\n",
        "import numpy as np\n",
        "import pandas as pd\n",
        "from sklearn.datasets import load_iris\n",
        "\n",
        "# Load the iris dataset\n",
        "iris = load_iris()\n",
        "df = pd.DataFrame(data= np.c_[iris['data'], iris['target']],\n",
        "                  columns= iris['feature_names'] + ['target'])\n",
        "\n",
        "# Display the first few rows of the dataframe\n",
        "df.head()"
      ],
      "outputs": [
        {
          "output_type": "display_data",
          "data": {
            "application/vnd.dataresource+json": {
              "schema": {
                "fields": [
                  {
                    "name": "index",
                    "type": "integer"
                  },
                  {
                    "name": "sepal length (cm)",
                    "type": "number"
                  },
                  {
                    "name": "sepal width (cm)",
                    "type": "number"
                  },
                  {
                    "name": "petal length (cm)",
                    "type": "number"
                  },
                  {
                    "name": "petal width (cm)",
                    "type": "number"
                  },
                  {
                    "name": "target",
                    "type": "number"
                  }
                ],
                "primaryKey": [
                  "index"
                ],
                "pandas_version": "1.4.0"
              },
              "data": [
                {
                  "index": 0,
                  "sepal length (cm)": 5.1,
                  "sepal width (cm)": 3.5,
                  "petal length (cm)": 1.4,
                  "petal width (cm)": 0.2,
                  "target": 0
                },
                {
                  "index": 1,
                  "sepal length (cm)": 4.9,
                  "sepal width (cm)": 3,
                  "petal length (cm)": 1.4,
                  "petal width (cm)": 0.2,
                  "target": 0
                },
                {
                  "index": 2,
                  "sepal length (cm)": 4.7,
                  "sepal width (cm)": 3.2,
                  "petal length (cm)": 1.3,
                  "petal width (cm)": 0.2,
                  "target": 0
                },
                {
                  "index": 3,
                  "sepal length (cm)": 4.6,
                  "sepal width (cm)": 3.1,
                  "petal length (cm)": 1.5,
                  "petal width (cm)": 0.2,
                  "target": 0
                },
                {
                  "index": 4,
                  "sepal length (cm)": 5,
                  "sepal width (cm)": 3.6,
                  "petal length (cm)": 1.4,
                  "petal width (cm)": 0.2,
                  "target": 0
                }
              ],
              "datalink": {
                "display_id": "7e2c35cc-1dea-4b2d-95ef-56f1695be1f9"
              }
            }
          },
          "metadata": {
            "application/vnd.dataresource+json": {
              "datalink": {
                "dataframe_info": {
                  "default_index_used": true,
                  "orig_size_bytes": 240,
                  "orig_num_rows": 5,
                  "orig_num_cols": 5,
                  "truncated_string_columns": [],
                  "truncated_size_bytes": 240,
                  "truncated_num_rows": 5,
                  "truncated_num_cols": 5
                },
                "dx_settings": {
                  "NUM_PAST_SAMPLES_TRACKED": 3,
                  "ENABLE_DATALINK": true,
                  "DISPLAY_MODE": "simple",
                  "GENERATE_DEX_METADATA": false,
                  "STRINGIFY_INDEX_VALUES": false,
                  "ALLOW_NOTEABLE_ATTRS": true,
                  "DISPLAY_MAX_COLUMNS": 100,
                  "HTML_TABLE_SCHEMA": false,
                  "SAMPLING_FACTOR": 0.1,
                  "LOG_LEVEL": 30,
                  "ENABLE_ASSIGNMENT": true,
                  "FLATTEN_INDEX_VALUES": false,
                  "DEV_MODE": false,
                  "COLUMN_SAMPLING_METHOD": "outer",
                  "FLATTEN_COLUMN_VALUES": true,
                  "DISPLAY_MAX_ROWS": 50000,
                  "ROW_SAMPLING_METHOD": "random",
                  "RANDOM_STATE": 12648430,
                  "DB_LOCATION": ":memory:",
                  "STRINGIFY_COLUMN_VALUES": true,
                  "SAMPLING_METHOD": "random",
                  "MAX_STRING_LENGTH": 250,
                  "MAX_RENDER_SIZE_BYTES": 104857600,
                  "RESET_INDEX_VALUES": false
                },
                "display_id": "7e2c35cc-1dea-4b2d-95ef-56f1695be1f9",
                "applied_filters": [],
                "sample_history": [],
                "sampling_time": "2023-07-07T23:40:53.064989",
                "variable_name": "unk_dataframe_31d3184d28844b0e93a69733cc9e87b6",
                "user_variable_name": null
              },
              "display_id": "7e2c35cc-1dea-4b2d-95ef-56f1695be1f9"
            }
          }
        }
      ],
      "execution_count": null,
      "metadata": {
        "noteable": {
          "cell_type": "code"
        },
        "ExecuteTime": {
          "end_time": "2023-07-07T23:40:53.223142+00:00",
          "start_time": "2023-07-07T23:40:52.694109+00:00"
        },
        "datalink": {
          "7e2c35cc-1dea-4b2d-95ef-56f1695be1f9": {
            "applied_filters": [],
            "dataframe_info": {
              "default_index_used": true,
              "orig_num_cols": 5,
              "orig_num_rows": 5,
              "orig_size_bytes": 240,
              "truncated_num_cols": 5,
              "truncated_num_rows": 5,
              "truncated_size_bytes": 240,
              "truncated_string_columns": []
            },
            "display_id": "7e2c35cc-1dea-4b2d-95ef-56f1695be1f9",
            "dx_settings": {
              "ALLOW_NOTEABLE_ATTRS": true,
              "COLUMN_SAMPLING_METHOD": "outer",
              "DB_LOCATION": ":memory:",
              "DEV_MODE": false,
              "DISPLAY_MAX_COLUMNS": 100,
              "DISPLAY_MAX_ROWS": 50000,
              "DISPLAY_MODE": "simple",
              "ENABLE_ASSIGNMENT": true,
              "ENABLE_DATALINK": true,
              "FLATTEN_COLUMN_VALUES": true,
              "FLATTEN_INDEX_VALUES": false,
              "GENERATE_DEX_METADATA": false,
              "HTML_TABLE_SCHEMA": false,
              "LOG_LEVEL": 30,
              "MAX_RENDER_SIZE_BYTES": 104857600,
              "MAX_STRING_LENGTH": 250,
              "NUM_PAST_SAMPLES_TRACKED": 3,
              "RANDOM_STATE": 12648430,
              "RESET_INDEX_VALUES": false,
              "ROW_SAMPLING_METHOD": "random",
              "SAMPLING_FACTOR": 0.1,
              "SAMPLING_METHOD": "random",
              "STRINGIFY_COLUMN_VALUES": true,
              "STRINGIFY_INDEX_VALUES": false
            },
            "sample_history": [],
            "sampling_time": "2023-07-07T23:40:53.064989",
            "user_variable_name": null,
            "variable_name": "unk_dataframe_31d3184d28844b0e93a69733cc9e87b6"
          }
        }
      },
      "id": "391bb83c-91d1-4db0-8f2b-e37ae4c35366"
    },
    {
      "cell_type": "markdown",
      "source": [
        "We have loaded the Iris dataset, which is a multivariate dataset introduced by the British statistician and biologist Ronald Fisher. This dataset is commonly used in pattern recognition literature. It includes three iris species with 50 samples each as well as some properties about each flower. One flower species is linearly separable from the other two, but the other two are not linearly separable from each other.\n",
        "\n",
        "The columns in this DataFrame are:\n",
        "\n",
        "1. Sepal Length (cm)\n",
        "2. Sepal Width (cm)\n",
        "3. Petal Length (cm)\n",
        "4. Petal Width (cm)\n",
        "5. Target (Species)\n",
        "\n",
        "Next, we will calculate the covariance matrix of the features in this dataset."
      ],
      "metadata": {
        "noteable": {
          "cell_type": "markdown"
        }
      },
      "id": "a4506fa9-1037-41dc-afe3-139fbebaf395"
    },
    {
      "cell_type": "code",
      "source": [
        "# Drop the target column as we only want to calculate covariance of the features\n",
        "df_features = df.drop(columns=['target'])\n",
        "\n",
        "# Calculate the covariance matrix\n",
        "cov_matrix = df_features.cov()\n",
        "cov_matrix"
      ],
      "outputs": [
        {
          "output_type": "display_data",
          "data": {
            "application/vnd.dataresource+json": {
              "schema": {
                "fields": [
                  {
                    "name": "index",
                    "type": "string"
                  },
                  {
                    "name": "sepal length (cm)",
                    "type": "number"
                  },
                  {
                    "name": "sepal width (cm)",
                    "type": "number"
                  },
                  {
                    "name": "petal length (cm)",
                    "type": "number"
                  },
                  {
                    "name": "petal width (cm)",
                    "type": "number"
                  }
                ],
                "primaryKey": [
                  "index"
                ],
                "pandas_version": "1.4.0"
              },
              "data": [
                {
                  "index": "sepal length (cm)",
                  "sepal length (cm)": 0.6856935123042504,
                  "sepal width (cm)": -0.042434004474272924,
                  "petal length (cm)": 1.2743154362416111,
                  "petal width (cm)": 0.516270693512304
                },
                {
                  "index": "sepal width (cm)",
                  "sepal length (cm)": -0.042434004474272924,
                  "sepal width (cm)": 0.18997941834451895,
                  "petal length (cm)": -0.3296563758389261,
                  "petal width (cm)": -0.12163937360178974
                },
                {
                  "index": "petal length (cm)",
                  "sepal length (cm)": 1.2743154362416111,
                  "sepal width (cm)": -0.3296563758389261,
                  "petal length (cm)": 3.1162778523489965,
                  "petal width (cm)": 1.2956093959731547
                },
                {
                  "index": "petal width (cm)",
                  "sepal length (cm)": 0.516270693512304,
                  "sepal width (cm)": -0.12163937360178974,
                  "petal length (cm)": 1.2956093959731547,
                  "petal width (cm)": 0.5810062639821025
                }
              ],
              "datalink": {
                "display_id": "3cd246dc-60ba-4b41-912e-fc648eb87c23"
              }
            }
          },
          "metadata": {
            "application/vnd.dataresource+json": {
              "datalink": {
                "dataframe_info": {
                  "default_index_used": false,
                  "orig_size_bytes": 160,
                  "orig_num_rows": 4,
                  "orig_num_cols": 4,
                  "truncated_string_columns": [],
                  "truncated_size_bytes": 160,
                  "truncated_num_rows": 4,
                  "truncated_num_cols": 4
                },
                "dx_settings": {
                  "NUM_PAST_SAMPLES_TRACKED": 3,
                  "ENABLE_DATALINK": true,
                  "DISPLAY_MODE": "simple",
                  "GENERATE_DEX_METADATA": false,
                  "STRINGIFY_INDEX_VALUES": false,
                  "ALLOW_NOTEABLE_ATTRS": true,
                  "DISPLAY_MAX_COLUMNS": 100,
                  "HTML_TABLE_SCHEMA": false,
                  "SAMPLING_FACTOR": 0.1,
                  "LOG_LEVEL": 30,
                  "ENABLE_ASSIGNMENT": true,
                  "FLATTEN_INDEX_VALUES": false,
                  "DEV_MODE": false,
                  "COLUMN_SAMPLING_METHOD": "outer",
                  "FLATTEN_COLUMN_VALUES": true,
                  "DISPLAY_MAX_ROWS": 50000,
                  "ROW_SAMPLING_METHOD": "random",
                  "RANDOM_STATE": 12648430,
                  "DB_LOCATION": ":memory:",
                  "STRINGIFY_COLUMN_VALUES": true,
                  "SAMPLING_METHOD": "random",
                  "MAX_STRING_LENGTH": 250,
                  "MAX_RENDER_SIZE_BYTES": 104857600,
                  "RESET_INDEX_VALUES": false
                },
                "display_id": "3cd246dc-60ba-4b41-912e-fc648eb87c23",
                "applied_filters": [],
                "sample_history": [],
                "sampling_time": "2023-07-07T23:41:21.598787",
                "variable_name": "cov_matrix",
                "user_variable_name": "cov_matrix"
              },
              "display_id": "3cd246dc-60ba-4b41-912e-fc648eb87c23"
            }
          }
        }
      ],
      "execution_count": null,
      "metadata": {
        "noteable": {
          "cell_type": "code"
        },
        "ExecuteTime": {
          "end_time": "2023-07-07T23:41:21.756522+00:00",
          "start_time": "2023-07-07T23:41:21.558669+00:00"
        },
        "datalink": {
          "3cd246dc-60ba-4b41-912e-fc648eb87c23": {
            "applied_filters": [],
            "dataframe_info": {
              "default_index_used": false,
              "orig_num_cols": 4,
              "orig_num_rows": 4,
              "orig_size_bytes": 160,
              "truncated_num_cols": 4,
              "truncated_num_rows": 4,
              "truncated_size_bytes": 160,
              "truncated_string_columns": []
            },
            "display_id": "3cd246dc-60ba-4b41-912e-fc648eb87c23",
            "dx_settings": {
              "ALLOW_NOTEABLE_ATTRS": true,
              "COLUMN_SAMPLING_METHOD": "outer",
              "DB_LOCATION": ":memory:",
              "DEV_MODE": false,
              "DISPLAY_MAX_COLUMNS": 100,
              "DISPLAY_MAX_ROWS": 50000,
              "DISPLAY_MODE": "simple",
              "ENABLE_ASSIGNMENT": true,
              "ENABLE_DATALINK": true,
              "FLATTEN_COLUMN_VALUES": true,
              "FLATTEN_INDEX_VALUES": false,
              "GENERATE_DEX_METADATA": false,
              "HTML_TABLE_SCHEMA": false,
              "LOG_LEVEL": 30,
              "MAX_RENDER_SIZE_BYTES": 104857600,
              "MAX_STRING_LENGTH": 250,
              "NUM_PAST_SAMPLES_TRACKED": 3,
              "RANDOM_STATE": 12648430,
              "RESET_INDEX_VALUES": false,
              "ROW_SAMPLING_METHOD": "random",
              "SAMPLING_FACTOR": 0.1,
              "SAMPLING_METHOD": "random",
              "STRINGIFY_COLUMN_VALUES": true,
              "STRINGIFY_INDEX_VALUES": false
            },
            "sample_history": [],
            "sampling_time": "2023-07-07T23:41:21.598787",
            "user_variable_name": "cov_matrix",
            "variable_name": "cov_matrix"
          }
        }
      },
      "id": "7b0df479-5dbe-49dd-ae1d-062b9283064d"
    },
    {
      "cell_type": "markdown",
      "source": [
        "We have calculated the covariance matrix of the features in the Iris dataset. The covariance matrix provides us with a measure of how much each of the dimensions varies from the mean with respect to each other. The covariance matrix is a p x p matrix where each element represents the covariance between two features.\n",
        "\n",
        "Next, we will calculate the eigenvalues and eigenvectors of this covariance matrix."
      ],
      "metadata": {
        "noteable": {
          "cell_type": "markdown"
        }
      },
      "id": "7dfa75d2-6c54-4244-83d6-5fcae5319b95"
    },
    {
      "cell_type": "code",
      "source": [
        "# Calculate the eigenvalues and eigenvectors of the covariance matrix\n",
        "eigenvalues, eigenvectors = np.linalg.eig(cov_matrix)\n",
        "\n",
        "# Print the eigenvalues\n",
        "print('Eigenvalues:\\n', eigenvalues)\n",
        "\n",
        "# Print the eigenvectors\n",
        "print('\\nEigenvectors:\\n', eigenvectors)"
      ],
      "outputs": [
        {
          "output_type": "stream",
          "name": "stdout",
          "text": [
            "Eigenvalues:\n",
            " [4.22824171 0.24267075 0.0782095  0.02383509]\n",
            "\n",
            "Eigenvectors:\n",
            " [[ 0.36138659 -0.65658877 -0.58202985  0.31548719]\n",
            " [-0.08452251 -0.73016143  0.59791083 -0.3197231 ]\n",
            " [ 0.85667061  0.17337266  0.07623608 -0.47983899]\n",
            " [ 0.3582892   0.07548102  0.54583143  0.75365743]]\n"
          ]
        }
      ],
      "execution_count": null,
      "metadata": {
        "noteable": {
          "cell_type": "code"
        },
        "ExecuteTime": {
          "end_time": "2023-07-07T23:41:49.493058+00:00",
          "start_time": "2023-07-07T23:41:49.335467+00:00"
        }
      },
      "id": "63ccccfa-8166-4c1e-b430-623a0fe88e07"
    },
    {
      "cell_type": "markdown",
      "source": [
        "We have calculated the eigenvalues and eigenvectors of the covariance matrix. The eigenvalues represent the magnitude of the dimensions, while the eigenvectors represent the directions of the new dimensions when we transform the original four dimensions.\n",
        "\n",
        "The eigenvalues are sorted in descending order, with the first eigenvalue being the largest. This eigenvalue corresponds to the direction along which the data varies the most.\n",
        "\n",
        "In the context of Principal Component Analysis (PCA), the eigenvectors are called 'principal components', and the magnitude of the eigenvalues indicates the amount of variance accounted for by each principal component.\n",
        "\n",
        "Next, we will transform the original data according to these eigenvalues and eigenvectors."
      ],
      "metadata": {
        "noteable": {
          "cell_type": "markdown"
        }
      },
      "id": "265b43d4-3210-47c8-884e-2f011a74d5e7"
    },
    {
      "cell_type": "code",
      "source": [
        "# Transform the original four dimensions into the new dimensions\n",
        "transformed_data = df_features.dot(eigenvectors)\n",
        "\n",
        "# Display the first few rows of the transformed data\n",
        "transformed_data.head()"
      ],
      "outputs": [
        {
          "output_type": "display_data",
          "data": {
            "application/vnd.dataresource+json": {
              "schema": {
                "fields": [
                  {
                    "name": "index",
                    "type": "integer"
                  },
                  {
                    "name": "0",
                    "type": "number"
                  },
                  {
                    "name": "1",
                    "type": "number"
                  },
                  {
                    "name": "2",
                    "type": "number"
                  },
                  {
                    "name": "3",
                    "type": "number"
                  }
                ],
                "primaryKey": [
                  "index"
                ],
                "pandas_version": "1.4.0"
              },
              "data": [
                {
                  "0": 2.8182395066394648,
                  "1": -5.646349823412796,
                  "2": -0.659767543757267,
                  "3": -0.03108927576085219,
                  "index": 0
                },
                {
                  "0": 2.788223445314676,
                  "1": -5.1499513517629145,
                  "2": -0.8423169885460973,
                  "3": 0.06567483749141727,
                  "index": 1
                },
                {
                  "0": 2.613374563549705,
                  "1": -5.182003150742137,
                  "2": -0.6139524598469633,
                  "3": -0.013383323123140615,
                  "index": 2
                },
                {
                  "0": 2.757022276967592,
                  "1": -5.008653597575779,
                  "2": -0.6002933425621724,
                  "3": -0.1089275294458521,
                  "index": 3
                },
                {
                  "0": 2.7736485960544712,
                  "1": -5.653707089762614,
                  "2": -0.5417734756166523,
                  "3": -0.0946103054178627,
                  "index": 4
                }
              ],
              "datalink": {
                "display_id": "c4130bc1-a8c5-4ba2-922c-538a31772b92"
              }
            }
          },
          "metadata": {
            "application/vnd.dataresource+json": {
              "datalink": {
                "dataframe_info": {
                  "default_index_used": true,
                  "orig_size_bytes": 200,
                  "orig_num_rows": 5,
                  "orig_num_cols": 4,
                  "truncated_string_columns": [],
                  "truncated_size_bytes": 200,
                  "truncated_num_rows": 5,
                  "truncated_num_cols": 4
                },
                "dx_settings": {
                  "NUM_PAST_SAMPLES_TRACKED": 3,
                  "ENABLE_DATALINK": true,
                  "DISPLAY_MODE": "simple",
                  "GENERATE_DEX_METADATA": false,
                  "STRINGIFY_INDEX_VALUES": false,
                  "ALLOW_NOTEABLE_ATTRS": true,
                  "DISPLAY_MAX_COLUMNS": 100,
                  "HTML_TABLE_SCHEMA": false,
                  "SAMPLING_FACTOR": 0.1,
                  "LOG_LEVEL": 30,
                  "ENABLE_ASSIGNMENT": true,
                  "FLATTEN_INDEX_VALUES": false,
                  "DEV_MODE": false,
                  "COLUMN_SAMPLING_METHOD": "outer",
                  "FLATTEN_COLUMN_VALUES": true,
                  "DISPLAY_MAX_ROWS": 50000,
                  "ROW_SAMPLING_METHOD": "random",
                  "RANDOM_STATE": 12648430,
                  "DB_LOCATION": ":memory:",
                  "STRINGIFY_COLUMN_VALUES": true,
                  "SAMPLING_METHOD": "random",
                  "MAX_STRING_LENGTH": 250,
                  "MAX_RENDER_SIZE_BYTES": 104857600,
                  "RESET_INDEX_VALUES": false
                },
                "display_id": "c4130bc1-a8c5-4ba2-922c-538a31772b92",
                "applied_filters": [],
                "sample_history": [],
                "sampling_time": "2023-07-07T23:42:23.204690",
                "variable_name": "unk_dataframe_91c39728c0eb44548f3e76667ae16a47",
                "user_variable_name": null
              },
              "display_id": "c4130bc1-a8c5-4ba2-922c-538a31772b92"
            }
          }
        }
      ],
      "execution_count": null,
      "metadata": {
        "noteable": {
          "cell_type": "code"
        },
        "ExecuteTime": {
          "end_time": "2023-07-07T23:42:23.361705+00:00",
          "start_time": "2023-07-07T23:42:23.163994+00:00"
        },
        "datalink": {
          "c4130bc1-a8c5-4ba2-922c-538a31772b92": {
            "applied_filters": [],
            "dataframe_info": {
              "default_index_used": true,
              "orig_num_cols": 4,
              "orig_num_rows": 5,
              "orig_size_bytes": 200,
              "truncated_num_cols": 4,
              "truncated_num_rows": 5,
              "truncated_size_bytes": 200,
              "truncated_string_columns": []
            },
            "display_id": "c4130bc1-a8c5-4ba2-922c-538a31772b92",
            "dx_settings": {
              "ALLOW_NOTEABLE_ATTRS": true,
              "COLUMN_SAMPLING_METHOD": "outer",
              "DB_LOCATION": ":memory:",
              "DEV_MODE": false,
              "DISPLAY_MAX_COLUMNS": 100,
              "DISPLAY_MAX_ROWS": 50000,
              "DISPLAY_MODE": "simple",
              "ENABLE_ASSIGNMENT": true,
              "ENABLE_DATALINK": true,
              "FLATTEN_COLUMN_VALUES": true,
              "FLATTEN_INDEX_VALUES": false,
              "GENERATE_DEX_METADATA": false,
              "HTML_TABLE_SCHEMA": false,
              "LOG_LEVEL": 30,
              "MAX_RENDER_SIZE_BYTES": 104857600,
              "MAX_STRING_LENGTH": 250,
              "NUM_PAST_SAMPLES_TRACKED": 3,
              "RANDOM_STATE": 12648430,
              "RESET_INDEX_VALUES": false,
              "ROW_SAMPLING_METHOD": "random",
              "SAMPLING_FACTOR": 0.1,
              "SAMPLING_METHOD": "random",
              "STRINGIFY_COLUMN_VALUES": true,
              "STRINGIFY_INDEX_VALUES": false
            },
            "sample_history": [],
            "sampling_time": "2023-07-07T23:42:23.204690",
            "user_variable_name": null,
            "variable_name": "unk_dataframe_91c39728c0eb44548f3e76667ae16a47"
          }
        }
      },
      "id": "bc541e9f-b7ce-43a4-82b7-54f0e7ebb131"
    },
    {
      "cell_type": "markdown",
      "source": [
        "We have transformed the original data into the new dimensions defined by the eigenvectors. The transformed data now represents the original data in terms of the directions along which the data varies the most.\n",
        "\n",
        "This transformation is the essence of Principal Component Analysis (PCA). By transforming the data in this way, we can reduce the dimensionality of the data while retaining as much of the variance in the data as possible.\n",
        "\n",
        "In this notebook, we have explored the concept of eigenvalues and eigenvectors and their application in dimensionality reduction techniques like PCA. We have also seen how to calculate the covariance matrix, eigenvalues, and eigenvectors in Python and how to use them to transform a dataset."
      ],
      "metadata": {
        "noteable": {
          "cell_type": "markdown"
        }
      },
      "id": "fa7f85ed-1b9b-46a5-920d-0622e1ccc8fa"
    }
  ],
  "metadata": {
    "noteable-chatgpt": {
      "create_notebook": {
        "openai_conversation_id": "21c8f698-4919-5a06-86ea-f05302c33b2d",
        "openai_ephemeral_user_id": "cee38adb-9301-598b-8ee8-61d323f36f78"
      }
    },
    "noteable": {
      "last_transaction_id": "7ffd1b7f-078a-491e-b6b7-560416effe0e",
      "last_delta_id": "7ffd1b7f-078a-491e-b6b7-560416effe0e"
    },
    "selected_hardware_size": "small",
    "nteract": {
      "version": "noteable@2.9.0"
    }
  },
  "nbformat": 4,
  "nbformat_minor": 5
}
