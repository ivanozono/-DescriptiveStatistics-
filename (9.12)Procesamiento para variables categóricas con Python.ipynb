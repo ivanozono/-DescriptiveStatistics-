{
  "cells": [
    {
      "cell_type": "markdown",
      "source": [
        "# Procesamiento para variables categóricas con Python\n",
        "\n",
        "En este notebook, exploraremos cómo procesar variables categóricas en Python, una habilidad esencial en la ciencia de datos y la inteligencia artificial. Las variables categóricas son aquellas que pueden ser divididas en varios grupos o categorías pero no tienen un orden o prioridad específica.\n",
        "\n",
        "El procesamiento de variables categóricas es un paso crucial en la preparación de datos para algoritmos de aprendizaje automático, ya que muchos de estos algoritmos solo pueden manejar entradas numéricas.\n",
        "\n",
        "## Contenido\n",
        "\n",
        "1. Pandas Dummies\n",
        "2. One-hot con Scikit\n",
        "3. Codificación de variables numéricas discretas"
      ],
      "metadata": {
        "noteable": {
          "cell_type": "markdown"
        }
      },
      "id": "5e041d2c-555b-4490-9519-1da57083dbf5"
    },
    {
      "cell_type": "markdown",
      "source": [
        "## 1. Pandas Dummies\n",
        "\n",
        "Pandas provides a function called `get_dummies` to convert categorical variable(s) into dummy/indicator variables. The function creates a new DataFrame with binary columns for each category/label present in the original data. Let's see how it works."
      ],
      "metadata": {
        "noteable": {
          "cell_type": "markdown"
        }
      },
      "id": "b65941e7-c9d1-4fc4-941c-7ce7e2b066b8"
    },
    {
      "cell_type": "code",
      "source": [
        "# Import necessary libraries\n",
        "import pandas as pd\n",
        "from sklearn.datasets import load_iris\n",
        "\n",
        "# Load the iris dataset\n",
        "iris = load_iris()\n",
        "df = pd.DataFrame(data=iris.data, columns=iris.feature_names)\n",
        "df['species'] = iris.target\n",
        "\n",
        "# Display the first few rows of the dataframe\n",
        "df.head()"
      ],
      "outputs": [
        {
          "output_type": "display_data",
          "data": {
            "application/vnd.dataresource+json": {
              "schema": {
                "fields": [
                  {
                    "name": "index",
                    "type": "integer"
                  },
                  {
                    "name": "sepal length (cm)",
                    "type": "number"
                  },
                  {
                    "name": "sepal width (cm)",
                    "type": "number"
                  },
                  {
                    "name": "petal length (cm)",
                    "type": "number"
                  },
                  {
                    "name": "petal width (cm)",
                    "type": "number"
                  },
                  {
                    "name": "species",
                    "type": "integer"
                  }
                ],
                "primaryKey": [
                  "index"
                ],
                "pandas_version": "1.4.0"
              },
              "data": [
                {
                  "index": 0,
                  "sepal length (cm)": 5.1,
                  "sepal width (cm)": 3.5,
                  "petal length (cm)": 1.4,
                  "petal width (cm)": 0.2,
                  "species": 0
                },
                {
                  "index": 1,
                  "sepal length (cm)": 4.9,
                  "sepal width (cm)": 3,
                  "petal length (cm)": 1.4,
                  "petal width (cm)": 0.2,
                  "species": 0
                },
                {
                  "index": 2,
                  "sepal length (cm)": 4.7,
                  "sepal width (cm)": 3.2,
                  "petal length (cm)": 1.3,
                  "petal width (cm)": 0.2,
                  "species": 0
                },
                {
                  "index": 3,
                  "sepal length (cm)": 4.6,
                  "sepal width (cm)": 3.1,
                  "petal length (cm)": 1.5,
                  "petal width (cm)": 0.2,
                  "species": 0
                },
                {
                  "index": 4,
                  "sepal length (cm)": 5,
                  "sepal width (cm)": 3.6,
                  "petal length (cm)": 1.4,
                  "petal width (cm)": 0.2,
                  "species": 0
                }
              ],
              "datalink": {
                "display_id": "5bffb619-5e47-4fc3-8fb1-7c244f4893d0"
              }
            }
          },
          "metadata": {
            "application/vnd.dataresource+json": {
              "datalink": {
                "dataframe_info": {
                  "default_index_used": true,
                  "orig_size_bytes": 240,
                  "orig_num_rows": 5,
                  "orig_num_cols": 5,
                  "truncated_string_columns": [],
                  "truncated_size_bytes": 240,
                  "truncated_num_rows": 5,
                  "truncated_num_cols": 5
                },
                "dx_settings": {
                  "NUM_PAST_SAMPLES_TRACKED": 3,
                  "ENABLE_DATALINK": true,
                  "DISPLAY_MODE": "simple",
                  "GENERATE_DEX_METADATA": false,
                  "STRINGIFY_INDEX_VALUES": false,
                  "ALLOW_NOTEABLE_ATTRS": true,
                  "DISPLAY_MAX_COLUMNS": 100,
                  "HTML_TABLE_SCHEMA": false,
                  "SAMPLING_FACTOR": 0.1,
                  "LOG_LEVEL": 30,
                  "ENABLE_ASSIGNMENT": true,
                  "FLATTEN_INDEX_VALUES": false,
                  "DEV_MODE": false,
                  "COLUMN_SAMPLING_METHOD": "outer",
                  "FLATTEN_COLUMN_VALUES": true,
                  "DISPLAY_MAX_ROWS": 50000,
                  "ROW_SAMPLING_METHOD": "random",
                  "RANDOM_STATE": 12648430,
                  "DB_LOCATION": ":memory:",
                  "STRINGIFY_COLUMN_VALUES": true,
                  "SAMPLING_METHOD": "random",
                  "MAX_STRING_LENGTH": 250,
                  "MAX_RENDER_SIZE_BYTES": 104857600,
                  "RESET_INDEX_VALUES": false
                },
                "display_id": "5bffb619-5e47-4fc3-8fb1-7c244f4893d0",
                "applied_filters": [],
                "sample_history": [],
                "sampling_time": "2023-07-07T21:45:35.132184",
                "variable_name": "unk_dataframe_17e779c57cbb43499e1ffcf979075a57",
                "user_variable_name": null
              },
              "display_id": "5bffb619-5e47-4fc3-8fb1-7c244f4893d0"
            }
          }
        }
      ],
      "execution_count": null,
      "metadata": {
        "noteable": {
          "cell_type": "code"
        },
        "ExecuteTime": {
          "end_time": "2023-07-07T21:45:35.289699+00:00",
          "start_time": "2023-07-07T21:45:34.754821+00:00"
        },
        "datalink": {
          "5bffb619-5e47-4fc3-8fb1-7c244f4893d0": {
            "applied_filters": [],
            "dataframe_info": {
              "default_index_used": true,
              "orig_num_cols": 5,
              "orig_num_rows": 5,
              "orig_size_bytes": 240,
              "truncated_num_cols": 5,
              "truncated_num_rows": 5,
              "truncated_size_bytes": 240,
              "truncated_string_columns": []
            },
            "display_id": "5bffb619-5e47-4fc3-8fb1-7c244f4893d0",
            "dx_settings": {
              "ALLOW_NOTEABLE_ATTRS": true,
              "COLUMN_SAMPLING_METHOD": "outer",
              "DB_LOCATION": ":memory:",
              "DEV_MODE": false,
              "DISPLAY_MAX_COLUMNS": 100,
              "DISPLAY_MAX_ROWS": 50000,
              "DISPLAY_MODE": "simple",
              "ENABLE_ASSIGNMENT": true,
              "ENABLE_DATALINK": true,
              "FLATTEN_COLUMN_VALUES": true,
              "FLATTEN_INDEX_VALUES": false,
              "GENERATE_DEX_METADATA": false,
              "HTML_TABLE_SCHEMA": false,
              "LOG_LEVEL": 30,
              "MAX_RENDER_SIZE_BYTES": 104857600,
              "MAX_STRING_LENGTH": 250,
              "NUM_PAST_SAMPLES_TRACKED": 3,
              "RANDOM_STATE": 12648430,
              "RESET_INDEX_VALUES": false,
              "ROW_SAMPLING_METHOD": "random",
              "SAMPLING_FACTOR": 0.1,
              "SAMPLING_METHOD": "random",
              "STRINGIFY_COLUMN_VALUES": true,
              "STRINGIFY_INDEX_VALUES": false
            },
            "sample_history": [],
            "sampling_time": "2023-07-07T21:45:35.132184",
            "user_variable_name": null,
            "variable_name": "unk_dataframe_17e779c57cbb43499e1ffcf979075a57"
          }
        }
      },
      "id": "edcb0069-2e5a-43fa-a220-c92fcacfcd9a"
    },
    {
      "cell_type": "markdown",
      "source": [
        "The dataset we are using is the famous Iris dataset. It includes three iris species with 50 samples each as well as some properties about each flower. One flower species is linearly separable from the other two, but the other two are not linearly separable from each other.\n",
        "\n",
        "The columns in this DataFrame are:\n",
        "\n",
        "- sepal length (cm)\n",
        "- sepal width (cm)\n",
        "- petal length (cm)\n",
        "- petal width (cm)\n",
        "- species\n",
        "\n",
        "The 'species' column is our categorical variable which we will transform using pandas `get_dummies` function."
      ],
      "metadata": {
        "noteable": {
          "cell_type": "markdown"
        }
      },
      "id": "e350ba98-3cd1-4911-98a9-87fdd4cd74fc"
    },
    {
      "cell_type": "code",
      "source": [
        "# Use pandas get_dummies function to convert 'species' column into dummy/indicator variables\n",
        "df_dummies = pd.get_dummies(df, columns=['species'])\n",
        "\n",
        "# Display the first few rows of the new dataframe\n",
        "df_dummies.head()"
      ],
      "outputs": [
        {
          "output_type": "display_data",
          "data": {
            "application/vnd.dataresource+json": {
              "schema": {
                "fields": [
                  {
                    "name": "index",
                    "type": "integer"
                  },
                  {
                    "name": "sepal length (cm)",
                    "type": "number"
                  },
                  {
                    "name": "sepal width (cm)",
                    "type": "number"
                  },
                  {
                    "name": "petal length (cm)",
                    "type": "number"
                  },
                  {
                    "name": "petal width (cm)",
                    "type": "number"
                  },
                  {
                    "name": "species_0",
                    "type": "integer"
                  },
                  {
                    "name": "species_1",
                    "type": "integer"
                  },
                  {
                    "name": "species_2",
                    "type": "integer"
                  }
                ],
                "primaryKey": [
                  "index"
                ],
                "pandas_version": "1.4.0"
              },
              "data": [
                {
                  "index": 0,
                  "sepal length (cm)": 5.1,
                  "sepal width (cm)": 3.5,
                  "petal length (cm)": 1.4,
                  "petal width (cm)": 0.2,
                  "species_0": 1,
                  "species_1": 0,
                  "species_2": 0
                },
                {
                  "index": 1,
                  "sepal length (cm)": 4.9,
                  "sepal width (cm)": 3,
                  "petal length (cm)": 1.4,
                  "petal width (cm)": 0.2,
                  "species_0": 1,
                  "species_1": 0,
                  "species_2": 0
                },
                {
                  "index": 2,
                  "sepal length (cm)": 4.7,
                  "sepal width (cm)": 3.2,
                  "petal length (cm)": 1.3,
                  "petal width (cm)": 0.2,
                  "species_0": 1,
                  "species_1": 0,
                  "species_2": 0
                },
                {
                  "index": 3,
                  "sepal length (cm)": 4.6,
                  "sepal width (cm)": 3.1,
                  "petal length (cm)": 1.5,
                  "petal width (cm)": 0.2,
                  "species_0": 1,
                  "species_1": 0,
                  "species_2": 0
                },
                {
                  "index": 4,
                  "sepal length (cm)": 5,
                  "sepal width (cm)": 3.6,
                  "petal length (cm)": 1.4,
                  "petal width (cm)": 0.2,
                  "species_0": 1,
                  "species_1": 0,
                  "species_2": 0
                }
              ],
              "datalink": {
                "display_id": "52495bb3-4143-4439-b6e5-c0127617f519"
              }
            }
          },
          "metadata": {
            "application/vnd.dataresource+json": {
              "datalink": {
                "dataframe_info": {
                  "default_index_used": true,
                  "orig_size_bytes": 215,
                  "orig_num_rows": 5,
                  "orig_num_cols": 7,
                  "truncated_string_columns": [],
                  "truncated_size_bytes": 215,
                  "truncated_num_rows": 5,
                  "truncated_num_cols": 7
                },
                "dx_settings": {
                  "NUM_PAST_SAMPLES_TRACKED": 3,
                  "ENABLE_DATALINK": true,
                  "DISPLAY_MODE": "simple",
                  "GENERATE_DEX_METADATA": false,
                  "STRINGIFY_INDEX_VALUES": false,
                  "ALLOW_NOTEABLE_ATTRS": true,
                  "DISPLAY_MAX_COLUMNS": 100,
                  "HTML_TABLE_SCHEMA": false,
                  "SAMPLING_FACTOR": 0.1,
                  "LOG_LEVEL": 30,
                  "ENABLE_ASSIGNMENT": true,
                  "FLATTEN_INDEX_VALUES": false,
                  "DEV_MODE": false,
                  "COLUMN_SAMPLING_METHOD": "outer",
                  "FLATTEN_COLUMN_VALUES": true,
                  "DISPLAY_MAX_ROWS": 50000,
                  "ROW_SAMPLING_METHOD": "random",
                  "RANDOM_STATE": 12648430,
                  "DB_LOCATION": ":memory:",
                  "STRINGIFY_COLUMN_VALUES": true,
                  "SAMPLING_METHOD": "random",
                  "MAX_STRING_LENGTH": 250,
                  "MAX_RENDER_SIZE_BYTES": 104857600,
                  "RESET_INDEX_VALUES": false
                },
                "display_id": "52495bb3-4143-4439-b6e5-c0127617f519",
                "applied_filters": [],
                "sample_history": [],
                "sampling_time": "2023-07-07T21:46:11.299303",
                "variable_name": "unk_dataframe_999ba24156874fe585818a760ab98a69",
                "user_variable_name": null
              },
              "display_id": "52495bb3-4143-4439-b6e5-c0127617f519"
            }
          }
        }
      ],
      "execution_count": null,
      "metadata": {
        "noteable": {
          "cell_type": "code"
        },
        "ExecuteTime": {
          "end_time": "2023-07-07T21:46:11.456007+00:00",
          "start_time": "2023-07-07T21:46:11.256784+00:00"
        },
        "datalink": {
          "52495bb3-4143-4439-b6e5-c0127617f519": {
            "applied_filters": [],
            "dataframe_info": {
              "default_index_used": true,
              "orig_num_cols": 7,
              "orig_num_rows": 5,
              "orig_size_bytes": 215,
              "truncated_num_cols": 7,
              "truncated_num_rows": 5,
              "truncated_size_bytes": 215,
              "truncated_string_columns": []
            },
            "display_id": "52495bb3-4143-4439-b6e5-c0127617f519",
            "dx_settings": {
              "ALLOW_NOTEABLE_ATTRS": true,
              "COLUMN_SAMPLING_METHOD": "outer",
              "DB_LOCATION": ":memory:",
              "DEV_MODE": false,
              "DISPLAY_MAX_COLUMNS": 100,
              "DISPLAY_MAX_ROWS": 50000,
              "DISPLAY_MODE": "simple",
              "ENABLE_ASSIGNMENT": true,
              "ENABLE_DATALINK": true,
              "FLATTEN_COLUMN_VALUES": true,
              "FLATTEN_INDEX_VALUES": false,
              "GENERATE_DEX_METADATA": false,
              "HTML_TABLE_SCHEMA": false,
              "LOG_LEVEL": 30,
              "MAX_RENDER_SIZE_BYTES": 104857600,
              "MAX_STRING_LENGTH": 250,
              "NUM_PAST_SAMPLES_TRACKED": 3,
              "RANDOM_STATE": 12648430,
              "RESET_INDEX_VALUES": false,
              "ROW_SAMPLING_METHOD": "random",
              "SAMPLING_FACTOR": 0.1,
              "SAMPLING_METHOD": "random",
              "STRINGIFY_COLUMN_VALUES": true,
              "STRINGIFY_INDEX_VALUES": false
            },
            "sample_history": [],
            "sampling_time": "2023-07-07T21:46:11.299303",
            "user_variable_name": null,
            "variable_name": "unk_dataframe_999ba24156874fe585818a760ab98a69"
          }
        }
      },
      "id": "22130765-d8b0-45e0-8511-763409900c7f"
    },
    {
      "cell_type": "markdown",
      "source": [
        "As you can see, the `get_dummies` function has created three new columns: 'species_0', 'species_1', and 'species_2'. Each of these columns is a binary column that indicates whether the species of a particular row is that species.\n",
        "\n",
        "This is known as one-hot encoding, and it's a common way to handle categorical data in machine learning. Each category gets its own column in the data set, and this column is a binary column that indicates the presence or absence of the category.\n",
        "\n",
        "Now, let's move on to the next method of handling categorical data: one-hot encoding with Scikit-learn."
      ],
      "metadata": {
        "noteable": {
          "cell_type": "markdown"
        }
      },
      "id": "3dc1bfb9-f24e-4f09-81a4-a83e0dd78b11"
    },
    {
      "cell_type": "markdown",
      "source": [
        "## 2. One-hot encoding with Scikit-learn\n",
        "\n",
        "Scikit-learn is a powerful Python library for machine learning. It contains a function called `OneHotEncoder` for one-hot encoding. Unlike pandas `get_dummies`, `OneHotEncoder` does not convert the categorical variable into a string and then perform the conversion. Instead, it keeps the categories as integers, which makes it more suitable for machine learning algorithms."
      ],
      "metadata": {
        "noteable": {
          "cell_type": "markdown"
        }
      },
      "id": "2a0caad2-dc34-4b60-8fd0-a29e8d5ba157"
    },
    {
      "cell_type": "code",
      "source": [
        "# Import necessary libraries\n",
        "from sklearn.preprocessing import OneHotEncoder\n",
        "\n",
        "# Create the encoder\n",
        "encoder = OneHotEncoder(sparse=False)\n",
        "\n",
        "# Fit and transform the 'species' column\n",
        "species_onehot = encoder.fit_transform(df[['species']])\n",
        "\n",
        "# Create a dataframe from the encoded species data\n",
        "df_onehot = pd.DataFrame(species_onehot, columns=encoder.get_feature_names(['species']))\n",
        "\n",
        "# Display the first few rows of the new dataframe\n",
        "df_onehot.head()"
      ],
      "outputs": [
        {
          "output_type": "display_data",
          "data": {
            "application/vnd.dataresource+json": {
              "schema": {
                "fields": [
                  {
                    "name": "index",
                    "type": "integer"
                  },
                  {
                    "name": "species_0",
                    "type": "number"
                  },
                  {
                    "name": "species_1",
                    "type": "number"
                  },
                  {
                    "name": "species_2",
                    "type": "number"
                  }
                ],
                "primaryKey": [
                  "index"
                ],
                "pandas_version": "1.4.0"
              },
              "data": [
                {
                  "index": 0,
                  "species_0": 1,
                  "species_1": 0,
                  "species_2": 0
                },
                {
                  "index": 1,
                  "species_0": 1,
                  "species_1": 0,
                  "species_2": 0
                },
                {
                  "index": 2,
                  "species_0": 1,
                  "species_1": 0,
                  "species_2": 0
                },
                {
                  "index": 3,
                  "species_0": 1,
                  "species_1": 0,
                  "species_2": 0
                },
                {
                  "index": 4,
                  "species_0": 1,
                  "species_1": 0,
                  "species_2": 0
                }
              ],
              "datalink": {
                "display_id": "062fea1d-c6d4-4046-ae8c-3896bca2d9b8"
              }
            }
          },
          "metadata": {
            "application/vnd.dataresource+json": {
              "datalink": {
                "dataframe_info": {
                  "default_index_used": true,
                  "orig_size_bytes": 160,
                  "orig_num_rows": 5,
                  "orig_num_cols": 3,
                  "truncated_string_columns": [],
                  "truncated_size_bytes": 160,
                  "truncated_num_rows": 5,
                  "truncated_num_cols": 3
                },
                "dx_settings": {
                  "NUM_PAST_SAMPLES_TRACKED": 3,
                  "ENABLE_DATALINK": true,
                  "DISPLAY_MODE": "simple",
                  "GENERATE_DEX_METADATA": false,
                  "STRINGIFY_INDEX_VALUES": false,
                  "ALLOW_NOTEABLE_ATTRS": true,
                  "DISPLAY_MAX_COLUMNS": 100,
                  "HTML_TABLE_SCHEMA": false,
                  "SAMPLING_FACTOR": 0.1,
                  "LOG_LEVEL": 30,
                  "ENABLE_ASSIGNMENT": true,
                  "FLATTEN_INDEX_VALUES": false,
                  "DEV_MODE": false,
                  "COLUMN_SAMPLING_METHOD": "outer",
                  "FLATTEN_COLUMN_VALUES": true,
                  "DISPLAY_MAX_ROWS": 50000,
                  "ROW_SAMPLING_METHOD": "random",
                  "RANDOM_STATE": 12648430,
                  "DB_LOCATION": ":memory:",
                  "STRINGIFY_COLUMN_VALUES": true,
                  "SAMPLING_METHOD": "random",
                  "MAX_STRING_LENGTH": 250,
                  "MAX_RENDER_SIZE_BYTES": 104857600,
                  "RESET_INDEX_VALUES": false
                },
                "display_id": "062fea1d-c6d4-4046-ae8c-3896bca2d9b8",
                "applied_filters": [],
                "sample_history": [],
                "sampling_time": "2023-07-07T21:47:19.261041",
                "variable_name": "unk_dataframe_7fb1c8ea1a5d43f5978866f0452bf8af",
                "user_variable_name": null
              },
              "display_id": "062fea1d-c6d4-4046-ae8c-3896bca2d9b8"
            }
          }
        }
      ],
      "execution_count": null,
      "metadata": {
        "noteable": {
          "cell_type": "code"
        },
        "ExecuteTime": {
          "end_time": "2023-07-07T21:47:19.419140+00:00",
          "start_time": "2023-07-07T21:47:19.213176+00:00"
        },
        "datalink": {
          "062fea1d-c6d4-4046-ae8c-3896bca2d9b8": {
            "applied_filters": [],
            "dataframe_info": {
              "default_index_used": true,
              "orig_num_cols": 3,
              "orig_num_rows": 5,
              "orig_size_bytes": 160,
              "truncated_num_cols": 3,
              "truncated_num_rows": 5,
              "truncated_size_bytes": 160,
              "truncated_string_columns": []
            },
            "display_id": "062fea1d-c6d4-4046-ae8c-3896bca2d9b8",
            "dx_settings": {
              "ALLOW_NOTEABLE_ATTRS": true,
              "COLUMN_SAMPLING_METHOD": "outer",
              "DB_LOCATION": ":memory:",
              "DEV_MODE": false,
              "DISPLAY_MAX_COLUMNS": 100,
              "DISPLAY_MAX_ROWS": 50000,
              "DISPLAY_MODE": "simple",
              "ENABLE_ASSIGNMENT": true,
              "ENABLE_DATALINK": true,
              "FLATTEN_COLUMN_VALUES": true,
              "FLATTEN_INDEX_VALUES": false,
              "GENERATE_DEX_METADATA": false,
              "HTML_TABLE_SCHEMA": false,
              "LOG_LEVEL": 30,
              "MAX_RENDER_SIZE_BYTES": 104857600,
              "MAX_STRING_LENGTH": 250,
              "NUM_PAST_SAMPLES_TRACKED": 3,
              "RANDOM_STATE": 12648430,
              "RESET_INDEX_VALUES": false,
              "ROW_SAMPLING_METHOD": "random",
              "SAMPLING_FACTOR": 0.1,
              "SAMPLING_METHOD": "random",
              "STRINGIFY_COLUMN_VALUES": true,
              "STRINGIFY_INDEX_VALUES": false
            },
            "sample_history": [],
            "sampling_time": "2023-07-07T21:47:19.261041",
            "user_variable_name": null,
            "variable_name": "unk_dataframe_7fb1c8ea1a5d43f5978866f0452bf8af"
          }
        }
      },
      "id": "a7c85452-1f4d-42c1-8464-66e8c8f6ff01"
    },
    {
      "cell_type": "markdown",
      "source": [
        "As you can see, the `OneHotEncoder` function from Scikit-learn has created three new columns: 'species_0', 'species_1', and 'species_2'. Each of these columns is a binary column that indicates whether the species of a particular row is that species.\n",
        "\n",
        "This is similar to what we saw with pandas `get_dummies`, but the difference is that `OneHotEncoder` keeps the categories as integers, which makes it more suitable for machine learning algorithms.\n",
        "\n",
        "Now, let's move on to the next method of handling categorical data: encoding numerical categorical variables."
      ],
      "metadata": {
        "noteable": {
          "cell_type": "markdown"
        }
      },
      "id": "8e5c4164-62d6-4b34-bb04-80492f885a9e"
    },
    {
      "cell_type": "markdown",
      "source": [
        "## 3. Encoding numerical categorical variables\n",
        "\n",
        "Sometimes, categorical variables are disguised as numerical variables. For example, consider a feature like 'education level' that is rated from 1 to 5. Although this feature is numerical, it is in fact categorical, as the numbers simply represent different categories and cannot be mathematically manipulated.\n",
        "\n",
        "In such cases, we can use the `LabelEncoder` function from Scikit-learn to convert each value in a column to a number. Let's see how it works."
      ],
      "metadata": {
        "noteable": {
          "cell_type": "markdown"
        }
      },
      "id": "9d9615cb-a5a5-411f-a9ef-a95e81fe8b39"
    },
    {
      "cell_type": "code",
      "source": [
        "# Import necessary libraries\n",
        "from sklearn.preprocessing import LabelEncoder\n",
        "\n",
        "# Create the encoder\n",
        "encoder = LabelEncoder()\n",
        "\n",
        "# Fit and transform the 'species' column\n",
        "species_encoded = encoder.fit_transform(df['species'])\n",
        "\n",
        "# Create a new dataframe with the encoded species data\n",
        "df_encoded = df.copy()\n",
        "df_encoded['species'] = species_encoded\n",
        "\n",
        "# Display the first few rows of the new dataframe\n",
        "df_encoded.head()"
      ],
      "outputs": [
        {
          "output_type": "display_data",
          "data": {
            "application/vnd.dataresource+json": {
              "schema": {
                "fields": [
                  {
                    "name": "index",
                    "type": "integer"
                  },
                  {
                    "name": "sepal length (cm)",
                    "type": "number"
                  },
                  {
                    "name": "sepal width (cm)",
                    "type": "number"
                  },
                  {
                    "name": "petal length (cm)",
                    "type": "number"
                  },
                  {
                    "name": "petal width (cm)",
                    "type": "number"
                  },
                  {
                    "name": "species",
                    "type": "integer"
                  }
                ],
                "primaryKey": [
                  "index"
                ],
                "pandas_version": "1.4.0"
              },
              "data": [
                {
                  "index": 0,
                  "sepal length (cm)": 5.1,
                  "sepal width (cm)": 3.5,
                  "petal length (cm)": 1.4,
                  "petal width (cm)": 0.2,
                  "species": 0
                },
                {
                  "index": 1,
                  "sepal length (cm)": 4.9,
                  "sepal width (cm)": 3,
                  "petal length (cm)": 1.4,
                  "petal width (cm)": 0.2,
                  "species": 0
                },
                {
                  "index": 2,
                  "sepal length (cm)": 4.7,
                  "sepal width (cm)": 3.2,
                  "petal length (cm)": 1.3,
                  "petal width (cm)": 0.2,
                  "species": 0
                },
                {
                  "index": 3,
                  "sepal length (cm)": 4.6,
                  "sepal width (cm)": 3.1,
                  "petal length (cm)": 1.5,
                  "petal width (cm)": 0.2,
                  "species": 0
                },
                {
                  "index": 4,
                  "sepal length (cm)": 5,
                  "sepal width (cm)": 3.6,
                  "petal length (cm)": 1.4,
                  "petal width (cm)": 0.2,
                  "species": 0
                }
              ],
              "datalink": {
                "display_id": "b97a74f4-b2c7-42cc-aaa2-0b80939c1fee"
              }
            }
          },
          "metadata": {
            "application/vnd.dataresource+json": {
              "datalink": {
                "dataframe_info": {
                  "default_index_used": true,
                  "orig_size_bytes": 240,
                  "orig_num_rows": 5,
                  "orig_num_cols": 5,
                  "truncated_string_columns": [],
                  "truncated_size_bytes": 240,
                  "truncated_num_rows": 5,
                  "truncated_num_cols": 5
                },
                "dx_settings": {
                  "NUM_PAST_SAMPLES_TRACKED": 3,
                  "ENABLE_DATALINK": true,
                  "DISPLAY_MODE": "simple",
                  "GENERATE_DEX_METADATA": false,
                  "STRINGIFY_INDEX_VALUES": false,
                  "ALLOW_NOTEABLE_ATTRS": true,
                  "DISPLAY_MAX_COLUMNS": 100,
                  "HTML_TABLE_SCHEMA": false,
                  "SAMPLING_FACTOR": 0.1,
                  "LOG_LEVEL": 30,
                  "ENABLE_ASSIGNMENT": true,
                  "FLATTEN_INDEX_VALUES": false,
                  "DEV_MODE": false,
                  "COLUMN_SAMPLING_METHOD": "outer",
                  "FLATTEN_COLUMN_VALUES": true,
                  "DISPLAY_MAX_ROWS": 50000,
                  "ROW_SAMPLING_METHOD": "random",
                  "RANDOM_STATE": 12648430,
                  "DB_LOCATION": ":memory:",
                  "STRINGIFY_COLUMN_VALUES": true,
                  "SAMPLING_METHOD": "random",
                  "MAX_STRING_LENGTH": 250,
                  "MAX_RENDER_SIZE_BYTES": 104857600,
                  "RESET_INDEX_VALUES": false
                },
                "display_id": "b97a74f4-b2c7-42cc-aaa2-0b80939c1fee",
                "applied_filters": [],
                "sample_history": [],
                "sampling_time": "2023-07-07T21:48:21.209389",
                "variable_name": "unk_dataframe_6b7d37cc80a94789a3e6a21c2cc54dcc",
                "user_variable_name": null
              },
              "display_id": "b97a74f4-b2c7-42cc-aaa2-0b80939c1fee"
            }
          }
        }
      ],
      "execution_count": null,
      "metadata": {
        "noteable": {
          "cell_type": "code"
        },
        "ExecuteTime": {
          "end_time": "2023-07-07T21:48:21.367507+00:00",
          "start_time": "2023-07-07T21:48:21.165258+00:00"
        },
        "datalink": {
          "b97a74f4-b2c7-42cc-aaa2-0b80939c1fee": {
            "applied_filters": [],
            "dataframe_info": {
              "default_index_used": true,
              "orig_num_cols": 5,
              "orig_num_rows": 5,
              "orig_size_bytes": 240,
              "truncated_num_cols": 5,
              "truncated_num_rows": 5,
              "truncated_size_bytes": 240,
              "truncated_string_columns": []
            },
            "display_id": "b97a74f4-b2c7-42cc-aaa2-0b80939c1fee",
            "dx_settings": {
              "ALLOW_NOTEABLE_ATTRS": true,
              "COLUMN_SAMPLING_METHOD": "outer",
              "DB_LOCATION": ":memory:",
              "DEV_MODE": false,
              "DISPLAY_MAX_COLUMNS": 100,
              "DISPLAY_MAX_ROWS": 50000,
              "DISPLAY_MODE": "simple",
              "ENABLE_ASSIGNMENT": true,
              "ENABLE_DATALINK": true,
              "FLATTEN_COLUMN_VALUES": true,
              "FLATTEN_INDEX_VALUES": false,
              "GENERATE_DEX_METADATA": false,
              "HTML_TABLE_SCHEMA": false,
              "LOG_LEVEL": 30,
              "MAX_RENDER_SIZE_BYTES": 104857600,
              "MAX_STRING_LENGTH": 250,
              "NUM_PAST_SAMPLES_TRACKED": 3,
              "RANDOM_STATE": 12648430,
              "RESET_INDEX_VALUES": false,
              "ROW_SAMPLING_METHOD": "random",
              "SAMPLING_FACTOR": 0.1,
              "SAMPLING_METHOD": "random",
              "STRINGIFY_COLUMN_VALUES": true,
              "STRINGIFY_INDEX_VALUES": false
            },
            "sample_history": [],
            "sampling_time": "2023-07-07T21:48:21.209389",
            "user_variable_name": null,
            "variable_name": "unk_dataframe_6b7d37cc80a94789a3e6a21c2cc54dcc"
          }
        }
      },
      "id": "5b8ffbce-7fca-4a09-866d-40792d79ee52"
    },
    {
      "cell_type": "markdown",
      "source": [
        "As you can see, the `LabelEncoder` function from Scikit-learn has transformed the 'species' column into numerical values. Each unique species has been assigned a unique integer.\n",
        "\n",
        "This is a simple and effective way to encode categorical variables that have a natural order to them (also known as ordinal variables). However, it should be used with caution when encoding nominal variables (variables that don't have a natural order), as the machine learning algorithm may interpret the numerical values as having an ordinal relationship.\n",
        "\n",
        "In this notebook, we've covered three common methods for handling categorical data in Python: pandas `get_dummies`, one-hot encoding with Scikit-learn, and encoding numerical categorical variables. Each of these methods has its own strengths and weaknesses, and the best one to use will depend on the specific nature of your dataset and the machine learning algorithm you're using."
      ],
      "metadata": {
        "noteable": {
          "cell_type": "markdown"
        }
      },
      "id": "3620591a-d0d3-44e5-bbfe-481c795ed421"
    }
  ],
  "metadata": {
    "noteable-chatgpt": {
      "create_notebook": {
        "openai_conversation_id": "f0e13bb1-97d4-53ef-a51a-6fbc3e1ef9f1",
        "openai_ephemeral_user_id": "cee38adb-9301-598b-8ee8-61d323f36f78"
      }
    },
    "noteable": {
      "last_transaction_id": "7b0c2afb-71c3-4472-8611-80d12e512045",
      "last_delta_id": "7b0c2afb-71c3-4472-8611-80d12e512045"
    },
    "selected_hardware_size": "small",
    "nteract": {
      "version": "noteable@2.9.0"
    }
  },
  "nbformat": 4,
  "nbformat_minor": 5
}
