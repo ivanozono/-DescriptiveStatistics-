{
  "cells": [
    {
      "cell_type": "markdown",
      "source": [
        "# Medidas de Dispersión en Python\n",
        "\n",
        "In this notebook, we will explore the concept of dispersion measures in Python. Dispersion measures are a crucial part of descriptive statistics and are used to understand how much data varies in a dataset. We will be using Python libraries such as Pandas and NumPy to calculate these measures.\n",
        "\n",
        "The key dispersion measures we will cover include:\n",
        "\n",
        "- Standard Deviation\n",
        "- Range\n",
        "- Quartiles\n",
        "\n",
        "We will also visualize these measures using boxplots.\n",
        "\n",
        "Let's get started!"
      ],
      "metadata": {
        "noteable": {
          "cell_type": "markdown"
        }
      },
      "id": "33a6c9ff-5f74-423a-bf4e-5ae34cd3f15e"
    },
    {
      "cell_type": "code",
      "source": [
        "# Importing necessary libraries\n",
        "import pandas as pd\n",
        "import numpy as np\n",
        "import seaborn as sns\n",
        "import matplotlib.pyplot as plt"
      ],
      "outputs": [],
      "execution_count": null,
      "metadata": {
        "noteable": {
          "cell_type": "code"
        },
        "ExecuteTime": {
          "end_time": "2023-07-04T21:23:33.933701+00:00",
          "start_time": "2023-07-04T21:23:33.102758+00:00"
        }
      },
      "id": "3b395fb2-15a0-4eb6-9c0a-8c1e801c8f0f"
    },
    {
      "cell_type": "markdown",
      "source": [
        "## Standard Deviation\n",
        "\n",
        "The standard deviation is a common measure of dispersion that indicates how much the values in the dataset deviate from their mean. In Python, you can calculate the standard deviation of a column in a pandas DataFrame using the `.std()` method.\n",
        "\n",
        "Let's create a sample dataset and calculate the standard deviation."
      ],
      "metadata": {
        "noteable": {
          "cell_type": "markdown"
        }
      },
      "id": "230c503e-fb0d-47a5-bf38-21508a9a5995"
    },
    {
      "cell_type": "code",
      "source": [
        "# Creating a sample dataset\n",
        "np.random.seed(0)\n",
        "data = pd.DataFrame({'value': np.random.randint(0, 100, 20)})\n",
        "\n",
        "# Displaying the dataset\n",
        "print(data)\n",
        "\n",
        "# Calculating the standard deviation\n",
        "std_dev = data['value'].std()\n",
        "print(f'\\nThe standard deviation is {std_dev}')"
      ],
      "outputs": [
        {
          "output_type": "stream",
          "name": "stdout",
          "text": [
            "    value\n",
            "0      44\n",
            "1      47\n",
            "2      64\n",
            "3      67\n",
            "4      67\n",
            "5       9\n",
            "6      83\n",
            "7      21\n",
            "8      36\n",
            "9      87\n",
            "10     70\n",
            "11     88\n",
            "12     88\n",
            "13     12\n",
            "14     58\n",
            "15     65\n",
            "16     39\n",
            "17     87\n",
            "18     46\n",
            "19     88\n",
            "\n",
            "The standard deviation is 25.739791026837477\n"
          ]
        }
      ],
      "execution_count": null,
      "metadata": {
        "noteable": {
          "cell_type": "code"
        },
        "ExecuteTime": {
          "end_time": "2023-07-04T21:24:00.737659+00:00",
          "start_time": "2023-07-04T21:24:00.575241+00:00"
        }
      },
      "id": "950bb400-8cd9-4f36-aab7-61760761a020"
    },
    {
      "cell_type": "markdown",
      "source": [
        "## Range\n",
        "\n",
        "The range is the difference between the maximum and minimum value in a dataset. It gives us an idea of how spread out the values are. Let's calculate the range for our dataset."
      ],
      "metadata": {
        "noteable": {
          "cell_type": "markdown"
        }
      },
      "id": "bb9e6814-0855-4d71-a9f3-892286ca4e79"
    },
    {
      "cell_type": "code",
      "source": [
        "# Calculating the range\n",
        "range_val = data['value'].max() - data['value'].min()\n",
        "print(f'The range is {range_val}')"
      ],
      "outputs": [
        {
          "output_type": "stream",
          "name": "stdout",
          "text": [
            "The range is 79\n"
          ]
        }
      ],
      "execution_count": null,
      "metadata": {
        "noteable": {
          "cell_type": "code"
        },
        "ExecuteTime": {
          "end_time": "2023-07-04T21:24:20.414947+00:00",
          "start_time": "2023-07-04T21:24:20.256780+00:00"
        }
      },
      "id": "17b24907-789a-4828-aa12-c2a9bfdda870"
    },
    {
      "cell_type": "markdown",
      "source": [
        "## Quartiles\n",
        "\n",
        "Quartiles divide a dataset into four equal parts. The first quartile (Q1) is the middle number between the smallest number and the median of the dataset. The second quartile (Q2) is the median of the data. The third quartile (Q3) is the middle value between the median and the highest value of the data set.\n",
        "\n",
        "In Python, you can get the quartiles using the `.quantile()` method. Let's calculate the quartiles for our dataset."
      ],
      "metadata": {
        "noteable": {
          "cell_type": "markdown"
        }
      },
      "id": "08d9e18b-2e33-49b1-8453-e52e73e6630b"
    },
    {
      "cell_type": "code",
      "source": [
        "# Calculating the quartiles\n",
        "Q1 = data['value'].quantile(0.25)\n",
        "Q2 = data['value'].quantile(0.50)\n",
        "Q3 = data['value'].quantile(0.75)\n",
        "print(f'Q1: {Q1}, Q2 (Median): {Q2}, Q3: {Q3}')"
      ],
      "outputs": [
        {
          "output_type": "stream",
          "name": "stdout",
          "text": [
            "Q1: 42.75, Q2 (Median): 64.5, Q3: 84.0\n"
          ]
        }
      ],
      "execution_count": null,
      "metadata": {
        "noteable": {
          "cell_type": "code"
        },
        "ExecuteTime": {
          "end_time": "2023-07-04T21:24:49.653504+00:00",
          "start_time": "2023-07-04T21:24:49.492111+00:00"
        }
      },
      "id": "d27d485d-3894-4067-8021-64bf3f815507"
    },
    {
      "cell_type": "markdown",
      "source": [
        "## Boxplot\n",
        "\n",
        "A boxplot is a standardized way of displaying the dataset based on a five-number summary: the minimum, the maximum, the sample median, and the first and third quartiles.\n",
        "\n",
        "In Python, you can create a boxplot using the seaborn library. Let's create a boxplot for our dataset."
      ],
      "metadata": {
        "noteable": {
          "cell_type": "markdown"
        }
      },
      "id": "629bcfae-9c2c-4080-9ca5-ffb89bee76c4"
    },
    {
      "cell_type": "code",
      "source": [
        "# Creating a boxplot\n",
        "sns.boxplot(data=data, x='value')\n",
        "plt.title('Boxplot of Values')\n",
        "plt.show()"
      ],
      "outputs": [
        {
          "output_type": "display_data",
          "data": {
            "image/png": "[encoded data removed]"
          },
          "metadata": {}
        }
      ],
      "execution_count": null,
      "metadata": {
        "noteable": {
          "cell_type": "code"
        },
        "ExecuteTime": {
          "end_time": "2023-07-04T21:25:12.930499+00:00",
          "start_time": "2023-07-04T21:25:12.383427+00:00"
        }
      },
      "id": "5f3c44e8-6718-49bb-b23c-b7093dc98581"
    },
    {
      "cell_type": "markdown",
      "source": [
        "## Conclusion\n",
        "\n",
        "In this notebook, we have explored the concept of dispersion measures in Python. We have calculated the standard deviation, range, and quartiles of a dataset and visualized these measures using a boxplot.\n",
        "\n",
        "These measures are essential in understanding the spread and variability of a dataset, which are crucial aspects in many data analysis tasks.\n",
        "\n"
      ],
      "metadata": {
        "noteable": {
          "cell_type": "markdown"
        }
      },
      "id": "848a978c-4a2b-478a-9ae5-72d31c023f9d"
    }
  ],
  "metadata": {
    "noteable-chatgpt": {
      "create_notebook": {
        "openai_conversation_id": "6eb3c9e7-c17a-5f20-bbbc-2389b74c7a36",
        "openai_ephemeral_user_id": "3af8edfd-ae3a-58ef-80b4-27e8917550be",
        "openai_subdivision1_iso_code": "MX-BCN"
      }
    },
    "noteable": {
      "last_transaction_id": "b3d97e1f-b3a7-49fd-9cfb-a55d795199a2",
      "last_delta_id": "b3d97e1f-b3a7-49fd-9cfb-a55d795199a2"
    },
    "selected_hardware_size": "small",
    "nteract": {
      "version": "noteable@2.9.0"
    }
  },
  "nbformat": 4,
  "nbformat_minor": 5
}