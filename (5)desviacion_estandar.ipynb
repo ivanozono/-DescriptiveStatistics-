{
  "cells": [
    {
      "cell_type": "markdown",
      "source": [
        "# Standard Deviation\n",
        "\n",
        "The standard deviation is a measure of the amount of variation or dispersion of a set of values. A low standard deviation indicates that the values tend to be close to the mean (also called the expected value) of the set, while a high standard deviation indicates that the values are spread out over a wider range.\n",
        "\n",
        "It's commonly used in statistics and data science to understand the variability in data. In this notebook, we will go through the concept of standard deviation step by step and implement it using Python."
      ],
      "metadata": {
        "noteable": {
          "cell_type": "markdown"
        }
      },
      "id": "aca1829a-f1ed-4466-ad7c-528a3edfeec3"
    },
    {
      "cell_type": "markdown",
      "source": [
        "## Step 1: Understanding the Data\n",
        "\n",
        "Before we dive into the calculation of standard deviation, let's first understand the data we are working with. For the purpose of this notebook, we will create a simple dataset using Python's built-in `range` function."
      ],
      "metadata": {
        "noteable": {
          "cell_type": "markdown"
        }
      },
      "id": "c670db3a-18de-4bd3-95e9-417ea15ae1e7"
    },
    {
      "cell_type": "code",
      "source": [
        "# Importing necessary libraries\n",
        "import numpy as np\n",
        "\n",
        "# Creating a simple dataset\n",
        "data = list(range(1, 11))\n",
        "print('Data:', data)"
      ],
      "outputs": [
        {
          "output_type": "stream",
          "name": "stdout",
          "text": [
            "Data: [1, 2, 3, 4, 5, 6, 7, 8, 9, 10]\n"
          ]
        }
      ],
      "execution_count": null,
      "metadata": {
        "noteable": {
          "cell_type": "code"
        },
        "ExecuteTime": {
          "end_time": "2023-07-04T21:12:15.343386+00:00",
          "start_time": "2023-07-04T21:12:15.185904+00:00"
        }
      },
      "id": "0134f772-ec57-4f71-9bf5-e848222f30cc"
    },
    {
      "cell_type": "markdown",
      "source": [
        "## Step 2: Calculating the Mean\n",
        "\n",
        "The first step in calculating the standard deviation is to find the mean (average) of the data. The mean is the sum of all the numbers in the dataset divided by the count of numbers in the dataset."
      ],
      "metadata": {
        "noteable": {
          "cell_type": "markdown"
        }
      },
      "id": "7e137584-0f7a-4614-9a1f-ad9637ec8e39"
    },
    {
      "cell_type": "code",
      "source": [
        "# Calculating the mean\n",
        "mean = np.mean(data)\n",
        "print('Mean:', mean)"
      ],
      "outputs": [
        {
          "output_type": "stream",
          "name": "stdout",
          "text": [
            "Mean: 5.5\n"
          ]
        }
      ],
      "execution_count": null,
      "metadata": {
        "noteable": {
          "cell_type": "code"
        },
        "ExecuteTime": {
          "end_time": "2023-07-04T21:12:35.168955+00:00",
          "start_time": "2023-07-04T21:12:35.011921+00:00"
        }
      },
      "id": "b6dee6b4-f365-4d3d-86a7-4cfe9a80f4ca"
    },
    {
      "cell_type": "markdown",
      "source": [
        "## Step 3: Calculating the Variance\n",
        "\n",
        "The next step is to calculate the variance. Variance is the average of the squared differences from the mean. Here's how to do it:\n",
        "\n",
        "1. Subtract the mean from each number in the data and square the result (the squared difference).\n",
        "2. Average these squared differences."
      ],
      "metadata": {
        "noteable": {
          "cell_type": "markdown"
        }
      },
      "id": "ec3587c0-ced7-4424-a8e9-e73dec9ba125"
    },
    {
      "cell_type": "code",
      "source": [
        "# Calculating the variance\n",
        "variance = np.var(data)\n",
        "print('Variance:', variance)"
      ],
      "outputs": [
        {
          "output_type": "stream",
          "name": "stdout",
          "text": [
            "Variance: 8.25\n"
          ]
        }
      ],
      "execution_count": null,
      "metadata": {
        "noteable": {
          "cell_type": "code"
        },
        "ExecuteTime": {
          "end_time": "2023-07-04T21:13:02.386366+00:00",
          "start_time": "2023-07-04T21:13:02.228709+00:00"
        }
      },
      "id": "3709089e-f911-4f65-824f-51e30e11e322"
    },
    {
      "cell_type": "markdown",
      "source": [
        "## Step 4: Calculating the Standard Deviation\n",
        "\n",
        "Finally, we can calculate the standard deviation. The standard deviation is simply the square root of the variance."
      ],
      "metadata": {
        "noteable": {
          "cell_type": "markdown"
        }
      },
      "id": "c31d338d-c4b0-4396-971e-61f03ef532dd"
    },
    {
      "cell_type": "code",
      "source": [
        "# Calculating the standard deviation\n",
        "std_dev = np.std(data)\n",
        "print('Standard Deviation:', std_dev)"
      ],
      "outputs": [
        {
          "output_type": "stream",
          "name": "stdout",
          "text": [
            "Standard Deviation: 2.8722813232690143\n"
          ]
        }
      ],
      "execution_count": null,
      "metadata": {
        "noteable": {
          "cell_type": "code"
        },
        "ExecuteTime": {
          "end_time": "2023-07-04T21:13:21.169679+00:00",
          "start_time": "2023-07-04T21:13:21.010481+00:00"
        }
      },
      "id": "3802f1c9-e602-40c7-b6d2-82860af71a19"
    },
    {
      "cell_type": "markdown",
      "source": [
        "## Conclusion\n",
        "\n",
        "In this notebook, we have gone through the concept of standard deviation and implemented it using Python. We learned that the standard deviation is a measure of the amount of variation or dispersion of a set of values. A low standard deviation indicates that the values tend to be close to the mean of the set, while a high standard deviation indicates that the values are spread out over a wider range.\n",
        "\n",
        "Understanding the standard deviation of a data set is a key aspect of a data scientist's work as it provides insights into data variability. It's an essential tool in exploratory data analysis, data cleaning, and data preprocessing."
      ],
      "metadata": {
        "noteable": {
          "cell_type": "markdown"
        }
      },
      "id": "a025b4f8-2f34-45a8-ab3d-54d63a061ce2"
    }
  ],
  "metadata": {
    "noteable-chatgpt": {
      "create_notebook": {
        "openai_conversation_id": "6eb3c9e7-c17a-5f20-bbbc-2389b74c7a36",
        "openai_ephemeral_user_id": "3af8edfd-ae3a-58ef-80b4-27e8917550be",
        "openai_subdivision1_iso_code": "MX-BCN"
      }
    },
    "noteable": {
      "last_transaction_id": "377f070b-0ab4-4f1d-997c-3e82f61e7f10",
      "last_delta_id": "377f070b-0ab4-4f1d-997c-3e82f61e7f10"
    },
    "selected_hardware_size": "small",
    "nteract": {
      "version": "noteable@2.9.0"
    }
  },
  "nbformat": 4,
  "nbformat_minor": 5
}